{
 "cells": [
  {
   "cell_type": "markdown",
   "metadata": {},
   "source": [
    "# Tagging genes with ddlite: candidate extraction\n",
    "\n",
    "## Introduction\n",
    "In this example **ddlite** app, we'll build a gene tagger from scratch. Domain-specific tagging systems take months or years to develop. They use hand-crafted model circuitry and accurate, hand-labeled training data. We'll start to build a pretty good one in a few minutes with none of those things. The generalized extraction and learning utilities provided by ddlite will allow us to turn a sampling of article abstracts and some basic domain knowledge into an automated tagging system. Specifically, we want an accurate tagger for genes in academic articles. We have comprehensive dictionaries of genes, but applying a simple matching rule might yield a lot of false positives. For example, \"p53\" might get tagged as a gene if it refers to a page number. Our goal is to use distant supervision to improve precision.\n",
    "\n",
    "Here's the pipeline we'll follow:\n",
    "\n",
    "1. Obtain and parse input data (relevant article abstracts from PubMed)\n",
    "2. Extract candidates for tagging\n",
    "3. Generate features\n",
    "4. Create a test set\n",
    "5. Write labeling functions\n",
    "6. Learn the tagging model\n",
    "7. Iterate on labeling functions\n",
    "\n",
    "Parts 1 and 2 are covered in this notebook, and parts 3 through 7 are covered in `GeneTaggerExample_Learning.ipynb`. Let's get to it."
   ]
  },
  {
   "cell_type": "code",
   "execution_count": 1,
   "metadata": {
    "collapsed": false
   },
   "outputs": [],
   "source": [
    "%load_ext autoreload\n",
    "%autoreload 2\n",
    "import cPickle, os, sys\n",
    "\n",
    "sys.path.insert(1, os.path.join(sys.path[0], '..'))\n",
    "\n",
    "from sqlalchemy import desc\n",
    "\n",
    "from snorkel.snorkel import *"
   ]
  },
  {
   "cell_type": "markdown",
   "metadata": {},
   "source": [
    "## Connects to database backend"
   ]
  },
  {
   "cell_type": "code",
   "execution_count": 2,
   "metadata": {
    "collapsed": false
   },
   "outputs": [],
   "source": [
    "session = SnorkelSession()"
   ]
  },
  {
   "cell_type": "markdown",
   "metadata": {},
   "source": [
    "## Processing the input data\n",
    "We already downloaded the raw HTML for 150 gene-related article pages from PubMed using the `pubmed_gene_html.py` script. These can be found in the `data` folder. We can use ddlite's `DocParser` to read in the article text. There's a general HTML parser which finds visible text, but we can do better by writing a more specific version to just grab the abstract text.\n",
    "\n",
    "We'll use CoreNLP via ddlite's `SentenceParser` to parse each sentence. `DocParser` can handle this too; we didn't really need that call above. This can take a little while, so if the example has already been run, we'll reload it."
   ]
  },
  {
   "cell_type": "code",
   "execution_count": 3,
   "metadata": {
    "collapsed": false
   },
   "outputs": [],
   "source": [
    "class PubMedAbstractParser(HTMLDocParser):\n",
    "    def _cleaner(self, s):\n",
    "        return (s.parent.name == 'abstracttext')\n",
    "\n",
    "dp = PubMedAbstractParser('gene_tag_example/data/')\n",
    "cp = CorpusParser(dp, SentenceParser())"
   ]
  },
  {
   "cell_type": "code",
   "execution_count": 4,
   "metadata": {
    "collapsed": false,
    "scrolled": true
   },
   "outputs": [],
   "source": [
    "corpus = cp.parse()\n",
    "corpus.id = 'Pubmed Abstracts'"
   ]
  },
  {
   "cell_type": "code",
   "execution_count": 5,
   "metadata": {
    "collapsed": false
   },
   "outputs": [
    {
     "name": "stdout",
     "output_type": "stream",
     "text": [
      "150\n"
     ]
    },
    {
     "data": {
      "text/plain": [
       "Document('10101268', None, None, '10101268.html', {})"
      ]
     },
     "execution_count": 5,
     "metadata": {},
     "output_type": "execute_result"
    }
   ],
   "source": [
    "docs = list(corpus.get_docs())\n",
    "print len(docs)\n",
    "docs[0]"
   ]
  },
  {
   "cell_type": "code",
   "execution_count": 6,
   "metadata": {
    "collapsed": false
   },
   "outputs": [
    {
     "name": "stdout",
     "output_type": "stream",
     "text": [
      "1225\n"
     ]
    },
    {
     "data": {
      "text/plain": [
       "Sentence('sent-10101268-0', None, 0, u'By constructing DNA probes we have identified and cloned a human PtdIns 4-kinase, PI4K230, corresponding to a mRNA of 7.0 kb.', [u'By', u'constructing', u'DNA', u'probes', u'we', u'have', u'identified', u'and', u'cloned', u'a', u'human', u'PtdIns', u'4-kinase', u',', u'PI4K230', u',', u'corresponding', u'to', u'a', u'mRNA', u'of', u'7.0', u'kb', u'.'], [u'by', u'construct', u'dna', u'probe', u'we', u'have', u'identify', u'and', u'clone', u'a', u'human', u'ptdins', u'4-kinase', u',', u'pi4k230', u',', u'correspond', u'to', u'a', u'mrna', u'of', u'7.0', u'kb', u'.'], [u'IN', u'VBG', u'NN', u'NNS', u'PRP', u'VBP', u'VBN', u'CC', u'VBN', u'DT', u'JJ', u'NN', u'NN', u',', u'NN', u',', u'VBG', u'TO', u'DT', u'NN', u'IN', u'CD', u'NN', u'.'], [2, 7, 4, 2, 7, 7, 0, 7, 7, 13, 13, 13, 9, 13, 13, 13, 13, 20, 20, 17, 23, 23, 20, 7], [u'mark', u'advcl', u'compound', u'dobj', u'nsubj', u'aux', u'ROOT', u'cc', u'conj', u'det', u'amod', u'compound', u'dobj', u'punct', u'appos', u'punct', u'acl', u'case', u'det', u'nmod', u'case', u'nummod', u'nmod', u'punct'], [0, 3, 16, 20, 27, 30, 35, 46, 50, 57, 59, 65, 72, 80, 82, 89, 91, 105, 108, 110, 115, 118, 122, 124])"
      ]
     },
     "execution_count": 6,
     "metadata": {},
     "output_type": "execute_result"
    }
   ],
   "source": [
    "sents = list(corpus.get_contexts())\n",
    "print len(sents)\n",
    "sents[0]"
   ]
  },
  {
   "cell_type": "markdown",
   "metadata": {},
   "source": [
    "## Persists corpus in database"
   ]
  },
  {
   "cell_type": "code",
   "execution_count": 7,
   "metadata": {
    "collapsed": false
   },
   "outputs": [],
   "source": [
    "session.add(corpus)\n",
    "session.commit()"
   ]
  },
  {
   "cell_type": "markdown",
   "metadata": {},
   "source": [
    "## Extracting candidates with matchers\n",
    "Extracting candidates for mentions (or relations) in ddlite is done with `Matcher` objects. First, we'll use a `DictionaryMatcher`. We have access to a pretty comprehensive gene dictionary. Let's load it in and create the `DictionaryMatcher`."
   ]
  },
  {
   "cell_type": "code",
   "execution_count": 7,
   "metadata": {
    "collapsed": false
   },
   "outputs": [],
   "source": [
    "from snorkel.matchers import DictionaryMatch\n",
    "\n",
    "# Schema is: ENSEMBL_ID | NAME | TYPE (refseq, canonical, non-canonical)\n",
    "genes = [line.rstrip().split('\\t')[1] for line in open('gene_tag_example/dicts/ensembl_genes.tsv')]\n",
    "genes = filter(lambda g : len(g) > 2, genes)\n",
    "\n",
    "gene_dm = DictionaryMatch(d=genes, ignore_case=False)"
   ]
  },
  {
   "cell_type": "markdown",
   "metadata": {},
   "source": [
    "The dictionary match should provide fairly high recall, but we may still miss some candidates. We know that gene names are named nouns and are often all uppercase. Let's use DDLite's *compositional* matcher operations to handle this. First, we'll write a matcher to find all nouns using the parts-of-speech tags. Then, we'll use a filter to find uppercase sequences. Finally, we'll use a filter to make sure each match has at least 3 characters. We pass `noun_rm` to `up_rm`, and `up_rm` to the final filter to compose them with each other."
   ]
  },
  {
   "cell_type": "code",
   "execution_count": 8,
   "metadata": {
    "collapsed": true
   },
   "outputs": [],
   "source": [
    "from snorkel.matchers import RegexMatchSpan, RegexMatchEach\n",
    "\n",
    "noun_regex  = RegexMatchEach(rgx=r'NN.*', attrib='poses')\n",
    "up_regex    = RegexMatchSpan(noun_regex, rgx=r'[A-Z]+([0-9]+)?([A-Z]+)?([0-9]+)?$', ignore_case=False, attrib='words')\n",
    "multi_regex = RegexMatchSpan(up_regex, rgx=r'[a-z0-9]{3,}', ignore_case=True, attrib='words')"
   ]
  },
  {
   "cell_type": "markdown",
   "metadata": {},
   "source": [
    "Now, we put it all together (as a legacy `CandidateExtractor` object):"
   ]
  },
  {
   "cell_type": "code",
   "execution_count": 9,
   "metadata": {
    "collapsed": true
   },
   "outputs": [],
   "source": [
    "from snorkel.candidates import Ngrams\n",
    "from snorkel.matchers import Union, CandidateExtractor\n",
    "\n",
    "ngrams = Ngrams(n_max=3)\n",
    "\n",
    "CE = CandidateExtractor(ngrams, Union(gene_dm, multi_regex))"
   ]
  },
  {
   "cell_type": "markdown",
   "metadata": {},
   "source": [
    "## Creating the candidates\n",
    "We'll use our unioned candidate extractor to extract our candidate entities from the sentences into an `Entities` object. Using both matchers together will provide very high recall, but may have poor precision. In the next demo notebook (`GeneTaggerExample_Learning.ipynb`), we'll write distant supervision rules and learn a model to improve precision."
   ]
  },
  {
   "cell_type": "code",
   "execution_count": 10,
   "metadata": {
    "collapsed": false
   },
   "outputs": [],
   "source": [
    "from snorkel.snorkel import Entities\n",
    "\n",
    "E = Entities(corpus.get_contexts(), CE)"
   ]
  },
  {
   "cell_type": "markdown",
   "metadata": {},
   "source": [
    "We can visualize contexts for our extractions too. This may help in writing labeling functions in `GeneTaggerExample_Learning.ipynb`."
   ]
  },
  {
   "cell_type": "code",
   "execution_count": 11,
   "metadata": {
    "collapsed": false
   },
   "outputs": [
    {
     "data": {
      "text/html": [
       "<style>\n",
       ".node {\n",
       "  cursor: pointer;\n",
       "}\n",
       "\n",
       ".node circle {\n",
       "  fill: #fff;\n",
       "  stroke: steelblue;\n",
       "  stroke-width: 3px;\n",
       "}\n",
       "\n",
       ".node text {\n",
       "  font: 12px sans-serif;\n",
       "}\n",
       "\n",
       ".edge {\n",
       "  fill: none;\n",
       "  stroke: #ccc;\n",
       "  stroke-width: 2px;\n",
       "  cursor: pointer;\n",
       "}\n",
       "\n",
       ".highlight {\n",
       "  stroke: red;\n",
       "  stroke-width: 3px;\n",
       "}\n",
       "</style>\n",
       "\n",
       "<!--Provide the canvas id (twice) and the words via python string formatting here--!>\n",
       "<div id=\"tree-chart-4929828392041590371\"></div>\n",
       "<div id=\"raw-seq-4929828392041590371\">\n",
       "<span class=\"word-4929828392041590371-0\">By</span> <span class=\"word-4929828392041590371-1\">constructing</span> <span class=\"word-4929828392041590371-2\">DNA</span> <span class=\"word-4929828392041590371-3\">probes</span> <span class=\"word-4929828392041590371-4\">we</span> <span class=\"word-4929828392041590371-5\">have</span> <span class=\"word-4929828392041590371-6\">identified</span> <span class=\"word-4929828392041590371-7\">and</span> <span class=\"word-4929828392041590371-8\">cloned</span> <span class=\"word-4929828392041590371-9\">a</span> <span class=\"word-4929828392041590371-10\">human</span> <span class=\"word-4929828392041590371-11\">PtdIns</span> <span class=\"word-4929828392041590371-12\">4-kinase</span> <span class=\"word-4929828392041590371-13\">,</span> <span class=\"word-4929828392041590371-14\">PI4K230</span> <span class=\"word-4929828392041590371-15\">,</span> <span class=\"word-4929828392041590371-16\">corresponding</span> <span class=\"word-4929828392041590371-17\">to</span> <span class=\"word-4929828392041590371-18\">a</span> <span class=\"word-4929828392041590371-19\">mRNA</span> <span class=\"word-4929828392041590371-20\">of</span> <span class=\"word-4929828392041590371-21\">7.0</span> <span class=\"word-4929828392041590371-22\">kb</span> <span class=\"word-4929828392041590371-23\">.</span>\n",
       "</div>\n"
      ]
     },
     "metadata": {},
     "output_type": "display_data"
    },
    {
     "data": {
      "application/javascript": [
       "$.getScript(\"http://d3js.org/d3.v3.min.js\", function () {\n",
       "// See http://bl.ocks.org/d3noob/8375092\n",
       "// Three vars need to be provided via python string formatting:\n",
       "var chartId = \"4929828392041590371\";\n",
       "var root = {\"attrib\": {\"word\": \"identified\", \"char_offset\": \"35\", \"pos\": \"VBN\", \"lemma\": \"identify\", \"dep_label\": \"ROOT\", \"word_idx\": \"6\", \"dep_parent\": \"0\"}, \"children\": [{\"attrib\": {\"word\": \"constructing\", \"char_offset\": \"3\", \"pos\": \"VBG\", \"lemma\": \"construct\", \"dep_label\": \"advcl\", \"word_idx\": \"1\", \"dep_parent\": \"7\"}, \"children\": [{\"attrib\": {\"word\": \"By\", \"char_offset\": \"0\", \"pos\": \"IN\", \"lemma\": \"by\", \"dep_label\": \"mark\", \"word_idx\": \"0\", \"dep_parent\": \"2\"}, \"children\": []}, {\"attrib\": {\"word\": \"probes\", \"char_offset\": \"20\", \"pos\": \"NNS\", \"lemma\": \"probe\", \"dep_label\": \"dobj\", \"word_idx\": \"3\", \"dep_parent\": \"2\"}, \"children\": [{\"attrib\": {\"word\": \"DNA\", \"char_offset\": \"16\", \"pos\": \"NN\", \"lemma\": \"dna\", \"dep_label\": \"compound\", \"word_idx\": \"2\", \"dep_parent\": \"4\"}, \"children\": []}]}]}, {\"attrib\": {\"word\": \"we\", \"char_offset\": \"27\", \"pos\": \"PRP\", \"lemma\": \"we\", \"dep_label\": \"nsubj\", \"word_idx\": \"4\", \"dep_parent\": \"7\"}, \"children\": []}, {\"attrib\": {\"word\": \"have\", \"char_offset\": \"30\", \"pos\": \"VBP\", \"lemma\": \"have\", \"dep_label\": \"aux\", \"word_idx\": \"5\", \"dep_parent\": \"7\"}, \"children\": []}, {\"attrib\": {\"word\": \"and\", \"char_offset\": \"46\", \"pos\": \"CC\", \"lemma\": \"and\", \"dep_label\": \"cc\", \"word_idx\": \"7\", \"dep_parent\": \"7\"}, \"children\": []}, {\"attrib\": {\"word\": \"cloned\", \"char_offset\": \"50\", \"pos\": \"VBN\", \"lemma\": \"clone\", \"dep_label\": \"conj\", \"word_idx\": \"8\", \"dep_parent\": \"7\"}, \"children\": [{\"attrib\": {\"word\": \"4-kinase\", \"char_offset\": \"72\", \"pos\": \"NN\", \"lemma\": \"4-kinase\", \"dep_label\": \"dobj\", \"word_idx\": \"12\", \"dep_parent\": \"9\"}, \"children\": [{\"attrib\": {\"word\": \"a\", \"char_offset\": \"57\", \"pos\": \"DT\", \"lemma\": \"a\", \"dep_label\": \"det\", \"word_idx\": \"9\", \"dep_parent\": \"13\"}, \"children\": []}, {\"attrib\": {\"word\": \"human\", \"char_offset\": \"59\", \"pos\": \"JJ\", \"lemma\": \"human\", \"dep_label\": \"amod\", \"word_idx\": \"10\", \"dep_parent\": \"13\"}, \"children\": []}, {\"attrib\": {\"word\": \"PtdIns\", \"char_offset\": \"65\", \"pos\": \"NN\", \"lemma\": \"ptdins\", \"dep_label\": \"compound\", \"word_idx\": \"11\", \"dep_parent\": \"13\"}, \"children\": []}, {\"attrib\": {\"word\": \",\", \"char_offset\": \"80\", \"pos\": \",\", \"lemma\": \",\", \"dep_label\": \"punct\", \"word_idx\": \"13\", \"dep_parent\": \"13\"}, \"children\": []}, {\"attrib\": {\"word\": \"PI4K230\", \"char_offset\": \"82\", \"pos\": \"NN\", \"lemma\": \"pi4k230\", \"dep_label\": \"appos\", \"word_idx\": \"14\", \"dep_parent\": \"13\"}, \"children\": []}, {\"attrib\": {\"word\": \",\", \"char_offset\": \"89\", \"pos\": \",\", \"lemma\": \",\", \"dep_label\": \"punct\", \"word_idx\": \"15\", \"dep_parent\": \"13\"}, \"children\": []}, {\"attrib\": {\"word\": \"corresponding\", \"char_offset\": \"91\", \"pos\": \"VBG\", \"lemma\": \"correspond\", \"dep_label\": \"acl\", \"word_idx\": \"16\", \"dep_parent\": \"13\"}, \"children\": [{\"attrib\": {\"word\": \"mRNA\", \"char_offset\": \"110\", \"pos\": \"NN\", \"lemma\": \"mrna\", \"dep_label\": \"nmod\", \"word_idx\": \"19\", \"dep_parent\": \"17\"}, \"children\": [{\"attrib\": {\"word\": \"to\", \"char_offset\": \"105\", \"pos\": \"TO\", \"lemma\": \"to\", \"dep_label\": \"case\", \"word_idx\": \"17\", \"dep_parent\": \"20\"}, \"children\": []}, {\"attrib\": {\"word\": \"a\", \"char_offset\": \"108\", \"pos\": \"DT\", \"lemma\": \"a\", \"dep_label\": \"det\", \"word_idx\": \"18\", \"dep_parent\": \"20\"}, \"children\": []}, {\"attrib\": {\"word\": \"kb\", \"char_offset\": \"122\", \"pos\": \"NN\", \"lemma\": \"kb\", \"dep_label\": \"nmod\", \"word_idx\": \"22\", \"dep_parent\": \"20\"}, \"children\": [{\"attrib\": {\"word\": \"of\", \"char_offset\": \"115\", \"pos\": \"IN\", \"lemma\": \"of\", \"dep_label\": \"case\", \"word_idx\": \"20\", \"dep_parent\": \"23\"}, \"children\": []}, {\"attrib\": {\"word\": \"7.0\", \"char_offset\": \"118\", \"pos\": \"CD\", \"lemma\": \"7.0\", \"dep_label\": \"nummod\", \"word_idx\": \"21\", \"dep_parent\": \"23\"}, \"children\": []}]}]}]}]}]}, {\"attrib\": {\"word\": \".\", \"char_offset\": \"124\", \"pos\": \".\", \"lemma\": \".\", \"dep_label\": \"punct\", \"word_idx\": \"23\", \"dep_parent\": \"7\"}, \"children\": []}]};\n",
       "var highlightIdxs = [[2]];\n",
       "\n",
       "// Highlight words / nodes\n",
       "var COLORS = [\"#ff5c33\", \"#ffcc00\", \"#33cc33\", \"#3399ff\"];\n",
       "function highlightWords() {\n",
       "  for (var i=0; i < highlightIdxs.length; i++) {\n",
       "    var c = COLORS[i];\n",
       "    var idxs = highlightIdxs[i];\n",
       "    for (var j=0; j < idxs.length; j++) {\n",
       "      d3.selectAll(\".word-\"+chartId+\"-\"+idxs[j]).style(\"stroke\", c).style(\"background\", c);\n",
       "    }\n",
       "  }\n",
       "}\n",
       "\n",
       "// Constants\n",
       "var margin = {top: 20, right: 20, bottom: 20, left: 20},\n",
       "width = 800 - margin.left - margin.right,\n",
       "height = 350 - margin.top - margin.bottom,\n",
       "R = 5;\n",
       "\n",
       "// Create the d3 tree object\n",
       "var tree = d3.layout.tree()\n",
       "  .size([width, height]);\n",
       "\n",
       "// Create the svg canvas\n",
       "var svg = d3.select(\"#tree-chart-\" + chartId)\n",
       "  .append(\"svg\")\n",
       "  .attr(\"width\", width + margin.left + margin.right)\n",
       "  .attr(\"height\", height + margin.top + margin.bottom)\n",
       "  .append(\"g\")\n",
       "  .attr(\"transform\", \"translate(\" + margin.left + \",\" + margin.top + \")\");\n",
       "\n",
       "function renderTree() {\n",
       "  var nodes = tree.nodes(root),\n",
       "  edges = tree.links(nodes);\n",
       "\n",
       "  // Place the nodes\n",
       "  var nodeGroups = svg.selectAll(\"g.node\")\n",
       "    .data(nodes)\n",
       "    .enter().append(\"g\")\n",
       "    .attr(\"class\", \"node\")\n",
       "    .attr(\"transform\", function(d) { return \"translate(\" + d.x + \",\" + d.y + \")\"; });\n",
       "       \n",
       "  // Append circles\n",
       "  nodeGroups.append(\"circle\")\n",
       "    //.on(\"click\", function() {\n",
       "    //  d3.select(this).classed(\"highlight\", !d3.select(this).classed(\"highlight\")); })\n",
       "    .attr(\"r\", R)\n",
       "    .attr(\"class\", function(d) { return \"word-\"+chartId+\"-\"+d.attrib.word_idx; });\n",
       "     \n",
       "  // Append the actual word\n",
       "  nodeGroups.append(\"text\")\n",
       "    .text(function(d) { return d.attrib.word; })\n",
       "    .attr(\"text-anchor\", function(d) { \n",
       "      return d.children && d.children.length > 0 ? \"start\" : \"middle\"; })\n",
       "    .attr(\"dx\", function(d) { \n",
       "      return d.children && d.children.length > 0 ? R + 3 : 0; })\n",
       "    .attr(\"dy\", function(d) { \n",
       "      return d.children && d.children.length > 0 ? 0 : 3*R + 3; });\n",
       "\n",
       "  // Place the edges\n",
       "  var edgePaths = svg.selectAll(\"path\")\n",
       "    .data(edges)\n",
       "    .enter().append(\"path\")\n",
       "    .attr(\"class\", \"edge\")\n",
       "    .on(\"click\", function() {\n",
       "      d3.select(this).classed(\"highlight\", !d3.select(this).classed(\"highlight\")); })\n",
       "    .attr(\"d\", d3.svg.diagonal());\n",
       "}\n",
       "\n",
       "renderTree();\n",
       "highlightWords();\n",
       "});\n"
      ]
     },
     "metadata": {},
     "output_type": "display_data"
    }
   ],
   "source": [
    "E[0].render()"
   ]
  },
  {
   "cell_type": "markdown",
   "metadata": {},
   "source": [
    "Finally, we'll pickle the extracted candidates from our `Entities` object for use in `GeneTaggerExample_Learning.ipynb`."
   ]
  },
  {
   "cell_type": "code",
   "execution_count": null,
   "metadata": {
    "collapsed": false
   },
   "outputs": [],
   "source": [
    "E.dump_candidates('gene_tag_example/gene_tag_saved_entities_v6.pkl')"
   ]
  },
  {
   "cell_type": "code",
   "execution_count": null,
   "metadata": {
    "collapsed": true
   },
   "outputs": [],
   "source": []
  }
 ],
 "metadata": {
  "kernelspec": {
   "display_name": "Python 2",
   "language": "python",
   "name": "python2"
  },
  "language_info": {
   "codemirror_mode": {
    "name": "ipython",
    "version": 2
   },
   "file_extension": ".py",
   "mimetype": "text/x-python",
   "name": "python",
   "nbconvert_exporter": "python",
   "pygments_lexer": "ipython2",
   "version": "2.7.12"
  },
  "widgets": {
   "state": {},
   "version": "1.1.2"
  }
 },
 "nbformat": 4,
 "nbformat_minor": 0
}
