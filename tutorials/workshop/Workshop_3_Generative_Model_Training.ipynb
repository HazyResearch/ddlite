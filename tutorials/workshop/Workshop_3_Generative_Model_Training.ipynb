{
 "cells": [
  {
   "cell_type": "markdown",
   "metadata": {},
   "source": [
    "<img align=\"left\" src=\"imgs/logo.jpg\" width=\"50px\" style=\"margin-right:10px\">\n",
    "\n",
    "# Snorkel Workshop: Extracting Spouse Relations <br> from the News\n",
    "## Part 3: Training the Label Model\n",
    "\n",
    "Now, we'll train a model of the LFs to estimate their accuracies. Once the model is trained, we can combine the outputs of the LFs into a single, noise-aware training label set for our extractor. Intuitively, we'll model the LFs by observing how they overlap and conflict with each other."
   ]
  },
  {
   "cell_type": "code",
   "execution_count": 1,
   "metadata": {},
   "outputs": [],
   "source": [
    "%load_ext autoreload\n",
    "%autoreload 2\n",
    "%matplotlib inline\n",
    "import os\n",
    "import re\n",
    "import numpy as np\n",
    "import pandas as pd"
   ]
  },
  {
   "cell_type": "markdown",
   "metadata": {},
   "source": [
    "# I. Loading Data\n",
    "\n",
    "First we'll load our label matrices from notebook 2"
   ]
  },
  {
   "cell_type": "code",
   "execution_count": 2,
   "metadata": {},
   "outputs": [],
   "source": [
    "import pickle\n",
    "\n",
    "with open('token_dev_data.pkl', 'rb') as f:\n",
    "    dev_data = pickle.load(f)\n",
    "    dev_labels = pickle.load(f)\n",
    "    \n",
    "with open('token_train_data.pkl', 'rb') as f:\n",
    "    train_data = pickle.load(f)\n",
    "    train_labels = pickle.load(f)\n",
    "\n",
    "with open('dev_L.pkl', 'rb') as f:\n",
    "    dev_L = pickle.load(f)\n",
    "    \n",
    "with open('train_L.pkl', 'rb') as f:\n",
    "    train_L = pickle.load(f)"
   ]
  },
  {
   "cell_type": "markdown",
   "metadata": {},
   "source": [
    "# II: Unifying supervision"
   ]
  },
  {
   "cell_type": "markdown",
   "metadata": {},
   "source": [
    "## Label Model\n",
    "In Snorkel, we use a sophisitcated model to unify our labeling functions. We know that these labeling functions will not be perfect, and some may be quite low-quality, so we will _model_ their accuracies with a factor-graph based label model, which Snorkel will help us easily apply.\n",
    "\n",
    "This will ultimately produce a single set of **noise-aware training labels**, which we will then use to train an end extraction model in the next notebook.  For more technical details of this overall approach, see our [NIPS 2016](https://arxiv.org/abs/1605.07723) and [AAAI 2019](https://arxiv.org/abs/1810.02840) papers.\n",
    "\n",
    "**NOTE: Make sure you've written some of your own LFs in the previous notebook to get a decent score!!!**"
   ]
  },
  {
   "cell_type": "markdown",
   "metadata": {},
   "source": [
    "### 1. Training the Model\n",
    "When training the generative model, we'll tune our hyperparamters using a simple grid search. \n",
    "\n",
    "**Parameter Definitions**\n",
    "    \n",
    "    lr  The factor by which we update model weights after computing the gradient\n",
    "    class_balance Proportion of [positive, negative] samples in the dataset\n",
    "    n_epochs     A single pass through all the data in your training set"
   ]
  },
  {
   "cell_type": "code",
   "execution_count": 3,
   "metadata": {},
   "outputs": [
    {
     "name": "stdout",
     "output_type": "stream",
     "text": [
      "Computing O...\n",
      "Estimating \\mu...\n",
      "[500 epo]: TRAIN:[loss=0.001]\n",
      "[1000 epo]: TRAIN:[loss=0.001]\n",
      "[1500 epo]: TRAIN:[loss=0.001]\n",
      "[2000 epo]: TRAIN:[loss=0.001]\n",
      "[2500 epo]: TRAIN:[loss=0.001]\n",
      "[3000 epo]: TRAIN:[loss=0.001]\n",
      "[3500 epo]: TRAIN:[loss=0.001]\n",
      "[4000 epo]: TRAIN:[loss=0.001]\n",
      "[4500 epo]: TRAIN:[loss=0.001]\n",
      "[5000 epo]: TRAIN:[loss=0.001]\n",
      "Finished Training\n"
     ]
    }
   ],
   "source": [
    "from snorkel.labeling.model.baselines import MajorityLabelVoter\n",
    "from snorkel.labeling.model.label_model import LabelModel\n",
    "from snorkel.model.utils import plusminus_to_categorical\n",
    "\n",
    "train_L_converted = plusminus_to_categorical(train_L.toarray())\n",
    "\n",
    "label_model = LabelModel(k=2, verbose=True)\n",
    "label_model.train_model(\n",
    "            train_L_converted,\n",
    "            lr = 1e-1,\n",
    "            class_balance=[0.2,0.8],\n",
    "            n_epochs=5000,\n",
    "            log_train_every=500,\n",
    "            seed=12\n",
    "        )"
   ]
  },
  {
   "cell_type": "markdown",
   "metadata": {},
   "source": [
    "### 2. Label Model Metrics\n",
    "These are the weights learned for each LF"
   ]
  },
  {
   "cell_type": "code",
   "execution_count": 4,
   "metadata": {},
   "outputs": [
    {
     "name": "stdout",
     "output_type": "stream",
     "text": [
      "Accuracy: 0.905\n",
      "F1: 0.431\n",
      "Precision: 0.373\n",
      "Recall: 0.511\n",
      "        y=1    y=2   \n",
      " l=1    97     163   \n",
      " l=2    93    2350   \n"
     ]
    }
   ],
   "source": [
    "dev_L_converted = plusminus_to_categorical(dev_L.toarray())\n",
    "score = label_model.score((dev_L_converted, plusminus_to_categorical(dev_labels)), metric=['accuracy','f1', 'precision', 'recall'])"
   ]
  },
  {
   "cell_type": "markdown",
   "metadata": {},
   "source": [
    "### 3. Plotting Marginal Probabilities\n",
    "One immediate santity check  you can peform using the generative model is to visually examine the distribution of predicted training marginals. Ideally, there should get a bimodal distribution with large seperation between each peaks, as shown below by the far right image. The corresponds to good signal for true and positive class labels. For your first Snorkel application, you'll probably see marginals closer to the far left or middle images. With all mass centered around p=0.5, you probably need to write more LFs got get more overall _coverage_. In the middle image, you have good negative coverage, but not enough positive LFs\n",
    "\n",
    "<img align=\"left\" src=\"imgs/marginals-common.jpg\" width=\"265px\" style=\"margin-right:0px\">\n",
    "\n",
    "<img align=\"left\" src=\"imgs/marginals-real.jpg\" width=\"265px\" style=\"margin-right:0px\">\n",
    "\n",
    "<img align=\"left\" src=\"imgs/marginals-ideal.jpg\" width=\"265px\" style=\"margin-right:0px\">\n"
   ]
  },
  {
   "cell_type": "code",
   "execution_count": 5,
   "metadata": {},
   "outputs": [
    {
     "data": {
      "image/png": "[encoded data removed]",
      "text/plain": [
       "<Figure size 432x288 with 1 Axes>"
      ]
     },
     "metadata": {
      "needs_background": "light"
     },
     "output_type": "display_data"
    }
   ],
   "source": [
    "import matplotlib.pyplot as plt\n",
    "train_marginals = label_model.predict_proba(dev_L_converted)\n",
    "plt.hist(train_marginals[:,0], bins=20, range=(0.0, 1.0))\n",
    "plt.show()"
   ]
  },
  {
   "cell_type": "markdown",
   "metadata": {},
   "source": [
    "### 5. Saving our training labels\n",
    "\n",
    "Finally, we'll save the `training_marginals`, which are our **\"noise-aware training labels\"**, so that we can use them to train a downstream machine learning model."
   ]
  },
  {
   "cell_type": "code",
   "execution_count": 6,
   "metadata": {},
   "outputs": [],
   "source": [
    "dev_marginals = label_model.predict_proba(dev_L_converted)\n",
    "with open('dev_marginals.pkl', 'wb') as f:\n",
    "    pickle.dump(dev_marginals, f)\n",
    "    \n",
    "train_marginals = label_model.predict_proba(train_L_converted)\n",
    "with open('train_marginals.pkl', 'wb') as f:\n",
    "    pickle.dump(train_marginals, f)"
   ]
  }
 ],
 "metadata": {
  "anaconda-cloud": {},
  "kernelspec": {
   "display_name": "Python 3",
   "language": "python",
   "name": "python3"
  },
  "language_info": {
   "codemirror_mode": {
    "name": "ipython",
    "version": 3
   },
   "file_extension": ".py",
   "mimetype": "text/x-python",
   "name": "python",
   "nbconvert_exporter": "python",
   "pygments_lexer": "ipython3",
   "version": "3.6.7"
  }
 },
 "nbformat": 4,
 "nbformat_minor": 1
}
