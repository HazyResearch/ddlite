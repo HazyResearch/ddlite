{
 "cells": [
  {
   "cell_type": "markdown",
   "metadata": {},
   "source": [
    "<img align=\"left\" src=\"imgs/logo.jpg\" width=\"50px\" style=\"margin-right:10px\">\n",
    "\n",
    "# Snorkel Workshop \n",
    "## Part 1: Snorkel API\n",
    "\n",
    "We will walk through an example text classification task to explore how Snorkel works with user-defined LFs. For this notebook, and the ones that follow, run every cell in the notebook (unless otherwise noted) before proceeding to the next one!"
   ]
  },
  {
   "cell_type": "markdown",
   "metadata": {},
   "source": [
    "### Data Download\n",
    "\n",
    "Make sure `train.pkl`, `dev.pkl`, and `test.pkl` are in the `tutorials/workshop/` directory.\n",
    "\n",
    "If you do not have these files, run \n",
    "\n",
    "    wget https://www.dropbox.com/s/jmrvyaqew4zp9cy/spouse_data.zip\n",
    "    unzip spouse_data.zip"
   ]
  },
  {
   "cell_type": "markdown",
   "metadata": {},
   "source": [
    "### Classification Task\n",
    "<img src=\"imgs/sentence.jpg\" width=\"700px;\">\n",
    "\n",
    "We want to classify each __candidate__ or pair of people mentioned in a sentence, as being married at some point or not.\n",
    "\n",
    "In the above example, our candidate represents the possible relation `(Barack Obama, Michelle Obama)`. As readers, we know this mention is true due to external knowledge and the keyword of `wedding` occuring later in the sentence."
   ]
  },
  {
   "cell_type": "code",
   "execution_count": 1,
   "metadata": {},
   "outputs": [],
   "source": [
    "%load_ext autoreload\n",
    "%autoreload 2\n",
    "%matplotlib inline\n",
    "\n",
    "import pickle\n",
    "import pandas as pd"
   ]
  },
  {
   "cell_type": "code",
   "execution_count": 2,
   "metadata": {},
   "outputs": [],
   "source": [
    "with open('new_dev_data.pkl', 'rb') as f:\n",
    "    dev_data = pickle.load(f)\n",
    "    dev_labels = pickle.load(f)\n",
    "    \n",
    "with open('new_train_data.pkl', 'rb') as f:\n",
    "    train_data = pickle.load(f)\n",
    "    train_labels = pickle.load(f)"
   ]
  },
  {
   "cell_type": "markdown",
   "metadata": {},
   "source": [
    "**Input Data:** `train_data` and `dev_data` are Pandas DataFrame objects, where each row represents a particular __candidate__. The DataFrames contain the fields `sentence`, which refers to the sentence the candidate is in, `tokens`, the tokenized form of the sentence, `person1_word_idx` and `person2_word_idx`, which represent `[start, end]` indices in the tokens at which the first and second person's name appear, respectively. \n",
    "\n",
    "For the purpose of this tutorial, we also have certain **preprocessed fields**, that we discuss a few cells below."
   ]
  },
  {
   "cell_type": "code",
   "execution_count": 3,
   "metadata": {},
   "outputs": [
    {
     "data": {
      "text/html": [
       "<div>\n",
       "<style scoped>\n",
       "    .dataframe tbody tr th:only-of-type {\n",
       "        vertical-align: middle;\n",
       "    }\n",
       "\n",
       "    .dataframe tbody tr th {\n",
       "        vertical-align: top;\n",
       "    }\n",
       "\n",
       "    .dataframe thead th {\n",
       "        text-align: right;\n",
       "    }\n",
       "</style>\n",
       "<table border=\"1\" class=\"dataframe\">\n",
       "  <thead>\n",
       "    <tr style=\"text-align: right;\">\n",
       "      <th></th>\n",
       "      <th>person1_word_idx</th>\n",
       "      <th>person2_word_idx</th>\n",
       "      <th>sentence</th>\n",
       "      <th>tokens</th>\n",
       "      <th>person1_right_tokens</th>\n",
       "      <th>person2_right_tokens</th>\n",
       "      <th>between_tokens</th>\n",
       "    </tr>\n",
       "  </thead>\n",
       "  <tbody>\n",
       "    <tr>\n",
       "      <th>5</th>\n",
       "      <td>(3, 4)</td>\n",
       "      <td>(8, 9)</td>\n",
       "      <td>Us Weekly reported Andy Cohen and Hanks’ wife ...</td>\n",
       "      <td>[Us, Weekly, reported, Andy, Cohen, and, Hanks...</td>\n",
       "      <td>[and, Hanks’, wife, Rita]</td>\n",
       "      <td>[,, who, plays, Williams’]</td>\n",
       "      <td>[and, Hanks’, wife]</td>\n",
       "    </tr>\n",
       "    <tr>\n",
       "      <th>6</th>\n",
       "      <td>(0, 0)</td>\n",
       "      <td>(2, 3)</td>\n",
       "      <td>Williams and Ven Veen arrived at the ranch ear...</td>\n",
       "      <td>[Williams, and, Ven, Veen, arrived, at, the, r...</td>\n",
       "      <td>[and, Ven, Veen, arrived]</td>\n",
       "      <td>[arrived, at, the, ranch]</td>\n",
       "      <td>[and]</td>\n",
       "    </tr>\n",
       "    <tr>\n",
       "      <th>7</th>\n",
       "      <td>(44, 45)</td>\n",
       "      <td>(51, 51)</td>\n",
       "      <td>As Agrecovery now offers a recycling solution ...</td>\n",
       "      <td>[As, Agrecovery, now, offers, a, recycling, so...</td>\n",
       "      <td>[, With, FIL, joining]</td>\n",
       "      <td>[is, now, supported, by]</td>\n",
       "      <td>[, With, FIL, joining, ,]</td>\n",
       "    </tr>\n",
       "    <tr>\n",
       "      <th>8</th>\n",
       "      <td>(11, 12)</td>\n",
       "      <td>(32, 32)</td>\n",
       "      <td>Joining him on the red carpet was his co-star ...</td>\n",
       "      <td>[Joining, him, on, the, red, carpet, was, his,...</td>\n",
       "      <td>[,, 26, ,, who]</td>\n",
       "      <td>[s, ,, with, the]</td>\n",
       "      <td>[,, 26, ,, who, looked, chic, in, a, very, fem...</td>\n",
       "    </tr>\n",
       "    <tr>\n",
       "      <th>9</th>\n",
       "      <td>(0, 0)</td>\n",
       "      <td>(4, 4)</td>\n",
       "      <td>Richards and her sister Kyle have been regular...</td>\n",
       "      <td>[Richards, and, her, sister, Kyle, have, been,...</td>\n",
       "      <td>[and, her, sister, Kyle]</td>\n",
       "      <td>[have, been, regular, cast]</td>\n",
       "      <td>[and, her, sister]</td>\n",
       "    </tr>\n",
       "  </tbody>\n",
       "</table>\n",
       "</div>"
      ],
      "text/plain": [
       "  person1_word_idx person2_word_idx  \\\n",
       "5           (3, 4)           (8, 9)   \n",
       "6           (0, 0)           (2, 3)   \n",
       "7         (44, 45)         (51, 51)   \n",
       "8         (11, 12)         (32, 32)   \n",
       "9           (0, 0)           (4, 4)   \n",
       "\n",
       "                                            sentence  \\\n",
       "5  Us Weekly reported Andy Cohen and Hanks’ wife ...   \n",
       "6  Williams and Ven Veen arrived at the ranch ear...   \n",
       "7  As Agrecovery now offers a recycling solution ...   \n",
       "8  Joining him on the red carpet was his co-star ...   \n",
       "9  Richards and her sister Kyle have been regular...   \n",
       "\n",
       "                                              tokens  \\\n",
       "5  [Us, Weekly, reported, Andy, Cohen, and, Hanks...   \n",
       "6  [Williams, and, Ven, Veen, arrived, at, the, r...   \n",
       "7  [As, Agrecovery, now, offers, a, recycling, so...   \n",
       "8  [Joining, him, on, the, red, carpet, was, his,...   \n",
       "9  [Richards, and, her, sister, Kyle, have, been,...   \n",
       "\n",
       "        person1_right_tokens         person2_right_tokens  \\\n",
       "5  [and, Hanks’, wife, Rita]   [,, who, plays, Williams’]   \n",
       "6  [and, Ven, Veen, arrived]    [arrived, at, the, ranch]   \n",
       "7     [, With, FIL, joining]     [is, now, supported, by]   \n",
       "8            [,, 26, ,, who]            [s, ,, with, the]   \n",
       "9   [and, her, sister, Kyle]  [have, been, regular, cast]   \n",
       "\n",
       "                                      between_tokens  \n",
       "5                                [and, Hanks’, wife]  \n",
       "6                                              [and]  \n",
       "7                          [, With, FIL, joining, ,]  \n",
       "8  [,, 26, ,, who, looked, chic, in, a, very, fem...  \n",
       "9                                 [and, her, sister]  "
      ]
     },
     "execution_count": 3,
     "metadata": {},
     "output_type": "execute_result"
    }
   ],
   "source": [
    "dev_data[5:10]"
   ]
  },
  {
   "cell_type": "markdown",
   "metadata": {},
   "source": [
    "You'll interact with these candidates while writing labeling functions in Snorkel. We look at a candidate in the development set:"
   ]
  },
  {
   "cell_type": "code",
   "execution_count": 4,
   "metadata": {},
   "outputs": [
    {
     "name": "stdout",
     "output_type": "stream",
     "text": [
      "Sentence:   \t The engagement between Josh, who was previously married to Diane Lane, and his  former assistant was revealed in May, after a two year romance.   \n",
      "Person 1:   \t Josh\n",
      "Person 2:   \t Diane Lane\n"
     ]
    }
   ],
   "source": [
    "from spouse_preprocessors import get_person_text\n",
    "\n",
    "candidate = dev_data.loc[112]\n",
    "person_names = get_person_text(candidate)\n",
    "\n",
    "print(\"Sentence:   \\t\", candidate['sentence'])\n",
    "print(\"Person 1:   \\t\", person_names[0])\n",
    "print(\"Person 2:   \\t\", person_names[1])"
   ]
  },
  {
   "cell_type": "markdown",
   "metadata": {},
   "source": [
    "### Labeling Function Helpers\n",
    "\n",
    "When writing labeling functions, there are several operators you will use over and over again; fetching text between mentions of the two people in a candidate, examing word windows around person mentions, etc. \n",
    "\n",
    "We provide several helper functions in `spouse_preprocessors`:  these are Python helper functions that you can apply to candidates in the DataFrame to return objects that are helpful during LF development. You can (and should!) write your own helper functions to help write LFs.\n",
    "\n",
    "We provide an example of a preprocessor definition and usage here:"
   ]
  },
  {
   "cell_type": "code",
   "execution_count": 5,
   "metadata": {},
   "outputs": [],
   "source": [
    "from snorkel.labeling.preprocess import Preprocessor, PreprocessorMode, preprocessor\n",
    "from snorkel.types import FieldMap\n",
    "\n",
    "@preprocessor\n",
    "def get_text_between(tokens, person1_word_idx, person2_word_idx) -> FieldMap:\n",
    "    \"\"\"\n",
    "    Returns the text between the two person mentions in the sentence for a candidate\n",
    "    \"\"\"\n",
    "    start = person1_word_idx[1] + 1\n",
    "    end = person2_word_idx[0]\n",
    "    text_between = ' '.join(tokens[start:end])\n",
    "    return dict(text_between=text_between)"
   ]
  },
  {
   "cell_type": "code",
   "execution_count": 6,
   "metadata": {},
   "outputs": [
    {
     "data": {
      "text/plain": [
       "', who was previously married to'"
      ]
     },
     "execution_count": 6,
     "metadata": {},
     "output_type": "execute_result"
    }
   ],
   "source": [
    "get_text_between.set_mode(PreprocessorMode.PANDAS)\n",
    "get_text_between(candidate).text_between"
   ]
  },
  {
   "cell_type": "markdown",
   "metadata": {},
   "source": [
    "### Candidate PreProcessors\n",
    "\n",
    "We provide a set of helper functions for this task in `spouse_preprocessors.py` that take as input a candidate, or row of a DataFrame in our case. For the purpose of the tutorial, we have two of these fields preprocessed in the data\n",
    "\n",
    "`get_between_tokens(candidate)`\n",
    "\n",
    "`get_left_tokens(candidate)`\n",
    "\n",
    "`get_right_tokens(candidate)`"
   ]
  }
 ],
 "metadata": {
  "kernelspec": {
   "display_name": "Python 3",
   "language": "python",
   "name": "python3"
  },
  "language_info": {
   "codemirror_mode": {
    "name": "ipython",
    "version": 3
   },
   "file_extension": ".py",
   "mimetype": "text/x-python",
   "name": "python",
   "nbconvert_exporter": "python",
   "pygments_lexer": "ipython3",
   "version": "3.6.7"
  }
 },
 "nbformat": 4,
 "nbformat_minor": 2
}
