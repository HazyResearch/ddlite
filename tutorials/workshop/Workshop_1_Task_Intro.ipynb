{
 "cells": [
  {
   "cell_type": "markdown",
   "metadata": {},
   "source": [
    "<img align=\"left\" src=\"imgs/logo.jpg\" width=\"50px\" style=\"margin-right:10px\">\n",
    "\n",
    "# Snorkel Workshop \n",
    "## Part 1: Snorkel API\n",
    "\n",
    "We will walk through an example text classification task to explore how Snorkel works with user-defined LFs."
   ]
  },
  {
   "cell_type": "markdown",
   "metadata": {},
   "source": [
    "### Data Download\n",
    "\n",
    "Make sure `train.pkl`, `dev.pkl`, and `test.pkl` are in the `tutorials/workshop/` directory.\n",
    "\n",
    "If you do not have these files, run \n",
    "\n",
    "    wget https://www.dropbox.com/s/jmrvyaqew4zp9cy/spouse_data.zip\n",
    "    unzip spouse_data.zip"
   ]
  },
  {
   "cell_type": "markdown",
   "metadata": {},
   "source": [
    "### Classification Task\n",
    "<img src=\"imgs/sentence.jpg\" width=\"700px;\">\n",
    "\n",
    "We want to classify each __candidate__ or pair of people mentioned in a sentene, as being married at some point or not.\n",
    "\n",
    "In the above example, our candidate represents the possible relation `(Barack Obama, Michelle Obama)`. As readers, we know this mention is true due to external knowledge and the keyword of `wedding` occuring later in the sentence."
   ]
  },
  {
   "cell_type": "code",
   "execution_count": 1,
   "metadata": {},
   "outputs": [],
   "source": [
    "%load_ext autoreload\n",
    "%autoreload 2\n",
    "%matplotlib inline\n",
    "\n",
    "import pickle\n",
    "\n",
    "import pandas as pd"
   ]
  },
  {
   "cell_type": "code",
   "execution_count": 2,
   "metadata": {},
   "outputs": [],
   "source": [
    "import pickle\n",
    "\n",
    "with open('fast_dev_data.pkl', 'rb') as f:\n",
    "    dev_data = pickle.load(f)\n",
    "    dev_labels = pickle.load(f)\n",
    "    \n",
    "with open('fast_train_data.pkl', 'rb') as f:\n",
    "    train_data = pickle.load(f)\n",
    "    train_labels = pickle.load(f)"
   ]
  },
  {
   "cell_type": "markdown",
   "metadata": {},
   "source": [
    "`train_data` and `dev_data` are Pandas DataFrame object, where each row represents a particular __candidate__. The DataFrames contain the fields `sentence`, which refers to the sentence the candidate is in, `tokens`, the tokenized form of the sentence, `person1_word_idx` and `person2_word_idx`, which represent the word indices in the tokens at which the first and second person's name appear, respectively. "
   ]
  },
  {
   "cell_type": "code",
   "execution_count": 3,
   "metadata": {},
   "outputs": [
    {
     "data": {
      "text/html": [
       "<div>\n",
       "<style scoped>\n",
       "    .dataframe tbody tr th:only-of-type {\n",
       "        vertical-align: middle;\n",
       "    }\n",
       "\n",
       "    .dataframe tbody tr th {\n",
       "        vertical-align: top;\n",
       "    }\n",
       "\n",
       "    .dataframe thead th {\n",
       "        text-align: right;\n",
       "    }\n",
       "</style>\n",
       "<table border=\"1\" class=\"dataframe\">\n",
       "  <thead>\n",
       "    <tr style=\"text-align: right;\">\n",
       "      <th></th>\n",
       "      <th>person1_word_idx</th>\n",
       "      <th>person2_word_idx</th>\n",
       "      <th>sentence</th>\n",
       "      <th>tokens</th>\n",
       "    </tr>\n",
       "  </thead>\n",
       "  <tbody>\n",
       "    <tr>\n",
       "      <th>0</th>\n",
       "      <td>(1, 1)</td>\n",
       "      <td>(22, 24)</td>\n",
       "      <td>The Richards are half-sisters to Kathy Hilton,...</td>\n",
       "      <td>[The, Richards, are, half, -, sisters, to, Kat...</td>\n",
       "    </tr>\n",
       "    <tr>\n",
       "      <th>1</th>\n",
       "      <td>(1, 1)</td>\n",
       "      <td>(7, 8)</td>\n",
       "      <td>The Richards are half-sisters to Kathy Hilton,...</td>\n",
       "      <td>[The, Richards, are, half, -, sisters, to, Kat...</td>\n",
       "    </tr>\n",
       "    <tr>\n",
       "      <th>2</th>\n",
       "      <td>(7, 8)</td>\n",
       "      <td>(22, 24)</td>\n",
       "      <td>The Richards are half-sisters to Kathy Hilton,...</td>\n",
       "      <td>[The, Richards, are, half, -, sisters, to, Kat...</td>\n",
       "    </tr>\n",
       "    <tr>\n",
       "      <th>3</th>\n",
       "      <td>(6, 6)</td>\n",
       "      <td>(20, 21)</td>\n",
       "      <td>Prior to both his guests, Colbert's monologue ...</td>\n",
       "      <td>[Prior, to, both, his, guests, ,, Colbert, s, ...</td>\n",
       "    </tr>\n",
       "    <tr>\n",
       "      <th>4</th>\n",
       "      <td>(2, 2)</td>\n",
       "      <td>(4, 5)</td>\n",
       "      <td>People reported Williams and Ven Veen tied the...</td>\n",
       "      <td>[People, reported, Williams, and, Ven, Veen, t...</td>\n",
       "    </tr>\n",
       "  </tbody>\n",
       "</table>\n",
       "</div>"
      ],
      "text/plain": [
       "  person1_word_idx person2_word_idx  \\\n",
       "0           (1, 1)         (22, 24)   \n",
       "1           (1, 1)           (7, 8)   \n",
       "2           (7, 8)         (22, 24)   \n",
       "3           (6, 6)         (20, 21)   \n",
       "4           (2, 2)           (4, 5)   \n",
       "\n",
       "                                            sentence  \\\n",
       "0  The Richards are half-sisters to Kathy Hilton,...   \n",
       "1  The Richards are half-sisters to Kathy Hilton,...   \n",
       "2  The Richards are half-sisters to Kathy Hilton,...   \n",
       "3  Prior to both his guests, Colbert's monologue ...   \n",
       "4  People reported Williams and Ven Veen tied the...   \n",
       "\n",
       "                                              tokens  \n",
       "0  [The, Richards, are, half, -, sisters, to, Kat...  \n",
       "1  [The, Richards, are, half, -, sisters, to, Kat...  \n",
       "2  [The, Richards, are, half, -, sisters, to, Kat...  \n",
       "3  [Prior, to, both, his, guests, ,, Colbert, s, ...  \n",
       "4  [People, reported, Williams, and, Ven, Veen, t...  "
      ]
     },
     "execution_count": 3,
     "metadata": {},
     "output_type": "execute_result"
    }
   ],
   "source": [
    "dev_data.head()"
   ]
  },
  {
   "cell_type": "markdown",
   "metadata": {},
   "source": [
    "You'll interact with these candidate while writing labeling functions in Snorkel. We look at a candidate in the development set:"
   ]
  },
  {
   "cell_type": "code",
   "execution_count": 4,
   "metadata": {},
   "outputs": [
    {
     "name": "stdout",
     "output_type": "stream",
     "text": [
      "Sentence:   \t Nutter has made clear his plans to take advantage of his position of prominence, both as Philadelphia mayor and as honorary co-chair of the World Meeting of Families, to advance the gay agenda when the Pope visits — and the faithful are left wondering why Chaput continues to refuse to do anything to remedy this,” Church Militant’s Christine Niles wrote September 22   .   \n",
      "Person 1:   \t Nutter\n",
      "Person 2:   \t Christine Niles\n"
     ]
    }
   ],
   "source": [
    "from spouse_preprocessors import get_person_text\n",
    "\n",
    "candidate = dev_data.loc[12]\n",
    "person_names = get_person_text(candidate)\n",
    "\n",
    "print(\"Sentence:   \\t\", candidate['sentence'])\n",
    "print(\"Person 1:   \\t\", person_names[0])\n",
    "print(\"Person 2:   \\t\", person_names[1])"
   ]
  },
  {
   "cell_type": "markdown",
   "metadata": {},
   "source": [
    "### Labeling Function Helpers\n",
    "\n",
    "When writing labeling functions, there are several operators you will use over and over again; fetching text between mentions of the two people in a candidate, examing word windows around person mentions, etc. \n",
    "\n",
    "We provide several helper functions in `spouse_preprocessors`:  these are Python helper functions that you can apply to candidates in the DataFrame to return objects that are helpful during LF development. You can (and should!) write your own helper functions to help write LFs.\n",
    "\n",
    "We provide an example of a preprocessor definition and usage here:"
   ]
  },
  {
   "cell_type": "code",
   "execution_count": 5,
   "metadata": {},
   "outputs": [],
   "source": [
    "from snorkel.labeling.preprocess import Preprocessor, PreprocessorMode, preprocessor\n",
    "from snorkel.types import FieldMap\n",
    "\n",
    "@preprocessor\n",
    "def get_text_between(tokens, person1_word_idx, person2_word_idx) -> FieldMap:\n",
    "    \"\"\"\n",
    "    Returns the text between the two person mentions in the sentence for a candidate\n",
    "    \"\"\"\n",
    "    start = person1_word_idx[1] + 1\n",
    "    end = person2_word_idx[0]\n",
    "    text_between = ' '.join(tokens[start:end])\n",
    "    return dict(text_between=text_between)"
   ]
  },
  {
   "cell_type": "code",
   "execution_count": 6,
   "metadata": {},
   "outputs": [
    {
     "data": {
      "text/plain": [
       "'has made clear his plans to take advantage of his position of prominence , both as Philadelphia mayor and as honorary co - chair of the World Meeting of Families , to advance the gay agenda when the Pope visits — and the faithful are left wondering why Chaput continues to refuse to do anything to remedy this , ” Church Militant ’s'"
      ]
     },
     "execution_count": 6,
     "metadata": {},
     "output_type": "execute_result"
    }
   ],
   "source": [
    "get_text_between.set_mode(PreprocessorMode.PANDAS)\n",
    "get_text_between(candidate).text_between"
   ]
  },
  {
   "cell_type": "markdown",
   "metadata": {},
   "source": [
    "### Candidate PreProcessors\n",
    "\n",
    "We provide a set of helper functions for this task in `spouse_preprocessors.py` that take as input a candidate, or row of a DataFrame in our case. \n",
    "\n",
    "`get_between_tokens(candidate)`\n",
    "\n",
    "`get_left_tokens(candidate)`\n",
    "\n",
    "`get_right_tokens(candidate)`"
   ]
  },
  {
   "cell_type": "code",
   "execution_count": 7,
   "metadata": {},
   "outputs": [
    {
     "data": {
      "text/plain": [
       "person1_word_idx                                                   (0, 0)\n",
       "person2_word_idx                                                 (64, 65)\n",
       "sentence                Nutter has made clear his plans to take advant...\n",
       "tokens                  [Nutter, has, made, clear, his, plans, to, tak...\n",
       "person1_right_tokens                              [has, made, clear, his]\n",
       "person2_right_tokens                             [wrote, September, 22, ]\n",
       "Name: 12, dtype: object"
      ]
     },
     "execution_count": 7,
     "metadata": {},
     "output_type": "execute_result"
    }
   ],
   "source": [
    "from spouse_preprocessors import get_right_tokens\n",
    "\n",
    "get_right_tokens.set_mode(PreprocessorMode.PANDAS)\n",
    "get_right_tokens(candidate)"
   ]
  }
 ],
 "metadata": {
  "kernelspec": {
   "display_name": "Python 3",
   "language": "python",
   "name": "python3"
  },
  "language_info": {
   "codemirror_mode": {
    "name": "ipython",
    "version": 3
   },
   "file_extension": ".py",
   "mimetype": "text/x-python",
   "name": "python",
   "nbconvert_exporter": "python",
   "pygments_lexer": "ipython3",
   "version": "3.6.7"
  }
 },
 "nbformat": 4,
 "nbformat_minor": 2
}
