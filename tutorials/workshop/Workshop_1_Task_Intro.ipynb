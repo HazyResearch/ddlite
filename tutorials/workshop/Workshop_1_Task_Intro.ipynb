{
 "cells": [
  {
   "cell_type": "markdown",
   "metadata": {
    "collapsed": true
   },
   "source": [
    "#### TODO: fix text\n",
    "\n",
    "Download a set of pandas files, dev_, train_ and test_ using XXX"
   ]
  },
  {
   "cell_type": "markdown",
   "metadata": {},
   "source": [
    "<img align=\"left\" src=\"imgs/logo.jpg\" width=\"50px\" style=\"margin-right:10px\">\n",
    "\n",
    "# Snorkel Workshop \n",
    "## Part 1: Snorkel API\n",
    "\n",
    "Complete Snorkel API documentation is available via [Read the Docs](http://snorkel.readthedocs.io/en/master/)\n",
    "\n",
    "However, we provide several detailed examples below that are useful when you are using Snorkel for the first time. "
   ]
  },
  {
   "cell_type": "code",
   "execution_count": 1,
   "metadata": {},
   "outputs": [],
   "source": [
    "%load_ext autoreload\n",
    "%autoreload 2\n",
    "%matplotlib inline"
   ]
  },
  {
   "cell_type": "markdown",
   "metadata": {},
   "source": [
    "### Candidates in Context\n",
    "<img src=\"imgs/sentence.jpg\" width=\"700px;\">\n",
    "\n",
    "By default, Snorkel candidates are defined over `Span` objects within a `Sentence` context.  `Span(s)` correspond to conceptual categories in text like people or disease names. In the above example, our candidate represents the possible `Spouse` mention `(Barrack Obama, Michelle Obama)`. As readers, we know this mention is true due to external knowledge and the keyword of `wedding` occuring later in the sentence."
   ]
  },
  {
   "cell_type": "code",
   "execution_count": 2,
   "metadata": {},
   "outputs": [
    {
     "data": {
      "text/plain": [
       "Index(['between_tokens', 'person1_left_tokens', 'person1_right_tokens',\n",
       "       'person1_word_range', 'person2_left_tokens', 'person2_right_tokens',\n",
       "       'person2_word_range', 'sentence', 'tagged_text', 'text_between'],\n",
       "      dtype='object')"
      ]
     },
     "execution_count": 2,
     "metadata": {},
     "output_type": "execute_result"
    }
   ],
   "source": [
    "import pandas as pd\n",
    "\n",
    "dev_data = pd.read_pickle(\"dev_data.pkl\")\n",
    "dev_data.columns"
   ]
  },
  {
   "cell_type": "code",
   "execution_count": 3,
   "metadata": {},
   "outputs": [
    {
     "name": "stdout",
     "output_type": "stream",
     "text": [
      "Sentence:   \t The Richards are half-sisters to Kathy Hilton, the mother of socialite Paris Hilton and spouse of luxury hotel magnate Richard Howard Hilton.   \n",
      "\n",
      "\n",
      "Person 2 LEFT (3) tokens:   \t ['luxury', 'hotel', 'magnate']\n",
      "\n",
      "\n",
      "BETWEEN tokens:\t ['are', 'half', '-', 'sisters', 'to', 'kathy', 'hilton', ',', 'the', 'mother', 'of', 'socialite', 'paris', 'hilton', 'and', 'spouse', 'of', 'luxury', 'hotel', 'magnate']\n"
     ]
    }
   ],
   "source": [
    "cand = dev_data.loc[0]\n",
    "\n",
    "print(\"Sentence:   \\t\", cand['sentence'])\n",
    "print(\"\\n\")\n",
    "print(\"Person 2 LEFT (3) tokens:   \\t\", cand['person2_left_tokens'])\n",
    "print(\"\\n\")\n",
    "print(\"BETWEEN tokens:\\t\", cand['between_tokens'])"
   ]
  },
  {
   "cell_type": "markdown",
   "metadata": {},
   "source": [
    "### Labeling Function Helpers\n",
    "\n",
    "__TODO: Write preprocessors for LEFT_ and RIGHT_ tokens__\n",
    "\n",
    "When writing labeling functions, there are several operators you will use over and over again; fetching text between span arguments, examing word windows around spans, etc. \n",
    "\n",
    "Snorkel provides several core helper functions \n",
    "These are python helper functions that you can apply to candidates to return objects that are helpful during LF development.\n",
    "\n",
    "You can (and should!) write your own helper functions to help write LFs."
   ]
  },
  {
   "cell_type": "code",
   "execution_count": 4,
   "metadata": {},
   "outputs": [],
   "source": [
    "##TODO\n",
    "#Write preprocessors for LEFT_ and RIGHT_ tokens"
   ]
  },
  {
   "cell_type": "code",
   "execution_count": null,
   "metadata": {},
   "outputs": [],
   "source": []
  }
 ],
 "metadata": {
  "kernelspec": {
   "display_name": "Python 3",
   "language": "python",
   "name": "python3"
  },
  "language_info": {
   "codemirror_mode": {
    "name": "ipython",
    "version": 3
   },
   "file_extension": ".py",
   "mimetype": "text/x-python",
   "name": "python",
   "nbconvert_exporter": "python",
   "pygments_lexer": "ipython3",
   "version": "3.6.7"
  }
 },
 "nbformat": 4,
 "nbformat_minor": 2
}
