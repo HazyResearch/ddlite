{
 "cells": [
  {
   "cell_type": "markdown",
   "metadata": {},
   "source": [
    "<img align=\"left\" src=\"imgs/logo.jpg\" width=\"50px\" style=\"margin-right:10px\">\n",
    "\n",
    "# Snorkel Workshop: Extracting Spouse Relations <br> from the News\n",
    "## Part 2: Writing  Labeling Functions\n",
    "\n",
    "In Snorkel, our primary interface through which we provide training signal to the end extraction model we are training is by writing **labeling functions (LFs)** (as opposed to hand-labeling massive training sets).  We'll go through some examples for our spouse classification task below.\n",
    "\n",
    "A labeling function isn't anything special. It's just a Python function that accepts a candidate, or a row of the DataFrame, as the input argument and returns `1` if it says the pair of persons in the candidate were married at some point,  `-1` if the pair of persons in the candidate were never married, and `0` if it doesn't know how to vote and abstains. In practice, many labeling functions are unipolar: it labels only `1`s and `0`s, or it labels only `-1`s and `0`s.\n",
    "\n",
    "Recall that our goal is to ultimately train a high-performance classification model that predicts which of our candidates are true spouse relations.  It turns out that we can do this by writing potentially low-quality labeling functions!"
   ]
  },
  {
   "cell_type": "code",
   "execution_count": 1,
   "metadata": {},
   "outputs": [],
   "source": [
    "%load_ext autoreload\n",
    "%autoreload 2\n",
    "%matplotlib inline\n",
    "\n",
    "import re\n",
    "import sys\n",
    "\n",
    "import numpy as np\n",
    "import pandas as pd\n",
    "import scipy.sparse as sp"
   ]
  },
  {
   "cell_type": "markdown",
   "metadata": {},
   "source": [
    "##  I. Background\n",
    "\n",
    "### Preprocessing the Database\n",
    "\n",
    "In a real application, there is a lot of data preparation, parsing, and database loading that needs to be completed before we dive into writing labeling functions. Here we've pre-generated candidates in a pandas DataFrame object per split (train,dev,test).\n",
    "\n",
    "###  Using a _Development Set_ of Human-labeled Data\n",
    "\n",
    "In our setting, we will use the phrase _development set_ to refer to a set of examples (here, a subset of our training set) which we label by hand and use to help us develop and refine labeling functions.  Unlike the _test set_, which we do not look at and use for final evaluation, we can inspect the development set while writing labeling functions. This is a list of `{-1,1}` labels."
   ]
  },
  {
   "cell_type": "code",
   "execution_count": 2,
   "metadata": {},
   "outputs": [],
   "source": [
    "import pickle\n",
    "\n",
    "with open('new_dev_data.pkl', 'rb') as f:\n",
    "    dev_data = pickle.load(f)\n",
    "    dev_labels = pickle.load(f)\n",
    "    \n",
    "with open('new_train_data.pkl', 'rb') as f:\n",
    "    train_data = pickle.load(f)\n",
    "    train_labels = pickle.load(f)"
   ]
  },
  {
   "cell_type": "markdown",
   "metadata": {},
   "source": [
    "### Labeling Function Metrics\n",
    "\n",
    "#### Coverage\n",
    "One simple metric we can compute quickly is our _coverage_, the number of candidates labeled by our LF, on our training set (or any other set).\n",
    "\n",
    "#### Precision / Recall / F1\n",
    "If we have gold labeled data, we can also compute standard precision, recall, and F1 metrics for the output of a single labeling function. These metrics are computed over 4 _error buckets_: _True Positives_ (tp), _False Positives_ (fp), _True Negatives_ (tn), and _False Negatives_ (fn).\n",
    "\n",
    "\\begin{equation*}\n",
    "precision = \\frac{tp}{(tp + fp)}\n",
    "\\end{equation*}\n",
    "\n",
    "\\begin{equation*}\n",
    "recall = \\frac{tp}{(tp + fn)}\n",
    "\\end{equation*}\n",
    "\n",
    "\\begin{equation*}\n",
    "F1 = 2 \\cdot \\frac{ (precision \\cdot recall)}{(precision + recall)}\n",
    "\\end{equation*}"
   ]
  },
  {
   "cell_type": "markdown",
   "metadata": {},
   "source": [
    "# II. Labeling Functions\n",
    "\n",
    "## A. Pattern Matching Labeling Functions\n",
    "\n",
    "One powerful form of labeling function design is defining sets of keywords or regular expressions that, as a human labeler, you know are correlated with the true label. For example, we could define a dictionary of terms that occur between person names in a candidate. One simple dictionary of terms indicating a true relation could be:\n",
    "    \n",
    "    spouses = {'husband', 'wife'}\n",
    " \n",
    "We can then write a labeling function that checks for a match with these terms in the text that occurs between person names. To access the text between the person mentions, we can use the `get_between_tokens` preprocessors from the previous notebook.\n",
    "\n",
    "    @labeling_function(resources=dict(spouses=spouses), preprocessors=[get_between_tokens])\n",
    "    def LF_husband_wife(x: DataPoint, spouses: List[str]) -> int:\n",
    "        return 1 if len(spouses.intersection(set(x.between_tokens))) > 0 else 0\n",
    "        \n",
    "The idea is that we can easily create dictionaries that encode themes or categories descibing all kinds of relationships between 2 people and then use these objects to _weakly supervise_ our classification task.\n",
    "\n",
    "    other_relationship = {'boyfriend', 'girlfriend'}\n",
    "    \n",
    "**IMPORTANT** Good labeling functions manage a trade-off between high coverage and high precision. When constructing your dictionaries, think about building larger, noiser sets of terms instead of relying on 1 or 2 keywords. Sometimes a single word can be very predictive (e.g., `ex-wife`) but it's almost always better to define something more general, such as a regular expression pattern capturing _any_ string with the `ex-` prefix. "
   ]
  },
  {
   "cell_type": "code",
   "execution_count": 3,
   "metadata": {},
   "outputs": [],
   "source": [
    "from typing import List\n",
    "\n",
    "from snorkel.labeling.apply import PandasLFApplier\n",
    "from snorkel.labeling.lf import labeling_function\n",
    "from snorkel.types import DataPoint\n",
    "\n",
    "from spouse_preprocessors import get_left_tokens, \\\n",
    "get_person_last_names, get_person_text\n",
    "    \n",
    "\n",
    "spouses = {'spouse', 'wife', 'husband', 'ex-wife', 'ex-husband'}\n",
    "@labeling_function(resources=dict(spouses=spouses))\n",
    "def LF_husband_wife(x: DataPoint, spouses: List[str]) -> int:\n",
    "    return 1 if len(spouses.intersection(set(x.between_tokens))) > 0 else 0"
   ]
  },
  {
   "cell_type": "markdown",
   "metadata": {},
   "source": [
    "Check for the `spouse` words appearing to the left of the person mentions"
   ]
  },
  {
   "cell_type": "code",
   "execution_count": 4,
   "metadata": {},
   "outputs": [],
   "source": [
    "@labeling_function(resources=dict(spouses=spouses), preprocessors=[get_left_tokens])\n",
    "def LF_husband_wife_left_window(x: DataPoint, spouses: List[str]) -> int:\n",
    "    if len(set(spouses).intersection(set(x.person1_left_tokens))) > 0:\n",
    "        return 1\n",
    "    elif len(set(spouses).intersection(set(x.person2_left_tokens))) > 0:\n",
    "        return 1\n",
    "    else:\n",
    "        return 0"
   ]
  },
  {
   "cell_type": "markdown",
   "metadata": {},
   "source": [
    "Check for the person mentions having the same last name"
   ]
  },
  {
   "cell_type": "code",
   "execution_count": 5,
   "metadata": {},
   "outputs": [],
   "source": [
    "@labeling_function()\n",
    "def LF_same_last_name(x: DataPoint) -> int:\n",
    "    p1_ln, p2_ln = get_person_last_names(x)\n",
    "    \n",
    "    if p1_ln and p2_ln and p1_ln == p2_ln:\n",
    "        return 1\n",
    "    return 0"
   ]
  },
  {
   "cell_type": "markdown",
   "metadata": {},
   "source": [
    "Check for the words `and ... married` between person mentions"
   ]
  },
  {
   "cell_type": "code",
   "execution_count": 6,
   "metadata": {},
   "outputs": [],
   "source": [
    "@labeling_function()\n",
    "def LF_and_married(x: DataPoint) -> int:\n",
    "    return 1 if 'and' in x.between_tokens and 'married' in x.person2_right_tokens else 0    "
   ]
  },
  {
   "cell_type": "markdown",
   "metadata": {},
   "source": [
    "Check for words that refer to `family` relationships between and to the left of the person mentions"
   ]
  },
  {
   "cell_type": "code",
   "execution_count": 7,
   "metadata": {},
   "outputs": [],
   "source": [
    "family = ['father', 'mother', 'sister', 'brother', 'son', 'daughter',\n",
    "              'grandfather', 'grandmother', 'uncle', 'aunt', 'cousin']\n",
    "family = set(family+[f + '-in-law' for f in family])\n",
    "\n",
    "@labeling_function(resources=dict(family=family))\n",
    "def LF_familial_relationship(x: DataPoint, family: List[str]) -> int:\n",
    "    return 1 if len(family.intersection(set(x.between_tokens))) > 0 else 0  \n",
    "\n",
    "\n",
    "@labeling_function(resources=dict(family=family), preprocessors=[get_left_tokens])\n",
    "def LF_family_left_window(x: DataPoint, family: List[str]) -> int:\n",
    "    if len(set(family).intersection(set(x.person1_left_tokens))) > 0:\n",
    "        return -1\n",
    "    elif len(set(family).intersection(set(x.person2_left_tokens))) > 0:\n",
    "        return -1\n",
    "    else:\n",
    "        return 0"
   ]
  },
  {
   "cell_type": "markdown",
   "metadata": {},
   "source": [
    "Check for `other` relationship words between person mentions"
   ]
  },
  {
   "cell_type": "code",
   "execution_count": 8,
   "metadata": {},
   "outputs": [],
   "source": [
    "other = {'boyfriend', 'girlfriend' 'boss', 'employee', 'secretary', 'co-worker'}\n",
    "@labeling_function(resources=dict(other=other))\n",
    "def LF_other_relationship(x: DataPoint, other: List[str]) -> int:\n",
    "    return -1 if len(other.intersection(set(x.between_tokens))) > 0 else 0"
   ]
  },
  {
   "cell_type": "markdown",
   "metadata": {},
   "source": [
    "#### Apply Labeling Functions to the Data\n",
    "We create a list of labeling functions and apply them to the data"
   ]
  },
  {
   "cell_type": "code",
   "execution_count": 9,
   "metadata": {
    "scrolled": true
   },
   "outputs": [
    {
     "name": "stderr",
     "output_type": "stream",
     "text": [
      "100%|██████████| 2811/2811 [00:09<00:00, 301.47it/s]\n"
     ]
    }
   ],
   "source": [
    "applier = PandasLFApplier([LF_husband_wife,\n",
    "                           LF_husband_wife_left_window,\n",
    "                           LF_same_last_name,\n",
    "                           LF_and_married, \n",
    "                           LF_familial_relationship,\n",
    "                           LF_family_left_window,\n",
    "                           LF_other_relationship])\n",
    "L = applier.apply(dev_data)"
   ]
  },
  {
   "cell_type": "markdown",
   "metadata": {},
   "source": [
    "**Viewing Performance Metrics**\n",
    "If we have gold labeled data, we can evaluate formal metrics. It's useful to view specific error metrics for a particular LF. Below, we'll compute our empirical scores using human-labeled development set data and then look at performance metrics for `LF_husband_wife` LF."
   ]
  },
  {
   "cell_type": "code",
   "execution_count": 10,
   "metadata": {},
   "outputs": [
    {
     "name": "stdout",
     "output_type": "stream",
     "text": [
      "LF_husband_wife coverage: \t 0.08964781216648879\n",
      "LF_husband_wife F1 score:  \t 0.4208144796380091\n",
      "LF_husband_wife precision:  \t 0.36904761904761907\n",
      "LF_husband_wife recall:  \t 0.48947368421052634\n"
     ]
    }
   ],
   "source": [
    "from snorkel.model.metrics import coverage_score, f1_score, precision_score, recall_score\n",
    "\n",
    "print(\"LF_husband_wife coverage: \\t\", coverage_score(dev_labels,L[:,0]))\n",
    "print(\"LF_husband_wife F1 score:  \\t\", f1_score(dev_labels,L[:,0]))\n",
    "print(\"LF_husband_wife precision:  \\t\", precision_score(dev_labels,L[:,0]))\n",
    "print(\"LF_husband_wife recall:  \\t\", recall_score(dev_labels,L[:,0]))"
   ]
  },
  {
   "cell_type": "markdown",
   "metadata": {},
   "source": [
    "## B. Distant Supervision Labeling Functions\n",
    "\n",
    "In addition to using factories that encode pattern matching heuristics, we can also write labeling functions that _distantly supervise_ examples. Here, we'll load in a list of known spouse pairs and check to see if the pair of persons in a candidate matches one of these.\n",
    "\n",
    "**DBpedia**\n",
    "http://wiki.dbpedia.org/\n",
    "Our database of known spouses comes from DBpedia, which is a community-driven resource similar to Wikipedia but for curating structured data. We'll use a preprocessed snapshot as our knowledge base for all labeling function development.\n",
    "\n",
    "We can look at some of the example entries from DBPedia and use them in a simple distant supervision labeling function.\n",
    "\n",
    "Make sure `dbpedia.pkl` is in the `tutorials/workshop/` directory. "
   ]
  },
  {
   "cell_type": "code",
   "execution_count": 11,
   "metadata": {},
   "outputs": [
    {
     "data": {
      "text/plain": [
       "[('Ernest Dewey Gleason', 'Mary Smith Gleason'),\n",
       " ('Charles of Mecklenburg-Güstrow', 'Maria Amalia of Brandenburg-Schwedt'),\n",
       " ('Al Jolson', 'Ruby Keeler'),\n",
       " ('Ahmad Tejan Kabbah', 'Patricia Kabbah'),\n",
       " ('Lidia Wysocka', 'Zbigniew Sawan')]"
      ]
     },
     "execution_count": 11,
     "metadata": {},
     "output_type": "execute_result"
    }
   ],
   "source": [
    "import pickle \n",
    "\n",
    "with open('dbpedia.pkl', 'rb') as f:\n",
    "     known_spouses = pickle.load(f)\n",
    "        \n",
    "list(known_spouses)[0:5]"
   ]
  },
  {
   "cell_type": "code",
   "execution_count": 12,
   "metadata": {},
   "outputs": [],
   "source": [
    "@labeling_function(resources=dict(known_spouses=known_spouses))\n",
    "def LF_distant_supervision(x: DataPoint, known_spouses: List[str]) -> int:\n",
    "    p1, p2 = get_person_text(x)\n",
    "    return 1 if (p1, p2) in known_spouses or (p2, p1) in known_spouses else 0\n",
    "\n",
    "\n",
    "# Helper function to get last name\n",
    "def last_name(s):\n",
    "    name_parts = s.split(' ')\n",
    "    return name_parts[-1] if len(name_parts) > 1 else None \n",
    "\n",
    "# Last name pairs for known spouses\n",
    "last_names = set([(last_name(x), last_name(y)) for x, y in known_spouses if last_name(x) and last_name(y)])\n",
    "\n",
    "@labeling_function(resources=dict(last_names=last_names))\n",
    "def LF_distant_supervision_last_names(x: DataPoint, last_names: List[str]) -> int:\n",
    "    p1_ln, p2_ln = get_person_last_names(x)\n",
    "    \n",
    "    return 1 if (p1_ln != p2_ln) and ((p1_ln, p2_ln) in last_names or (p2_ln, p1_ln) in last_names) else 0 "
   ]
  },
  {
   "cell_type": "code",
   "execution_count": 13,
   "metadata": {},
   "outputs": [],
   "source": [
    "applier = PandasLFApplier([LF_husband_wife,\n",
    "                           LF_husband_wife_left_window,\n",
    "                           LF_same_last_name,\n",
    "                           LF_and_married, \n",
    "                           LF_familial_relationship,\n",
    "                           LF_family_left_window,\n",
    "                           LF_other_relationship,\n",
    "                           LF_distant_supervision,\n",
    "                           LF_distant_supervision_last_names])"
   ]
  },
  {
   "cell_type": "code",
   "execution_count": 14,
   "metadata": {},
   "outputs": [
    {
     "name": "stderr",
     "output_type": "stream",
     "text": [
      "100%|██████████| 2811/2811 [00:09<00:00, 300.13it/s]\n",
      "100%|██████████| 22254/22254 [01:15<00:00, 292.89it/s]\n"
     ]
    }
   ],
   "source": [
    "dev_L = applier.apply(dev_data)\n",
    "with open('dev_L.pkl', 'wb') as f:\n",
    "    pickle.dump(dev_L, f)\n",
    "    \n",
    "train_L = applier.apply(train_data)\n",
    "with open('train_L.pkl', 'wb') as f:\n",
    "    pickle.dump(train_L, f)"
   ]
  },
  {
   "cell_type": "markdown",
   "metadata": {},
   "source": [
    "## C. Writing Custom Labeling Functions\n",
    "\n",
    "The strength of LFs is that you can write any arbitrary function and use it to supervise a classification task. This approach can combine many of the same strategies discussed above or encode other information. \n",
    "\n",
    "For example, we observe that when mentions of person names occur far apart in a sentence, this is a good indicator that the candidate's label is False. You can write a labeling function that uses preprocessor `get_text_between` or the existing field `get_between_tokens` to write such an LF!\n",
    "\n",
    "**Try editing and running the cells below!**"
   ]
  },
  {
   "cell_type": "code",
   "execution_count": 15,
   "metadata": {},
   "outputs": [],
   "source": [
    "# @labeling_function()\n",
    "# def LF_new(x: DataPoint) -> int:\n",
    "#     return 1 if x.person1_word_idx[0] > 3 else 0 #TODO: Change this!\n",
    "\n",
    "# applier = PandasLFApplier([LF_new])"
   ]
  },
  {
   "cell_type": "code",
   "execution_count": 16,
   "metadata": {},
   "outputs": [],
   "source": [
    "# new_dev_L = applier.apply(dev_data)\n",
    "# sp.hstack((dev_L, new_dev_L), format='csr')\n",
    "# with open('dev_L.pkl', 'wb') as f:\n",
    "#     pickle.dump(dev_L, f)\n",
    "    \n",
    "# new_train_L = applier.apply(train_data)\n",
    "# sp.hstack((train_L, new_train_L), format='csr')\n",
    "# with open('train_L.pkl', 'wb') as f:\n",
    "#     pickle.dump(train_L, f)"
   ]
  }
 ],
 "metadata": {
  "anaconda-butt": {},
  "kernelspec": {
   "display_name": "Python 3",
   "language": "python",
   "name": "python3"
  },
  "language_info": {
   "codemirror_mode": {
    "name": "ipython",
    "version": 3
   },
   "file_extension": ".py",
   "mimetype": "text/x-python",
   "name": "python",
   "nbconvert_exporter": "python",
   "pygments_lexer": "ipython3",
   "version": "3.6.7"
  }
 },
 "nbformat": 4,
 "nbformat_minor": 1
}
