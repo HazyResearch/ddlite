{
 "cells": [
  {
   "cell_type": "code",
   "execution_count": 1,
   "metadata": {},
   "outputs": [
    {
     "name": "stdout",
     "output_type": "stream",
     "text": [
      "['', '/anaconda/lib/python27.zip', '/anaconda/lib/python2.7', '/anaconda/lib/python2.7/plat-darwin', '/anaconda/lib/python2.7/plat-mac', '/anaconda/lib/python2.7/plat-mac/lib-scriptpackages', '/anaconda/lib/python2.7/lib-tk', '/anaconda/lib/python2.7/lib-old', '/anaconda/lib/python2.7/lib-dynload', '/anaconda/lib/python2.7/site-packages', '/anaconda/lib/python2.7/site-packages/Sphinx-1.5.6-py2.7.egg', '/anaconda/lib/python2.7/site-packages/aeosa', '/anaconda/lib/python2.7/site-packages/setuptools-27.2.0-py2.7.egg', '/anaconda/lib/python2.7/site-packages/IPython/extensions', '/Users/vincentchen/.ipython']\n"
     ]
    }
   ],
   "source": [
    "import sys\n",
    "print sys.path"
   ]
  },
  {
   "cell_type": "code",
   "execution_count": 1,
   "metadata": {
    "collapsed": true
   },
   "outputs": [],
   "source": [
    "%load_ext autoreload\n",
    "%autoreload 2\n",
    "\n",
    "import numpy as np\n",
    "import matplotlib.pyplot as plt\n",
    "%matplotlib inline"
   ]
  },
  {
   "cell_type": "code",
   "execution_count": 2,
   "metadata": {},
   "outputs": [
    {
     "name": "stdout",
     "output_type": "stream",
     "text": [
      "vocab_matrix shape: (10, 27924)\n"
     ]
    }
   ],
   "source": [
    "vocab_matrix = np.load('./full_vocab_matrix.npy')\n",
    "\n",
    "print 'vocab_matrix shape:', vocab_matrix.shape\n",
    "num_examples = vocab_matrix.shape[1]"
   ]
  },
  {
   "cell_type": "markdown",
   "metadata": {},
   "source": [
    "# Generate Primitives"
   ]
  },
  {
   "cell_type": "code",
   "execution_count": 3,
   "metadata": {
    "collapsed": true
   },
   "outputs": [],
   "source": [
    "class PrimitiveObject(object):\n",
    "\n",
    "    def save_primitive_matrix(self,primitive_mtx):\n",
    "        self.primitive_mtx = primitive_mtx\n",
    "        self.discrete_primitive_mtx = primitive_mtx\n",
    "        self.num_primitives = np.shape(self.primitive_mtx)[1]\n",
    "    \n",
    "    def save_primitive_names(self,names):\n",
    "        self.primitive_names = names\n",
    "        if len(self.primitive_names) != self.num_primitives:\n",
    "            Exception('Incorrect number of Primitive Names')"
   ]
  },
  {
   "cell_type": "code",
   "execution_count": 4,
   "metadata": {
    "collapsed": true
   },
   "outputs": [],
   "source": [
    "def create_primitives(vocab_matrix):\n",
    "    m = 5\n",
    "    primitive_mtx = np.zeros((num_examples, m))\n",
    "    for i in range(num_examples):\n",
    "        primitive_mtx[i, 0] = vocab_matrix[0, :][i] # area\n",
    "        primitive_mtx[i, 1] = vocab_matrix[1, :][i] # eccentricity\n",
    "        primitive_mtx[i, 2] = vocab_matrix[6, :][i] # perimeter\n",
    "        primitive_mtx[i, 3] = vocab_matrix[8, :][i] # intensity\n",
    "    \n",
    "    primitive_mtx[:, 4] = primitive_mtx[:, 0]/(primitive_mtx[:, 2]**2.) # ratio\n",
    "    P = PrimitiveObject()\n",
    "    P.save_primitive_matrix(primitive_mtx)\n",
    "    return P\n",
    "\n",
    "P = create_primitives(vocab_matrix)\n",
    "primitive_names = ['area', 'eccentricity', 'perimeter', 'intensity', 'ratio']"
   ]
  },
  {
   "cell_type": "markdown",
   "metadata": {},
   "source": [
    "# Heuristic Functions"
   ]
  },
  {
   "cell_type": "code",
   "execution_count": 5,
   "metadata": {
    "collapsed": true
   },
   "outputs": [],
   "source": [
    "def lf_area(area):\n",
    "    if area >= 134:\n",
    "        return -1 \n",
    "    if area <= 65: \n",
    "        return 1\n",
    "    return 0\n",
    "\n",
    "def lf_eccentricity(eccentricity):\n",
    "    if eccentricity >= 0.78: \n",
    "        return 1 \n",
    "    if eccentricity <= 0.63:\n",
    "        return -1  \n",
    "    return 0\n",
    "        \n",
    "def lf_perimeter(perimeter):\n",
    "    if perimeter <= 31: \n",
    "        return 1 \n",
    "    return 0\n",
    "    \n",
    "def lf_intensity(intensity):\n",
    "    if intensity >= 168: \n",
    "        return 1\n",
    "    if intensity <= 108: \n",
    "        return -1\n",
    "    return 0\n",
    "\n",
    "def lf_ratio(ratio):\n",
    "    if ratio >= 0.072: \n",
    "        return -1\n",
    "    if ratio <= 0.062:\n",
    "        return 1\n",
    "    return 0"
   ]
  },
  {
   "cell_type": "code",
   "execution_count": 6,
   "metadata": {},
   "outputs": [
    {
     "name": "stdout",
     "output_type": "stream",
     "text": [
      "['', '/anaconda/lib/python27.zip', '/anaconda/lib/python2.7', '/anaconda/lib/python2.7/plat-darwin', '/anaconda/lib/python2.7/plat-mac', '/anaconda/lib/python2.7/plat-mac/lib-scriptpackages', '/anaconda/lib/python2.7/lib-tk', '/anaconda/lib/python2.7/lib-old', '/anaconda/lib/python2.7/lib-dynload', '/anaconda/lib/python2.7/site-packages', '/anaconda/lib/python2.7/site-packages/Sphinx-1.5.6-py2.7.egg', '/anaconda/lib/python2.7/site-packages/aeosa', '/anaconda/lib/python2.7/site-packages/setuptools-27.2.0-py2.7.egg', '/anaconda/lib/python2.7/site-packages/IPython/extensions', '/Users/vincentchen/.ipython', '../', '/Users/vincentchen/code/numbskull', '/Users/vincentchen/code/coral-experimental/venv/lib/python2.7', '/Users/vincentchen/code/coral', '/Users/vincentchen/code/numbskull', '/Users/vincentchen/code/coral-experimental/venv/lib/python2.7']\n"
     ]
    },
    {
     "ename": "ImportError",
     "evalue": "No module named learning",
     "output_type": "error",
     "traceback": [
      "\u001b[0;31m---------------------------------------------------------------------------\u001b[0m",
      "\u001b[0;31mImportError\u001b[0m                               Traceback (most recent call last)",
      "\u001b[0;32m<ipython-input-6-594a669247e9>\u001b[0m in \u001b[0;36m<module>\u001b[0;34m()\u001b[0m\n\u001b[1;32m      7\u001b[0m \u001b[0;34m\u001b[0m\u001b[0m\n\u001b[1;32m      8\u001b[0m \u001b[0mL_names\u001b[0m \u001b[0;34m=\u001b[0m \u001b[0;34m[\u001b[0m\u001b[0mlf_area\u001b[0m\u001b[0;34m,\u001b[0m \u001b[0mlf_eccentricity\u001b[0m\u001b[0;34m,\u001b[0m \u001b[0mlf_perimeter\u001b[0m\u001b[0;34m,\u001b[0m \u001b[0mlf_intensity\u001b[0m\u001b[0;34m,\u001b[0m \u001b[0mlf_ratio\u001b[0m\u001b[0;34m]\u001b[0m\u001b[0;34m\u001b[0m\u001b[0m\n\u001b[0;32m----> 9\u001b[0;31m \u001b[0;32mfrom\u001b[0m \u001b[0mcoral\u001b[0m\u001b[0;34m.\u001b[0m\u001b[0mstatic_analysis\u001b[0m\u001b[0;34m.\u001b[0m\u001b[0mdependency_learning\u001b[0m \u001b[0;32mimport\u001b[0m \u001b[0mfind_dependencies\u001b[0m\u001b[0;34m\u001b[0m\u001b[0m\n\u001b[0m\u001b[1;32m     10\u001b[0m \u001b[0mL_deps\u001b[0m \u001b[0;34m=\u001b[0m \u001b[0mfind_dependencies\u001b[0m\u001b[0;34m(\u001b[0m\u001b[0mL_names\u001b[0m\u001b[0;34m,\u001b[0m \u001b[0mprimitive_names\u001b[0m\u001b[0;34m)\u001b[0m\u001b[0;34m\u001b[0m\u001b[0m\n\u001b[1;32m     11\u001b[0m \u001b[0;32mprint\u001b[0m \u001b[0mL_deps\u001b[0m\u001b[0;34m\u001b[0m\u001b[0m\n",
      "\u001b[0;32m/Users/vincentchen/code/coral/tutorials/coral.py\u001b[0m in \u001b[0;36m<module>\u001b[0;34m()\u001b[0m\n\u001b[1;32m     12\u001b[0m \u001b[0;32mprint\u001b[0m \u001b[0msys\u001b[0m\u001b[0;34m.\u001b[0m\u001b[0mpath\u001b[0m\u001b[0;34m\u001b[0m\u001b[0m\n\u001b[1;32m     13\u001b[0m \u001b[0;34m\u001b[0m\u001b[0m\n\u001b[0;32m---> 14\u001b[0;31m \u001b[0;32mfrom\u001b[0m \u001b[0mcoral\u001b[0m\u001b[0;34m.\u001b[0m\u001b[0mlearning\u001b[0m \u001b[0;32mimport\u001b[0m \u001b[0mCoralModel\u001b[0m\u001b[0;34m\u001b[0m\u001b[0m\n\u001b[0m\u001b[1;32m     15\u001b[0m \u001b[0;32mfrom\u001b[0m \u001b[0mcoral\u001b[0m\u001b[0;34m.\u001b[0m\u001b[0mlearning\u001b[0m \u001b[0;32mimport\u001b[0m \u001b[0mCoralDependencySelector\u001b[0m\u001b[0;34m\u001b[0m\u001b[0m\n\u001b[1;32m     16\u001b[0m \u001b[0;32mfrom\u001b[0m \u001b[0mnumbskull\u001b[0m\u001b[0;34m.\u001b[0m\u001b[0mudf\u001b[0m \u001b[0;32mimport\u001b[0m \u001b[0;34m*\u001b[0m\u001b[0;34m\u001b[0m\u001b[0m\n",
      "\u001b[0;31mImportError\u001b[0m: No module named learning"
     ]
    }
   ],
   "source": [
    "import sys\n",
    "# sys.path.append('/dfs/scratch0/paroma/coral')\n",
    "sys.path.append('../') #adding Coral Home, temp hack\n",
    "sys.path.append('/Users/vincentchen/code/numbskull') # for numbskull\n",
    "sys.path.append('/Users/vincentchen/code/coral-experimental/venv/lib/python2.7') # for numba\n",
    "# sys.path.append('/afs/cs.stanford.edu/u/paroma/coral') #adding Coral Home, temp hack\n",
    "\n",
    "L_names = [lf_area, lf_eccentricity, lf_perimeter, lf_intensity, lf_ratio]\n",
    "from coral.static_analysis.dependency_learning import find_dependencies\n",
    "L_deps = find_dependencies(L_names, primitive_names)\n",
    "print L_deps"
   ]
  },
  {
   "cell_type": "code",
   "execution_count": 43,
   "metadata": {
    "collapsed": true
   },
   "outputs": [],
   "source": [
    "L = np.zeros((len(L_names), num_examples))\n",
    "for i in xrange(num_examples):\n",
    "    for j in xrange(5):\n",
    "        vocab_elems = P.primitive_mtx[i,L_deps[j]]\n",
    "        L[j,i] = L_names[j](*vocab_elems)"
   ]
  },
  {
   "cell_type": "markdown",
   "metadata": {},
   "source": [
    "## Evaluate HFs"
   ]
  },
  {
   "cell_type": "code",
   "execution_count": 37,
   "metadata": {},
   "outputs": [
    {
     "name": "stdout",
     "output_type": "stream",
     "text": [
      "672\n",
      "Coverage: 0.860119047619\n"
     ]
    }
   ],
   "source": [
    "# indexes for values that have HFs could not label\n",
    "unlabeled = np.sum(np.abs(L), axis=0)\n",
    "print len(unlabeled)\n",
    "print 'Coverage:', 1-float(np.sum(unlabeled == 0))/len(unlabeled)"
   ]
  },
  {
   "cell_type": "code",
   "execution_count": 10,
   "metadata": {},
   "outputs": [
    {
     "name": "stdout",
     "output_type": "stream",
     "text": [
      "LF: 2 ('Only one class present in y_true. ROC AUC score is not defined in that case.',)\n"
     ]
    }
   ],
   "source": [
    "from sklearn.metrics import recall_score, precision_score, f1_score, roc_auc_score\n",
    "\n",
    "total = float(num_examples)\n",
    "\n",
    "stats_table = np.zeros((5,6))\n",
    "# for i in range(5):   \n",
    "for i in range(5):    \n",
    "    predicted = L[i, :]\n",
    "    stats_table[i,5] = precision_score(predicted[predicted != 0], labels[predicted != 0])\n",
    "    stats_table[i,4] = recall_score(predicted[predicted != 0], labels[predicted != 0])\n",
    "    stats_table[i,3] = f1_score(predicted[predicted != 0], labels[predicted != 0])\n",
    "    stats_table[i,2] = np.sum(L[i,:] == labels)/float(np.sum(L[i,:] != 0))\n",
    "    try: \n",
    "        stats_table[i,1] = roc_auc_score(predicted[predicted != 0], labels[predicted != 0])\n",
    "    except ValueError as err: \n",
    "        stats_table[i,1] = None\n",
    "        print 'LF:', i, err.args\n",
    "    stats_table[i,0] = np.sum(L[i,:] != 0)/total\n"
   ]
  },
  {
   "cell_type": "code",
   "execution_count": 11,
   "metadata": {},
   "outputs": [
    {
     "data": {
      "text/html": [
       "<div>\n",
       "<style>\n",
       "    .dataframe thead tr:only-child th {\n",
       "        text-align: right;\n",
       "    }\n",
       "\n",
       "    .dataframe thead th {\n",
       "        text-align: left;\n",
       "    }\n",
       "\n",
       "    .dataframe tbody tr th {\n",
       "        vertical-align: top;\n",
       "    }\n",
       "</style>\n",
       "<table border=\"1\" class=\"dataframe\">\n",
       "  <thead>\n",
       "    <tr style=\"text-align: right;\">\n",
       "      <th></th>\n",
       "      <th>Coverage</th>\n",
       "      <th>AUC</th>\n",
       "      <th>Accuracy</th>\n",
       "      <th>F1</th>\n",
       "      <th>Recall</th>\n",
       "      <th>Precision</th>\n",
       "    </tr>\n",
       "  </thead>\n",
       "  <tbody>\n",
       "    <tr>\n",
       "      <th>lf_area</th>\n",
       "      <td>0.232143</td>\n",
       "      <td>0.607143</td>\n",
       "      <td>0.506410</td>\n",
       "      <td>0.393701</td>\n",
       "      <td>0.250000</td>\n",
       "      <td>0.925926</td>\n",
       "    </tr>\n",
       "    <tr>\n",
       "      <th>lf_eccentricity</th>\n",
       "      <td>0.714286</td>\n",
       "      <td>0.587273</td>\n",
       "      <td>0.643750</td>\n",
       "      <td>0.324111</td>\n",
       "      <td>0.200000</td>\n",
       "      <td>0.854167</td>\n",
       "    </tr>\n",
       "    <tr>\n",
       "      <th>lf_perimeter</th>\n",
       "      <td>0.169643</td>\n",
       "      <td>NaN</td>\n",
       "      <td>0.175439</td>\n",
       "      <td>0.298507</td>\n",
       "      <td>0.175439</td>\n",
       "      <td>1.000000</td>\n",
       "    </tr>\n",
       "    <tr>\n",
       "      <th>lf_intensity</th>\n",
       "      <td>0.119048</td>\n",
       "      <td>0.637931</td>\n",
       "      <td>0.475000</td>\n",
       "      <td>0.432432</td>\n",
       "      <td>0.275862</td>\n",
       "      <td>1.000000</td>\n",
       "    </tr>\n",
       "    <tr>\n",
       "      <th>lf_ratio</th>\n",
       "      <td>0.633929</td>\n",
       "      <td>0.597269</td>\n",
       "      <td>0.629108</td>\n",
       "      <td>0.352459</td>\n",
       "      <td>0.220513</td>\n",
       "      <td>0.877551</td>\n",
       "    </tr>\n",
       "  </tbody>\n",
       "</table>\n",
       "</div>"
      ],
      "text/plain": [
       "                 Coverage       AUC  Accuracy        F1    Recall  Precision\n",
       "lf_area          0.232143  0.607143  0.506410  0.393701  0.250000   0.925926\n",
       "lf_eccentricity  0.714286  0.587273  0.643750  0.324111  0.200000   0.854167\n",
       "lf_perimeter     0.169643       NaN  0.175439  0.298507  0.175439   1.000000\n",
       "lf_intensity     0.119048  0.637931  0.475000  0.432432  0.275862   1.000000\n",
       "lf_ratio         0.633929  0.597269  0.629108  0.352459  0.220513   0.877551"
      ]
     },
     "execution_count": 11,
     "metadata": {},
     "output_type": "execute_result"
    }
   ],
   "source": [
    "import pandas as pd\n",
    "stats_table = pd.DataFrame(stats_table, index = [i.__name__ for i in L_names], columns = [\"Coverage\", \"AUC\", \"Accuracy\", \"F1\", \"Recall\", \"Precision\"])\n",
    "stats_table"
   ]
  },
  {
   "cell_type": "markdown",
   "metadata": {},
   "source": [
    "### Evaluate Majority Vote"
   ]
  },
  {
   "cell_type": "code",
   "execution_count": 12,
   "metadata": {
    "collapsed": true
   },
   "outputs": [],
   "source": [
    "def label_metrics(pred_labels, labels, description=''):\n",
    "    print 'Accuracy of Coral on Train Set:', np.mean(labels == pred_labels)\n",
    "    print 'Recall of Coral on Train Set:', recall_score(labels, pred_labels)\n",
    "    print 'Precision of Coral on Train Set:', precision_score(labels, pred_labels)\n",
    "    print 'F1 of Coral on Train Set:', f1_score(labels, pred_labels)"
   ]
  },
  {
   "cell_type": "code",
   "execution_count": 13,
   "metadata": {},
   "outputs": [
    {
     "name": "stdout",
     "output_type": "stream",
     "text": [
      "Accuracy of Coral on Train Set: 0.588454376164\n",
      "Recall of Coral on Train Set: 0.923076923077\n",
      "Precision of Coral on Train Set: 0.217391304348\n",
      "F1 of Coral on Train Set: 0.351906158358\n",
      "AUC of Coral on Train Set: 0.732724902216\n"
     ]
    }
   ],
   "source": [
    "mv_labels = np.sign(np.sum(L.T,1))\n",
    "\n",
    "label_metrics(mv_labels[mv_labels != 0], labels[mv_labels != 0])\n",
    "print 'AUC of Coral on Train Set:', roc_auc_score(labels[mv_labels != 0], mv_labels[mv_labels != 0])"
   ]
  },
  {
   "cell_type": "markdown",
   "metadata": {},
   "source": [
    "## Run Coral Model"
   ]
  },
  {
   "cell_type": "code",
   "execution_count": 14,
   "metadata": {
    "collapsed": true
   },
   "outputs": [],
   "source": [
    "from coral.learning import CoralModel\n",
    "from coral.learning import CoralDependencySelector\n",
    "from numbskull.udf import *\n",
    "\n",
    "from coral.static_analysis.dependency_learning import discretize_primitives\n",
    "\n",
    "from scipy import sparse\n",
    "L_train = sparse.csr_matrix(L.T)"
   ]
  },
  {
   "cell_type": "markdown",
   "metadata": {
    "collapsed": true
   },
   "source": [
    "### Discretize Primitives for Gibbs Sampler"
   ]
  },
  {
   "cell_type": "code",
   "execution_count": 15,
   "metadata": {
    "collapsed": true
   },
   "outputs": [],
   "source": [
    "code = discretize_primitives(L_names)\n",
    "P.discrete_primitive_mtx = np.zeros((num_examples,len(primitive_names)))\n",
    "for i in range(num_examples):\n",
    "    for j in range(len(code)):\n",
    "        exec(code[j])\n",
    "\n",
    "P.discrete_primitive_mtx = P.discrete_primitive_mtx.astype(int)\n",
    "cardinality = []\n",
    "for v_idx in xrange(P.num_primitives):\n",
    "    cardinality.append(int(np.max(P.discrete_primitive_mtx[:,v_idx])+1))"
   ]
  },
  {
   "cell_type": "markdown",
   "metadata": {},
   "source": [
    "### Learn Accuracies and Assign Labels"
   ]
  },
  {
   "cell_type": "markdown",
   "metadata": {},
   "source": [
    "#### Define helpers"
   ]
  },
  {
   "cell_type": "code",
   "execution_count": 16,
   "metadata": {
    "collapsed": true
   },
   "outputs": [],
   "source": [
    "def find_best_marginal_threshold(marginals, search_step=0.001):\n",
    "    thresholds = np.arange(0, 1, search_step)\n",
    "    plot_recall = np.zeros(thresholds.shape)\n",
    "    plot_precision = np.zeros(thresholds.shape)\n",
    "    plot_f1 = np.zeros(thresholds.shape)\n",
    "    plot_accuracy = np.zeros(thresholds.shape)\n",
    "\n",
    "    best_f1 = -1\n",
    "    best_thresh = -1\n",
    "\n",
    "    for i in range(len(thresholds)): \n",
    "        coral_labels = 2 * (marginals > thresholds[i]) - 1\n",
    "        plot_recall[i] = recall_score(labels[unlabeled != 0], coral_labels[unlabeled != 0])\n",
    "        plot_precision[i] = precision_score(labels[unlabeled != 0], coral_labels[unlabeled != 0])\n",
    "        plot_f1[i] = f1_score(labels[unlabeled != 0], coral_labels[unlabeled != 0])\n",
    "        plot_accuracy[i] = np.mean(labels[unlabeled != 0] == coral_labels[unlabeled != 0])\n",
    "\n",
    "\n",
    "        if plot_f1[i] > best_f1: \n",
    "            best_f1 = plot_f1[i]\n",
    "            best_thresh = thresholds[i]\n",
    "\n",
    "    print 'best f1:', best_f1, 'best thresh:', best_thresh\n",
    "    plt.plot(thresholds, plot_recall, label='recall')\n",
    "    plt.plot(thresholds, plot_precision, label='precision')\n",
    "    plt.plot(thresholds, plot_f1, label='f1')\n",
    "    plt.plot(thresholds, plot_accuracy, label='accuracy')\n",
    "\n",
    "    plt.axvline(x=best_thresh, color='black', label='chosen threshold')\n",
    "\n",
    "    plt.legend(bbox_to_anchor=(1.1, 1.05))\n",
    "    plt.xlabel('threshold')\n",
    "    plt.ylabel('score')\n",
    "    plt.grid()\n",
    "    plt.show()\n",
    "    \n",
    "    return best_thresh"
   ]
  },
  {
   "cell_type": "code",
   "execution_count": 17,
   "metadata": {
    "collapsed": true
   },
   "outputs": [],
   "source": [
    "from sklearn.metrics import roc_curve, auc\n",
    "import matplotlib.pyplot as plt\n",
    "import random\n",
    "\n",
    "def auc_curves(marginals):\n",
    "    false_positive_rate, true_positive_rate, thresholds = roc_curve(labels[unlabeled != 0], mv_labels[unlabeled != 0], pos_label=1, drop_intermediate=False)\n",
    "    roc_auc = auc(false_positive_rate, true_positive_rate)\n",
    "\n",
    "    false_positive_rate_coral, true_positive_rate_coral, thresholds_coral = roc_curve(labels[unlabeled != 0], marginals[unlabeled != 0], pos_label=1, drop_intermediate=False)\n",
    "    roc_auc_coral = auc(false_positive_rate_coral, true_positive_rate_coral)\n",
    "\n",
    "    print 'mv auc:', roc_auc, 'coral auc:', roc_auc_coral\n",
    "    \n",
    "    plt.title('ROC Curves for MV and Generative Models')\n",
    "    plt.plot(false_positive_rate, true_positive_rate, 'b',\n",
    "    label='MV Model')\n",
    "    plt.plot(false_positive_rate_coral, true_positive_rate_coral, 'g',\n",
    "    label='Generative Model')\n",
    "    plt.plot([0,1],[0,1],'r--', label='Chance')\n",
    "    plt.xlim([0,1.0])\n",
    "    plt.ylim([0,1.0])\n",
    "    plt.ylabel('True Positive Rate')\n",
    "    plt.xlabel('False Positive Rate')\n",
    "    plt.legend(loc='lower right')\n",
    "    plt.show()"
   ]
  },
  {
   "cell_type": "code",
   "execution_count": 18,
   "metadata": {
    "collapsed": true
   },
   "outputs": [],
   "source": [
    "coral_model = CoralModel()"
   ]
  },
  {
   "cell_type": "markdown",
   "metadata": {},
   "source": [
    "#### search for epoch hyperparameters. uncomment to run"
   ]
  },
  {
   "cell_type": "code",
   "execution_count": 19,
   "metadata": {
    "collapsed": true
   },
   "outputs": [],
   "source": [
    "# %%time\n",
    "\n",
    "# from math import trunc\n",
    "\n",
    "# best_train_epoch = None\n",
    "# best_marginal_epoch = None\n",
    "# best_auc = -1\n",
    "\n",
    "# train_epochs = list(np.linspace(10, 1000, 5))\n",
    "# marginals_epochs = list(np.linspace(10, 1000, 5))\n",
    "\n",
    "# for t in train_epochs: \n",
    "#     for m in marginals_epochs: \n",
    "#         t_epochs = trunc(t)\n",
    "#         m_epochs = trunc(m)\n",
    "#         coral_model.train(P.discrete_primitive_mtx, cardinality, L_deps, MRI_UDF_OFFSET, \n",
    "#                           epochs=t_epochs)\n",
    "#         marginals = coral_model.marginals(P.discrete_primitive_mtx, cardinality, L_deps, MRI_UDF_OFFSET, \n",
    "#                           epochs=m_epochs)\n",
    "\n",
    "\n",
    "#         curr_auc = roc_auc_score(labels[unlabeled != 0], marginals[unlabeled != 0])\n",
    "#         print 'train:', t_epochs, 'marginals:', m_epochs, 'auc:', curr_auc\n",
    "\n",
    "#         if curr_auc > best_auc: \n",
    "#             best_auc = curr_auc\n",
    "#             print 'new best auc'\n",
    "#             best_train_epoch = t_epochs\n",
    "#             best_marginal_epoch = m_epochs\n",
    "\n",
    "# print \"-----best-----\"\n",
    "# print 'train:', best_train_epoch, 'marginals:',best_marginal_epoch, 'auc:', best_auc\n"
   ]
  },
  {
   "cell_type": "code",
   "execution_count": 20,
   "metadata": {
    "collapsed": true
   },
   "outputs": [],
   "source": [
    "# best 505, 257\n",
    "coral_model.train(P.discrete_primitive_mtx, cardinality, L_deps, MRI_UDF_OFFSET, epochs = 505)\n",
    "marginals = coral_model.marginals(P.discrete_primitive_mtx, cardinality, L_deps, MRI_UDF_OFFSET, epochs=257)"
   ]
  },
  {
   "cell_type": "code",
   "execution_count": 21,
   "metadata": {
    "scrolled": true
   },
   "outputs": [
    {
     "name": "stdout",
     "output_type": "stream",
     "text": [
      "best f1: 0.360856269113 best thresh: 0.456\n"
     ]
    },
    {
     "data": {
      "image/png": "[encoded data removed]",
      "text/plain": [
       "<matplotlib.figure.Figure at 0x112322790>"
      ]
     },
     "metadata": {},
     "output_type": "display_data"
    },
    {
     "name": "stdout",
     "output_type": "stream",
     "text": [
      "Accuracy of Coral on Train Set: 0.663879598662\n",
      "Recall of Coral on Train Set: 0.746268656716\n",
      "Precision of Coral on Train Set: 0.213675213675\n",
      "F1 of Coral on Train Set: 0.332225913621\n"
     ]
    }
   ],
   "source": [
    "marginal_thresh = find_best_marginal_threshold(marginals, 0.001)\n",
    "marginal_thresh = 0.81\n",
    "coral_labels = 2 * (marginals > marginal_thresh) - 1\n",
    "label_metrics(coral_labels[unlabeled != 0], labels[unlabeled != 0])"
   ]
  },
  {
   "cell_type": "code",
   "execution_count": 22,
   "metadata": {},
   "outputs": [
    {
     "name": "stdout",
     "output_type": "stream",
     "text": [
      "mv auc: 0.747421086657 coral auc: 0.737667594232\n"
     ]
    },
    {
     "data": {
      "image/png": "[encoded data removed]",
      "text/plain": [
       "<matplotlib.figure.Figure at 0x111fe0610>"
      ]
     },
     "metadata": {},
     "output_type": "display_data"
    }
   ],
   "source": [
    "auc_curves(marginals)"
   ]
  },
  {
   "cell_type": "code",
   "execution_count": 23,
   "metadata": {},
   "outputs": [
    {
     "name": "stdout",
     "output_type": "stream",
     "text": [
      "234\n"
     ]
    }
   ],
   "source": [
    "print len(np.where(coral_labels == 1)[0])"
   ]
  },
  {
   "cell_type": "markdown",
   "metadata": {},
   "source": [
    "### Assign Primitive Dependencies"
   ]
  },
  {
   "cell_type": "markdown",
   "metadata": {},
   "source": [
    "#### hp tuning for `thresh`, `reg`, `t_epochs` and `m_epochs`. uncomment to run"
   ]
  },
  {
   "cell_type": "code",
   "execution_count": 24,
   "metadata": {
    "collapsed": true
   },
   "outputs": [],
   "source": [
    "# #Extra hyperparameters to search over to find primitive level dependencies\n",
    "\n",
    "# best_thresh = None\n",
    "# best_reg = None\n",
    "# best_t_epochs = None\n",
    "# best_m_epochs = None\n",
    "# best_auc = -1\n",
    "\n",
    "# # train_epochs = list(np.linspace(10, 1000, 5))\n",
    "# # marginals_epochs = list(np.linspace(10, 1000, 5))\n",
    "# train_epochs = [100]\n",
    "# marginals_epochs = [1000]\n",
    "# reg_candidates = list(np.logspace(-4, 1, 5))\n",
    "# thresh_candidates = list(np.linspace(0.01, 0.2, 5))\n",
    "\n",
    "# for thresh in thresh_candidates:\n",
    "#     ds = CoralDependencySelector()\n",
    "#     deps = ds.select(P.discrete_primitive_mtx, cardinality, L_deps, \"MRI\", threshold=thresh)\n",
    "#     for reg in reg_candidates: \n",
    "#         for t in train_epochs: \n",
    "#             for m in marginals_epochs: \n",
    "#                 t_epochs = trunc(t)\n",
    "#                 m_epochs = trunc(m)\n",
    "        \n",
    "#                 coral_model = CoralModel()\n",
    "#                 coral_model.train(P.discrete_primitive_mtx, cardinality, L_deps, MRI_UDF_OFFSET, deps=list(deps), epochs=t_epochs, burn_in=0, reg_type=1, reg_param=reg)\n",
    "#                 marginals_deps = coral_model.marginals(P.discrete_primitive_mtx, cardinality, L_deps, MRI_UDF_OFFSET, deps=list(deps), epochs=m_epochs)\n",
    "\n",
    "#                 curr_auc = roc_auc_score(labels[unlabeled != 0], marginals_deps[unlabeled != 0])\n",
    "#                 print 'auc:', curr_auc, 'thresh:', thresh, 'reg:', reg, 't_epochs:', t_epochs, 'm_epochs:', m_epochs\n",
    "\n",
    "#                 if curr_auc > best_auc: \n",
    "#                     best_auc = curr_auc\n",
    "#                     print 'new best auc'\n",
    "#                     best_reg = reg\n",
    "#                     best_thresh = thresh\n",
    "#                     best_t_epochs = t_epochs\n",
    "#                     best_m_epochs = m_epochs\n",
    "            \n",
    "# print \"-----best-----\"\n",
    "# print 'thresh:', best_thresh, 'reg:', best_reg ,'auc:', best_auc, 'best_m_epochs:', best_m_epochs, 'best_t_epochs:', best_t_epochs"
   ]
  },
  {
   "cell_type": "code",
   "execution_count": 25,
   "metadata": {
    "collapsed": true
   },
   "outputs": [],
   "source": [
    "ds = CoralDependencySelector()\n",
    "deps = ds.select(P.discrete_primitive_mtx, cardinality, L_deps, \"MRI\", threshold=0.0733333333333)\n",
    "coral_model = CoralModel()\n",
    "#Same calls as before but with additional \"deps\" argument in train and marginals\n",
    "coral_model.train(P.discrete_primitive_mtx, cardinality, L_deps, MRI_UDF_OFFSET, deps=list(deps), epochs=1000, burn_in=0, reg_type=1, reg_param=0.0599484250319)\n",
    "marginals_deps = coral_model.marginals(P.discrete_primitive_mtx, cardinality, L_deps, MRI_UDF_OFFSET, deps=list(deps), epochs=890)"
   ]
  },
  {
   "cell_type": "code",
   "execution_count": 26,
   "metadata": {},
   "outputs": [
    {
     "name": "stderr",
     "output_type": "stream",
     "text": [
      "/anaconda/lib/python2.7/site-packages/sklearn/metrics/classification.py:1135: UndefinedMetricWarning: Precision is ill-defined and being set to 0.0 due to no predicted samples.\n",
      "  'precision', 'predicted', average, warn_for)\n",
      "/anaconda/lib/python2.7/site-packages/sklearn/metrics/classification.py:1135: UndefinedMetricWarning: F-score is ill-defined and being set to 0.0 due to no predicted samples.\n",
      "  'precision', 'predicted', average, warn_for)\n"
     ]
    },
    {
     "name": "stdout",
     "output_type": "stream",
     "text": [
      "best f1: 0.368580060423 best thresh: 0.483\n"
     ]
    },
    {
     "data": {
      "image/png": "[encoded data removed]",
      "text/plain": [
       "<matplotlib.figure.Figure at 0x11583d210>"
      ]
     },
     "metadata": {},
     "output_type": "display_data"
    },
    {
     "name": "stdout",
     "output_type": "stream",
     "text": [
      "Accuracy of Coral on Train Set: 0.650501672241\n",
      "Recall of Coral on Train Set: 0.910447761194\n",
      "Precision of Coral on Train Set: 0.231060606061\n",
      "F1 of Coral on Train Set: 0.368580060423\n"
     ]
    }
   ],
   "source": [
    "marginal_thresh = find_best_marginal_threshold(marginals_deps, 0.001)\n",
    "coral_labels = 2 * (marginals_deps > marginal_thresh) - 1\n",
    "label_metrics(coral_labels[unlabeled != 0], labels[unlabeled != 0])"
   ]
  },
  {
   "cell_type": "code",
   "execution_count": 27,
   "metadata": {},
   "outputs": [
    {
     "name": "stdout",
     "output_type": "stream",
     "text": [
      "Accuracy of Coral on Train Set: 0.765886287625\n",
      "Recall of Coral on Train Set: 0.462686567164\n",
      "Precision of Coral on Train Set: 0.22962962963\n",
      "F1 of Coral on Train Set: 0.306930693069\n",
      "0.225752508361\n"
     ]
    }
   ],
   "source": [
    "# attempt to manually set threshold \n",
    "coral_labels = 2 * (marginals_deps > 0.95) - 1\n",
    "label_metrics(coral_labels[unlabeled != 0], labels[unlabeled != 0])\n",
    "print 1.0* np.sum(coral_labels[unlabeled != 0] == 1) / len(coral_labels[unlabeled != 0])"
   ]
  },
  {
   "cell_type": "code",
   "execution_count": 28,
   "metadata": {},
   "outputs": [
    {
     "name": "stdout",
     "output_type": "stream",
     "text": [
      "mv auc: 0.747421086657 coral auc: 0.756359445709\n"
     ]
    },
    {
     "data": {
      "image/png": "[encoded data removed]",
      "text/plain": [
       "<matplotlib.figure.Figure at 0x1158c7f90>"
      ]
     },
     "metadata": {},
     "output_type": "display_data"
    }
   ],
   "source": [
    "auc_curves(marginals_deps)"
   ]
  },
  {
   "cell_type": "code",
   "execution_count": 29,
   "metadata": {
    "collapsed": true
   },
   "outputs": [],
   "source": [
    "np.save('marginals.npy', marginals_deps)"
   ]
  },
  {
   "cell_type": "code",
   "execution_count": null,
   "metadata": {
    "collapsed": true
   },
   "outputs": [],
   "source": []
  }
 ],
 "metadata": {
  "kernelspec": {
   "display_name": "Python 2",
   "language": "python",
   "name": "python2"
  },
  "language_info": {
   "codemirror_mode": {
    "name": "ipython",
    "version": 2
   },
   "file_extension": ".py",
   "mimetype": "text/x-python",
   "name": "python",
   "nbconvert_exporter": "python",
   "pygments_lexer": "ipython2",
   "version": "2.7.13"
  }
 },
 "nbformat": 4,
 "nbformat_minor": 2
}
