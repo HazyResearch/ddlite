{
 "cells": [
  {
   "cell_type": "code",
   "execution_count": 1,
   "metadata": {
    "collapsed": false
   },
   "outputs": [],
   "source": [
    "import os\n",
    "os.remove('snorkel.db') #need these two files to exist in sandbox directory. Just copy from tutorials\n",
    "os.system('cp snorkel.db\\ corpus snorkel.db');"
   ]
  },
  {
   "cell_type": "code",
   "execution_count": 2,
   "metadata": {
    "collapsed": false
   },
   "outputs": [],
   "source": [
    "%load_ext autoreload\n",
    "%autoreload 2\n",
    "%matplotlib inline\n",
    "\n",
    "from snorkel import SnorkelSession\n",
    "session = SnorkelSession()\n",
    "\n",
    "import sys\n",
    "sys.path.append(os.environ['SNORKELHOME'] + '/tutorials/tables/')"
   ]
  },
  {
   "cell_type": "code",
   "execution_count": 3,
   "metadata": {
    "collapsed": false
   },
   "outputs": [
    {
     "name": "stdout",
     "output_type": "stream",
     "text": [
      "Corpus (Hardware) contains 100 Documents\n"
     ]
    }
   ],
   "source": [
    "from snorkel.models import Corpus\n",
    "\n",
    "corpus = session.query(Corpus).filter(Corpus.name == 'Hardware').one()\n",
    "print \"%s contains %d Documents\" % (corpus, len(corpus))\n"
   ]
  },
  {
   "cell_type": "code",
   "execution_count": 4,
   "metadata": {
    "collapsed": false
   },
   "outputs": [],
   "source": [
    "from snorkel.models import candidate_subclass\n",
    "import re\n",
    "\n",
    "Part = candidate_subclass('Part', ['part'])\n",
    "\n",
    "from hardware_utils import OmniNgramsPart, OmniNgramsTemp\n",
    "\n",
    "part_ngrams = OmniNgramsPart(n_max=3, split_tokens=None)\n",
    "\n",
    "from hardware_utils import load_extended_parts_dict\n",
    "from snorkel.matchers import DictionaryMatch, RegexMatchEach, RegexMatchSpan, Union\n",
    "\n",
    "# filename = os.environ['SNORKELHOME'] + '/tutorials/tables/data/hardware/hardware_gold.csv'\n",
    "# parts_dict = load_extended_parts_dict(filename)\n",
    "# print \"Loaded %d part numbers.\" % len(parts_dict)\n",
    "# parts_matcher = DictionaryMatch(d=parts_dict)\n",
    "\n",
    "eeca_matcher = RegexMatchSpan(rgx='([b]{1}[abcdefklnpqruyz]{1}[\\swxyz]?[0-9]{3,5}[\\s]?[A-Z\\/]{0,5}[0-9]?[A-Z]?([-][A-Z0-9]{1,7})?([-][A-Z0-9]{1,2})?)')\n",
    "jedec_matcher = RegexMatchSpan(rgx='([123]N\\d{3,4}[A-Z]{0,5}[0-9]?[A-Z]?)')\n",
    "jis_matcher = RegexMatchSpan(rgx='(2S[abcdefghjkmqrstvz]{1}[\\d]{2,4})')\n",
    "others_matcher = RegexMatchSpan(rgx='((NSVBC|SMBT|MJ|MJE|MPS|MRF|RCA|TIP|ZTX|ZT|TIS|TIPL|DTC|MMBT|PZT){1}[\\d]{2,4}[A-Z]{0,3}([-][A-Z0-9]{0,6})?([-][A-Z0-9]{0,1})?)')\n",
    "parts_matcher = Union(eeca_matcher, jedec_matcher, jis_matcher, others_matcher)"
   ]
  },
  {
   "cell_type": "code",
   "execution_count": 5,
   "metadata": {
    "collapsed": false
   },
   "outputs": [],
   "source": [
    "from hardware_utils import get_gold_parts, get_gold_dict\n",
    "\n",
    "gold_file = os.environ['SNORKELHOME'] + '/tutorials/tables/data/hardware/hardware_gold.csv'\n",
    "gold_parts = get_gold_parts(gold_file)"
   ]
  },
  {
   "cell_type": "code",
   "execution_count": 6,
   "metadata": {
    "collapsed": false
   },
   "outputs": [
    {
     "name": "stdout",
     "output_type": "stream",
     "text": [
      "257 0\n"
     ]
    }
   ],
   "source": [
    "# Confirm that all gold parts are findable by regular expression\n",
    "tp = []\n",
    "fn = []\n",
    "for g in gold_parts:\n",
    "    if (re.match(eeca_matcher.rgx, g, flags=re.I) is not None \n",
    "        or re.match(jedec_matcher.rgx, g, flags=re.I)\n",
    "        or re.match(jis_matcher.rgx, g, flags=re.I)\n",
    "        or re.match(others_matcher.rgx, g, flags=re.I) is not None):\n",
    "        tp.append(g)\n",
    "    else:\n",
    "        fn.append(g)\n",
    "print len(tp), len(fn)"
   ]
  },
  {
   "cell_type": "code",
   "execution_count": 7,
   "metadata": {
    "collapsed": false
   },
   "outputs": [
    {
     "name": "stdout",
     "output_type": "stream",
     "text": [
      "['BC817-16', 'BC857', 'BC856', 'BC849BW', '2N4124']\n",
      "---------------------\n",
      "[]\n"
     ]
    }
   ],
   "source": [
    "print tp[:5]\n",
    "print '---------------------'\n",
    "print fn[:5]"
   ]
  },
  {
   "cell_type": "code",
   "execution_count": 8,
   "metadata": {
    "collapsed": false
   },
   "outputs": [],
   "source": [
    "# import re\n",
    "# from collections import defaultdict\n",
    "\n",
    "# rgx = re.compile(r'\\w*\\d+(\\-[\\w]+|[A-Z]+[\\w\\-\\/]*)')\n",
    "# # rgx = re.compile(r'\\w+-\\w*-\\w+')\n",
    "# suffixes = defaultdict(int)\n",
    "# print len(gold_parts)\n",
    "# for g in gold_parts:\n",
    "#     m = rgx.match(g)\n",
    "#     if m:\n",
    "#         suffixes[m.group(1)] += 1\n",
    "#         if m.group(1)=='-25ZL1GA':\n",
    "#             print g\n",
    "# print len(suffixes)"
   ]
  },
  {
   "cell_type": "code",
   "execution_count": 9,
   "metadata": {
    "collapsed": false
   },
   "outputs": [],
   "source": [
    "# # from collections import Counter\n",
    "# counter = Counter(suffixes.values())\n",
    "# print counter\n",
    "# print suffixes"
   ]
  },
  {
   "cell_type": "code",
   "execution_count": 10,
   "metadata": {
    "collapsed": false
   },
   "outputs": [],
   "source": [
    "from snorkel.candidates import CandidateExtractor\n",
    "\n",
    "ce = CandidateExtractor(Part, [part_ngrams], [parts_matcher])"
   ]
  },
  {
   "cell_type": "code",
   "execution_count": 11,
   "metadata": {
    "collapsed": false
   },
   "outputs": [
    {
     "name": "stdout",
     "output_type": "stream",
     "text": [
      "[========================================] 100%\n",
      "\n",
      "CPU times: user 42 s, sys: 456 ms, total: 42.5 s\n",
      "Wall time: 42.4 s\n",
      "Candidate Set (Hardware Candidates) contains 14174 Candidates\n"
     ]
    }
   ],
   "source": [
    "%time candidates = ce.extract(corpus.documents, 'Hardware Candidates', session)\n",
    "print \"%s contains %d Candidates\" % (candidates, len(candidates))"
   ]
  },
  {
   "cell_type": "code",
   "execution_count": 12,
   "metadata": {
    "collapsed": false
   },
   "outputs": [
    {
     "name": "stdout",
     "output_type": "stream",
     "text": [
      "14174\n",
      "Part(Span(\"MMBT3904\", parent=3589, chars=[0,7], words=[0,0]))\n"
     ]
    }
   ],
   "source": [
    "print len(candidates)\n",
    "print candidates[0]"
   ]
  },
  {
   "cell_type": "code",
   "execution_count": 13,
   "metadata": {
    "collapsed": false
   },
   "outputs": [
    {
     "name": "stdout",
     "output_type": "stream",
     "text": [
      "Part(Span(\"MMBT3904\", parent=3589, chars=[0,7], words=[0,0]))\n",
      "Part(ImplicitSpan(\"MMBT3904\", parent=44041, words=[0,0], position=[0]))\n",
      "Part(Span(\"MMBT3904\", parent=3661, chars=[0,7], words=[0,0]))\n"
     ]
    }
   ],
   "source": [
    "for c in candidates[:3]: print c"
   ]
  },
  {
   "cell_type": "code",
   "execution_count": 14,
   "metadata": {
    "collapsed": false
   },
   "outputs": [
    {
     "name": "stdout",
     "output_type": "stream",
     "text": [
      "Preparing candidates...\n",
      "[========================================] 100%\n",
      "\n",
      "========================================\n",
      "Scoring on Entity-Level Total Recall\n",
      "========================================\n",
      "Entity-level Candidates extracted: 1358 \n",
      "Entity-level Gold: 584\n",
      "Intersection Candidates: 553\n",
      "----------------------------------------\n",
      "Overlap with Gold:  0.95\n",
      "========================================\n",
      "\n"
     ]
    }
   ],
   "source": [
    "# TEMP\n",
    "from hardware_utils import entity_level_total_recall\n",
    "\n",
    "filename = os.environ['SNORKELHOME'] + '/tutorials/tables/data/hardware/hardware_gold.csv'\n",
    "(tp, fp, fn) = entity_level_total_recall(candidates, filename, 'stg_temp_min', relation=False)"
   ]
  }
 ],
 "metadata": {
  "anaconda-cloud": {},
  "kernelspec": {
   "display_name": "Python [default]",
   "language": "python",
   "name": "python2"
  },
  "language_info": {
   "codemirror_mode": {
    "name": "ipython",
    "version": 2
   },
   "file_extension": ".py",
   "mimetype": "text/x-python",
   "name": "python",
   "nbconvert_exporter": "python",
   "pygments_lexer": "ipython2",
   "version": "2.7.10"
  }
 },
 "nbformat": 4,
 "nbformat_minor": 1
}
