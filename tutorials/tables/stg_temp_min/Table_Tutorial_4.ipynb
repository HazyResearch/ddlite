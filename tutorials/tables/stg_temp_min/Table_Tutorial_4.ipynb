{
 "cells": [
  {
   "cell_type": "markdown",
   "metadata": {},
   "source": [
    "## Part IV:  Features and Labeling Functions"
   ]
  },
  {
   "cell_type": "markdown",
   "metadata": {},
   "source": [
    "## Generating Features"
   ]
  },
  {
   "cell_type": "code",
   "execution_count": 1,
   "metadata": {
    "collapsed": false
   },
   "outputs": [],
   "source": [
    "# If necessary:\n",
    "import os\n",
    "os.remove('snorkel.db');\n",
    "os.system('cp snorkel.db\\ labels snorkel.db');"
   ]
  },
  {
   "cell_type": "code",
   "execution_count": 2,
   "metadata": {
    "collapsed": false
   },
   "outputs": [
    {
     "name": "stdout",
     "output_type": "stream",
     "text": [
      "The autoreload extension is already loaded. To reload it, use:\n",
      "  %reload_ext autoreload\n"
     ]
    }
   ],
   "source": [
    "%load_ext autoreload\n",
    "%autoreload 2\n",
    "\n",
    "import os\n",
    "import sys\n",
    "sys.path.append(os.environ['SNORKELHOME'] + '/tutorials/tables/')\n",
    "\n",
    "from snorkel import SnorkelSession\n",
    "session = SnorkelSession()"
   ]
  },
  {
   "cell_type": "code",
   "execution_count": 3,
   "metadata": {
    "collapsed": false
   },
   "outputs": [],
   "source": [
    "from snorkel.models import candidate_subclass\n",
    "\n",
    "Part_Temp = candidate_subclass('Part_Temp', ['part','temp'])"
   ]
  },
  {
   "cell_type": "markdown",
   "metadata": {},
   "source": [
    "### Loading the `CandidateSet`"
   ]
  },
  {
   "cell_type": "code",
   "execution_count": 4,
   "metadata": {
    "collapsed": false
   },
   "outputs": [],
   "source": [
    "from snorkel.models import CandidateSet\n",
    "train = session.query(CandidateSet).filter(\n",
    "    CandidateSet.name == 'Hardware Training Candidates').one()\n",
    "dev = session.query(CandidateSet).filter(\n",
    "    CandidateSet.name == 'Hardware Development Candidates').one()"
   ]
  },
  {
   "cell_type": "markdown",
   "metadata": {},
   "source": [
    "### Creating feature matrix"
   ]
  },
  {
   "cell_type": "code",
   "execution_count": 5,
   "metadata": {
    "collapsed": false
   },
   "outputs": [],
   "source": [
    "from snorkel.fast_annotations import FeatureManager\n",
    "\n",
    "feature_manager = FeatureManager()"
   ]
  },
  {
   "cell_type": "code",
   "execution_count": 6,
   "metadata": {
    "collapsed": false,
    "scrolled": true
   },
   "outputs": [
    {
     "name": "stdout",
     "output_type": "stream",
     "text": [
      "[========================================] 100%\n",
      "\n",
      "Bulk upserting 16144847 annotations...\n",
      "Done.\n",
      "Loading sparse Feature matrix...\n",
      "CPU times: user 32min 55s, sys: 15min 2s, total: 47min 57s\n",
      "Wall time: 52min 59s\n"
     ]
    }
   ],
   "source": [
    "%time F_train = feature_manager.create(session, train, 'Train Features')"
   ]
  },
  {
   "cell_type": "code",
   "execution_count": 7,
   "metadata": {
    "collapsed": false
   },
   "outputs": [
    {
     "name": "stdout",
     "output_type": "stream",
     "text": [
      "[========================================] 100%\n",
      "\n",
      "Bulk upserting 889374 annotations...\n",
      "Done.\n",
      "Loading sparse Feature matrix...\n",
      "CPU times: user 7min 40s, sys: 1min 53s, total: 9min 33s\n",
      "Wall time: 10min 10s\n"
     ]
    }
   ],
   "source": [
    "%time F_dev = feature_manager.update(session, dev, 'Train Features', expand_key_set=False)"
   ]
  },
  {
   "cell_type": "markdown",
   "metadata": {},
   "source": [
    "### Investigating feature matrix"
   ]
  },
  {
   "cell_type": "code",
   "execution_count": 8,
   "metadata": {
    "collapsed": false,
    "scrolled": true
   },
   "outputs": [
    {
     "data": {
      "text/plain": [
       "<85377x21487 sparse matrix of type '<type 'numpy.float64'>'\n",
       "\twith 16144847 stored elements in Compressed Sparse Row format>"
      ]
     },
     "execution_count": 8,
     "metadata": {},
     "output_type": "execute_result"
    }
   ],
   "source": [
    "F_train"
   ]
  },
  {
   "cell_type": "code",
   "execution_count": 9,
   "metadata": {
    "collapsed": false
   },
   "outputs": [
    {
     "data": {
      "text/plain": [
       "<9502x21487 sparse matrix of type '<type 'numpy.float64'>'\n",
       "\twith 889374 stored elements in Compressed Sparse Row format>"
      ]
     },
     "execution_count": 9,
     "metadata": {},
     "output_type": "execute_result"
    }
   ],
   "source": [
    "F_dev"
   ]
  },
  {
   "cell_type": "code",
   "execution_count": 10,
   "metadata": {
    "collapsed": false
   },
   "outputs": [
    {
     "data": {
      "text/plain": [
       "Part_Temp(ImplicitSpan(\"MMBT3904\", parent=92260, words=[0,0], position=[0]), ImplicitSpan(\"-55\", parent=10795, words=[7,7], position=[0]))"
      ]
     },
     "execution_count": 10,
     "metadata": {},
     "output_type": "execute_result"
    }
   ],
   "source": [
    "F_train.get_candidate(0)"
   ]
  },
  {
   "cell_type": "code",
   "execution_count": 11,
   "metadata": {
    "collapsed": false
   },
   "outputs": [
    {
     "data": {
      "text/plain": [
       "AnnotationKey (TAB_e1_HTML_TAG_p)"
      ]
     },
     "execution_count": 11,
     "metadata": {},
     "output_type": "execute_result"
    }
   ],
   "source": [
    "F_train.get_key(0)"
   ]
  },
  {
   "cell_type": "code",
   "execution_count": 12,
   "metadata": {
    "collapsed": false
   },
   "outputs": [
    {
     "name": "stdout",
     "output_type": "stream",
     "text": [
      "AnnotationKey (TAB_e1_HTML_TAG_p)\n",
      "AnnotationKey (TAB_e1_HTML_ANC_TAG_[html])\n",
      "AnnotationKey (TAB_e1_HTML_ANC_TAG_[body])\n",
      "AnnotationKey (TAB_e1_HTML_ANC_TAG_[table])\n",
      "AnnotationKey (TAB_e1_HTML_ANC_TAG_[tr])\n",
      "AnnotationKey (TAB_e1_HTML_ANC_TAG_[td])\n",
      "AnnotationKey (TAB_e1_HTML_ANC_TAG_[p])\n",
      "AnnotationKey (TAB_e2_HTML_TAG_p)\n",
      "AnnotationKey (TAB_e2_HTML_ANC_TAG_[html])\n",
      "AnnotationKey (TAB_e2_HTML_ANC_TAG_[body])\n"
     ]
    }
   ],
   "source": [
    "from snorkel.utils import get_keys_by_candidate\n",
    "\n",
    "for f in get_keys_by_candidate(F_train, F_train.get_candidate(1))[:10]: print f"
   ]
  },
  {
   "cell_type": "markdown",
   "metadata": {},
   "source": [
    "### Saving feature matrices"
   ]
  },
  {
   "cell_type": "code",
   "execution_count": 13,
   "metadata": {
    "collapsed": true
   },
   "outputs": [],
   "source": [
    "# If necessary:\n",
    "import os\n",
    "os.system('cp snorkel.db snorkel.db\\ featurized');"
   ]
  },
  {
   "cell_type": "markdown",
   "metadata": {},
   "source": [
    "## Applying LFs"
   ]
  },
  {
   "cell_type": "code",
   "execution_count": null,
   "metadata": {
    "collapsed": false
   },
   "outputs": [],
   "source": [
    "# If necessary:\n",
    "import os\n",
    "os.remove('snorkel.db');\n",
    "os.system('cp snorkel.db\\ featurized snorkel.db');\n",
    "\n",
    "from snorkel import SnorkelSession\n",
    "session = SnorkelSession()\n",
    "\n",
    "from snorkel.models import candidate_subclass\n",
    "Part_Temp = candidate_subclass('Part_Temp', ['part','temp'])\n",
    "\n",
    "from snorkel.models import CandidateSet\n",
    "train = session.query(CandidateSet).filter(\n",
    "    CandidateSet.name == 'Hardware Training Candidates').one()"
   ]
  },
  {
   "cell_type": "code",
   "execution_count": 31,
   "metadata": {
    "collapsed": false
   },
   "outputs": [],
   "source": [
    "from snorkel.annotations import LabelManager\n",
    "\n",
    "label_manager = LabelManager()"
   ]
  },
  {
   "cell_type": "markdown",
   "metadata": {},
   "source": [
    "### Defining Labeling Functions"
   ]
  },
  {
   "cell_type": "code",
   "execution_count": 32,
   "metadata": {
    "collapsed": false
   },
   "outputs": [],
   "source": [
    "from snorkel.lf_helpers import *\n",
    "\n",
    "LFs = []\n",
    "\n",
    "# POSITIVE\n",
    "\n",
    "def LF_to_right(c):\n",
    "    return 1 if 'to' in get_right_ngrams(c.temp, window=1) else 0\n",
    "LFs.append(LF_to_right)\n",
    "\n",
    "def LF_150_right(c):\n",
    "    return 1 if '150' in get_right_ngrams(c.temp, window=4) else 0\n",
    "LFs.append(LF_150_right)\n",
    "\n",
    "def LF_storage_row(c):\n",
    "    return 1 if 'storage' in get_row_ngrams(c.temp) else 0\n",
    "LFs.append(LF_storage_row)\n",
    "\n",
    "def LF_operating_row(c):\n",
    "    return 1 if 'operating' in get_row_ngrams(c.temp) else 0\n",
    "LFs.append(LF_operating_row)\n",
    "\n",
    "def LF_temperature_row(c):\n",
    "    return 1 if 'temperature' in get_row_ngrams(c.temp) else 0\n",
    "LFs.append(LF_temperature_row)\n",
    "\n",
    "def LF_tstg_row(c):\n",
    "    return 1 if overlap(\n",
    "        ['tstg','stg','ts'], \n",
    "        list(get_row_ngrams(c.temp))) else 0\n",
    "LFs.append(LF_tstg_row)\n",
    "\n",
    "# NEGATIVE\n",
    "\n",
    "def LF_not_temp_relevant(c):\n",
    "    return -1 if not overlap(\n",
    "        ['storage','temperature','tstg','ts','stg'],\n",
    "        list(get_aligned_ngrams(c.temp))) else 0\n",
    "LFs.append(LF_not_temp_relevant)\n",
    "\n",
    "def LF_temp_outside_table(c):\n",
    "    return -1 if c.temp.parent.row is None else 0\n",
    "LFs.append(LF_temp_outside_table)\n",
    "\n",
    "def LF_too_many_numbers_row(c):\n",
    "    num_numbers = list(get_row_ngrams(c.temp, attrib=\"ner_tags\")).count('number')\n",
    "    return -1 if num_numbers >= 3 else 0\n",
    "LFs.append(LF_too_many_numbers_row)\n",
    "\n",
    "def LF_collector_aligned(c):\n",
    "    return -1 if overlap(\n",
    "        ['collector', 'collector-current', 'collector-base', 'collector-emitter'],\n",
    "        list(get_aligned_ngrams(c.temp))) else 0\n",
    "LFs.append(LF_collector_aligned)\n",
    "\n",
    "def LF_current_aligned(c):\n",
    "    ngrams = get_aligned_ngrams(c.temp)\n",
    "    return -1 if overlap(\n",
    "        ['current', 'dc', 'ic'],\n",
    "        list(get_aligned_ngrams(c.temp))) else 0\n",
    "LFs.append(LF_current_aligned)\n",
    "\n",
    "def LF_voltage_row_temp(c):\n",
    "    ngrams = get_aligned_ngrams(c.temp)\n",
    "    return -1 if overlap(\n",
    "        ['voltage', 'cbo', 'ceo', 'ebo', 'v'],\n",
    "        list(get_aligned_ngrams(c.temp))) else 0\n",
    "LFs.append(LF_voltage_row_temp)\n",
    "\n",
    "def LF_voltage_row_part(c):\n",
    "    ngrams = get_aligned_ngrams(c.part)\n",
    "    return -1 if overlap(\n",
    "        ['voltage', 'cbo', 'ceo', 'ebo', 'v'],\n",
    "        list(get_aligned_ngrams(c.temp))) else 0\n",
    "LFs.append(LF_voltage_row_part)\n",
    "\n",
    "def LF_typ_row(c):\n",
    "    return -1 if overlap(\n",
    "        ['typ', 'typ.'],\n",
    "        list(get_row_ngrams(c.temp))) else 0\n",
    "LFs.append(LF_typ_row)\n",
    "\n",
    "def LF_test_condition_aligned(c):\n",
    "    return -1 if overlap(\n",
    "        ['test', 'condition'],\n",
    "        list(get_aligned_ngrams(c.temp))) else 0\n",
    "LFs.append(LF_test_condition_aligned)\n",
    "\n",
    "def LF_complement_left_row(c):\n",
    "    return -1 if 'complement' in get_row_ngrams(c.part) else 0\n",
    "LFs.append(LF_complement_left_row)"
   ]
  },
  {
   "cell_type": "code",
   "execution_count": 33,
   "metadata": {
    "collapsed": true
   },
   "outputs": [],
   "source": [
    "# LF2s = []\n",
    "# from snorkel.models import AnnotationKey\n",
    "# from snorkel.utils import get_ORM_instance\n",
    "\n",
    "# %time F_train = feature_manager.load(session, train, 'Train Features')\n",
    "\n",
    "# def feature_lookup(candidate, entity, ngram, helper, attrib='words'):\n",
    "#     if helper == 'get_row_ngrams':\n",
    "#         feature = entity + \"_ROW_%s_[%s]\" % (attrib.upper(), ngram)\n",
    "#         key = get_ORM_instance(AnnotationKey, session, feature)\n",
    "#     return F_train[get_row_index(candidate), get_col_index(key)]\n",
    "    \n",
    "# def LF2_storage_row(c):\n",
    "#     return 1 if feauture_lookup(c, 'e1', 'storage', 'get_row_ngrams') else 0\n",
    "# LF2s.append(LF_storage_row)\n",
    "\n",
    "# def LF2_operating_row(c):\n",
    "#     return 1 if 'operating' in get_row_ngrams(c.temp) else 0\n",
    "# LF2s.append(LF_operating_row)\n"
   ]
  },
  {
   "cell_type": "markdown",
   "metadata": {},
   "source": [
    "### Testing LFs and LF_helpers"
   ]
  },
  {
   "cell_type": "code",
   "execution_count": 34,
   "metadata": {
    "collapsed": false
   },
   "outputs": [
    {
     "name": "stdout",
     "output_type": "stream",
     "text": [
      "ImplicitSpan(\"BC817W\", parent=99496, words=[4,4], position=[7])\n",
      "ImplicitSpan(\"-65\", parent=99136, words=[0,1], position=[0])\n",
      "Phrase(Doc: PHGLS20126-1, Table: 13, Row: 13, Col: 6, Position: 0, Text: - 65)\n",
      "Table(Doc: PHGLS20126-1, Position: 13)\n",
      "True\n",
      "False\n",
      "False\n"
     ]
    }
   ],
   "source": [
    "from snorkel.lf_helpers import get_right_ngrams, get_left_ngrams\n",
    "from snorkel.lf_helpers import contains_token, contains_regex\n",
    "from snorkel.lf_helpers import get_phrase_ngrams, get_cell_ngrams, get_neighbor_cell_ngrams\n",
    "from snorkel.lf_helpers import get_row_ngrams, get_col_ngrams, get_aligned_ngrams\n",
    "from snorkel.lf_helpers import same_document, same_table, same_cell, same_phrase\n",
    "c = train[12]\n",
    "print c.part\n",
    "print c.temp\n",
    "print c.temp.parent\n",
    "print c.temp.parent.table\n",
    "print same_document(c)\n",
    "print same_table(c)\n",
    "print contains_regex(c, rgx=r'849')"
   ]
  },
  {
   "cell_type": "code",
   "execution_count": 35,
   "metadata": {
    "collapsed": false,
    "scrolled": true
   },
   "outputs": [
    {
     "name": "stdout",
     "output_type": "stream",
     "text": [
      "Generating annotations for 85377 candidates...\n",
      "[========================================] 100%\n",
      "\n",
      "Loading sparse Label matrix...\n",
      "CPU times: user 30min 33s, sys: 4min 49s, total: 35min 23s\n",
      "Wall time: 36min 45s\n"
     ]
    },
    {
     "data": {
      "text/plain": [
       "<85377x16 sparse matrix of type '<type 'numpy.float64'>'\n",
       "\twith 305479 stored elements in Compressed Sparse Row format>"
      ]
     },
     "execution_count": 35,
     "metadata": {},
     "output_type": "execute_result"
    }
   ],
   "source": [
    "%time L_train = label_manager.create(session, train, 'LF Labels', f=LFs)\n",
    "L_train"
   ]
  },
  {
   "cell_type": "code",
   "execution_count": 36,
   "metadata": {
    "collapsed": true
   },
   "outputs": [],
   "source": [
    "train_gold = session.query(CandidateSet).filter(\n",
    "    CandidateSet.name == 'Hardware Training Candidates -- Gold').one()"
   ]
  },
  {
   "cell_type": "code",
   "execution_count": 37,
   "metadata": {
    "collapsed": false
   },
   "outputs": [],
   "source": [
    "# TEMP\n",
    "# import os\n",
    "# os.remove('snorkel.db');\n",
    "# os.system('cp snorkel.db\\ features snorkel.db');\n",
    "\n",
    "# from snorkel import SnorkelSession\n",
    "# session = SnorkelSession()\n",
    "\n",
    "# from snorkel.models import candidate_subclass\n",
    "# Part_Temp = candidate_subclass('Part_Temp', ['part','temp'])\n",
    "\n",
    "# from snorkel.models import CandidateSet\n",
    "# train = session.query(CandidateSet).filter(\n",
    "#     CandidateSet.name == 'Hardware Training Candidates').one()\n",
    "\n",
    "# train_gold = session.query(CandidateSet).filter(\n",
    "#     CandidateSet.name == 'Hardware Training Candidates -- Gold').one()\n",
    "\n",
    "# from snorkel.annotations import LabelManager\n",
    "# label_manager = LabelManager()\n",
    "# %time L_train = label_manager.load(session, train, 'LF Labels')\n",
    "# L_train\n",
    "# TEMP"
   ]
  },
  {
   "cell_type": "code",
   "execution_count": 38,
   "metadata": {
    "collapsed": false
   },
   "outputs": [
    {
     "name": "stdout",
     "output_type": "stream",
     "text": [
      "[========================================] 100%\n",
      "\n",
      "CPU times: user 1.06 s, sys: 73.4 ms, total: 1.13 s\n",
      "Wall time: 1.15 s\n"
     ]
    },
    {
     "data": {
      "text/html": [
       "<div>\n",
       "<table border=\"1\" class=\"dataframe\">\n",
       "  <thead>\n",
       "    <tr style=\"text-align: right;\">\n",
       "      <th></th>\n",
       "      <th>accuracy</th>\n",
       "      <th>conflicts</th>\n",
       "      <th>coverage</th>\n",
       "      <th>j</th>\n",
       "      <th>overlaps</th>\n",
       "    </tr>\n",
       "  </thead>\n",
       "  <tbody>\n",
       "    <tr>\n",
       "      <th>LF_to_right</th>\n",
       "      <td>1.000000</td>\n",
       "      <td>0.025510</td>\n",
       "      <td>0.149806</td>\n",
       "      <td>0</td>\n",
       "      <td>0.149806</td>\n",
       "    </tr>\n",
       "    <tr>\n",
       "      <th>LF_150_right</th>\n",
       "      <td>1.000000</td>\n",
       "      <td>0.020778</td>\n",
       "      <td>0.094674</td>\n",
       "      <td>1</td>\n",
       "      <td>0.094674</td>\n",
       "    </tr>\n",
       "    <tr>\n",
       "      <th>LF_storage_row</th>\n",
       "      <td>1.000000</td>\n",
       "      <td>0.072689</td>\n",
       "      <td>0.256697</td>\n",
       "      <td>2</td>\n",
       "      <td>0.256697</td>\n",
       "    </tr>\n",
       "    <tr>\n",
       "      <th>LF_operating_row</th>\n",
       "      <td>1.000000</td>\n",
       "      <td>0.026729</td>\n",
       "      <td>0.108015</td>\n",
       "      <td>3</td>\n",
       "      <td>0.108015</td>\n",
       "    </tr>\n",
       "    <tr>\n",
       "      <th>LF_temperature_row</th>\n",
       "      <td>1.000000</td>\n",
       "      <td>0.104431</td>\n",
       "      <td>0.302833</td>\n",
       "      <td>4</td>\n",
       "      <td>0.291320</td>\n",
       "    </tr>\n",
       "    <tr>\n",
       "      <th>LF_tstg_row</th>\n",
       "      <td>1.000000</td>\n",
       "      <td>0.045984</td>\n",
       "      <td>0.233213</td>\n",
       "      <td>5</td>\n",
       "      <td>0.233213</td>\n",
       "    </tr>\n",
       "    <tr>\n",
       "      <th>LF_not_temp_relevant</th>\n",
       "      <td>0.843985</td>\n",
       "      <td>0.000047</td>\n",
       "      <td>0.694438</td>\n",
       "      <td>6</td>\n",
       "      <td>0.677466</td>\n",
       "    </tr>\n",
       "    <tr>\n",
       "      <th>LF_temp_outside_table</th>\n",
       "      <td>0.671078</td>\n",
       "      <td>0.032093</td>\n",
       "      <td>0.384155</td>\n",
       "      <td>7</td>\n",
       "      <td>0.384155</td>\n",
       "    </tr>\n",
       "    <tr>\n",
       "      <th>LF_too_many_numbers_row</th>\n",
       "      <td>0.891062</td>\n",
       "      <td>0.003713</td>\n",
       "      <td>0.162889</td>\n",
       "      <td>8</td>\n",
       "      <td>0.162889</td>\n",
       "    </tr>\n",
       "    <tr>\n",
       "      <th>LF_collector_aligned</th>\n",
       "      <td>0.875247</td>\n",
       "      <td>0.000000</td>\n",
       "      <td>0.224955</td>\n",
       "      <td>9</td>\n",
       "      <td>0.224955</td>\n",
       "    </tr>\n",
       "    <tr>\n",
       "      <th>LF_current_aligned</th>\n",
       "      <td>1.000000</td>\n",
       "      <td>0.000000</td>\n",
       "      <td>0.111974</td>\n",
       "      <td>10</td>\n",
       "      <td>0.111974</td>\n",
       "    </tr>\n",
       "    <tr>\n",
       "      <th>LF_voltage_row_temp</th>\n",
       "      <td>0.763507</td>\n",
       "      <td>0.068730</td>\n",
       "      <td>0.409291</td>\n",
       "      <td>11</td>\n",
       "      <td>0.409291</td>\n",
       "    </tr>\n",
       "    <tr>\n",
       "      <th>LF_voltage_row_part</th>\n",
       "      <td>0.763507</td>\n",
       "      <td>0.068730</td>\n",
       "      <td>0.409291</td>\n",
       "      <td>12</td>\n",
       "      <td>0.409291</td>\n",
       "    </tr>\n",
       "    <tr>\n",
       "      <th>LF_typ_row</th>\n",
       "      <td>1.000000</td>\n",
       "      <td>0.000000</td>\n",
       "      <td>0.020907</td>\n",
       "      <td>13</td>\n",
       "      <td>0.020907</td>\n",
       "    </tr>\n",
       "    <tr>\n",
       "      <th>LF_test_condition_aligned</th>\n",
       "      <td>1.000000</td>\n",
       "      <td>0.000000</td>\n",
       "      <td>0.014629</td>\n",
       "      <td>14</td>\n",
       "      <td>0.014629</td>\n",
       "    </tr>\n",
       "    <tr>\n",
       "      <th>LF_complement_left_row</th>\n",
       "      <td>0.000000</td>\n",
       "      <td>0.000234</td>\n",
       "      <td>0.000234</td>\n",
       "      <td>15</td>\n",
       "      <td>0.000234</td>\n",
       "    </tr>\n",
       "  </tbody>\n",
       "</table>\n",
       "</div>"
      ],
      "text/plain": [
       "                           accuracy  conflicts  coverage   j  overlaps\n",
       "LF_to_right                1.000000   0.025510  0.149806   0  0.149806\n",
       "LF_150_right               1.000000   0.020778  0.094674   1  0.094674\n",
       "LF_storage_row             1.000000   0.072689  0.256697   2  0.256697\n",
       "LF_operating_row           1.000000   0.026729  0.108015   3  0.108015\n",
       "LF_temperature_row         1.000000   0.104431  0.302833   4  0.291320\n",
       "LF_tstg_row                1.000000   0.045984  0.233213   5  0.233213\n",
       "LF_not_temp_relevant       0.843985   0.000047  0.694438   6  0.677466\n",
       "LF_temp_outside_table      0.671078   0.032093  0.384155   7  0.384155\n",
       "LF_too_many_numbers_row    0.891062   0.003713  0.162889   8  0.162889\n",
       "LF_collector_aligned       0.875247   0.000000  0.224955   9  0.224955\n",
       "LF_current_aligned         1.000000   0.000000  0.111974  10  0.111974\n",
       "LF_voltage_row_temp        0.763507   0.068730  0.409291  11  0.409291\n",
       "LF_voltage_row_part        0.763507   0.068730  0.409291  12  0.409291\n",
       "LF_typ_row                 1.000000   0.000000  0.020907  13  0.020907\n",
       "LF_test_condition_aligned  1.000000   0.000000  0.014629  14  0.014629\n",
       "LF_complement_left_row     0.000000   0.000234  0.000234  15  0.000234"
      ]
     },
     "execution_count": 38,
     "metadata": {},
     "output_type": "execute_result"
    }
   ],
   "source": [
    "# L_train.lf_stats()\n",
    "%time L_train.lf_stats(train_gold)"
   ]
  },
  {
   "cell_type": "code",
   "execution_count": 39,
   "metadata": {
    "collapsed": true
   },
   "outputs": [],
   "source": [
    "# If necessary\n",
    "import os\n",
    "os.system('cp snorkel.db snorkel.db\\ features');"
   ]
  },
  {
   "cell_type": "markdown",
   "metadata": {},
   "source": [
    "Next, in Part 5, we will test our model on the development `CandidateSet`."
   ]
  },
  {
   "cell_type": "markdown",
   "metadata": {},
   "source": [
    "# TEMPORARY"
   ]
  },
  {
   "cell_type": "code",
   "execution_count": 40,
   "metadata": {
    "collapsed": false
   },
   "outputs": [],
   "source": [
    "# print c.temp\n",
    "# print c.temp.parent"
   ]
  },
  {
   "cell_type": "code",
   "execution_count": 41,
   "metadata": {
    "collapsed": false
   },
   "outputs": [],
   "source": [
    "# print list(get_row_ngrams(c.temp, attrib=\"ner_tags\"))\n",
    "# print list(get_row_ngrams(c.temp, attrib=\"words\"))"
   ]
  },
  {
   "cell_type": "code",
   "execution_count": 42,
   "metadata": {
    "collapsed": false
   },
   "outputs": [],
   "source": [
    "# from pprint import pprint\n",
    "# print(list(get_row_ngrams(c.temp, attrib=\"ner_tags\")).count('o'))"
   ]
  },
  {
   "cell_type": "code",
   "execution_count": 43,
   "metadata": {
    "collapsed": false
   },
   "outputs": [],
   "source": [
    "# print LF_v_row(c)"
   ]
  }
 ],
 "metadata": {
  "anaconda-cloud": {},
  "kernelspec": {
   "display_name": "Python [default]",
   "language": "python",
   "name": "python2"
  },
  "language_info": {
   "codemirror_mode": {
    "name": "ipython",
    "version": 2
   },
   "file_extension": ".py",
   "mimetype": "text/x-python",
   "name": "python",
   "nbconvert_exporter": "python",
   "pygments_lexer": "ipython2",
   "version": "2.7.10"
  }
 },
 "nbformat": 4,
 "nbformat_minor": 0
}
