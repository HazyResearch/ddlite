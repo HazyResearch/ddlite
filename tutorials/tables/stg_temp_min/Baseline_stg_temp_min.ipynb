{
 "cells": [
  {
   "cell_type": "code",
   "execution_count": 1,
   "metadata": {
    "collapsed": false
   },
   "outputs": [],
   "source": [
    "import os\n",
    "# os.remove('snorkel.db');\n",
    "os.system('cp snorkel.db\\ corpus snorkel.db');\n",
    "# os.system('cp snorkel.db\\ candidates snorkel.db');"
   ]
  },
  {
   "cell_type": "code",
   "execution_count": 2,
   "metadata": {
    "collapsed": false
   },
   "outputs": [
    {
     "name": "stdout",
     "output_type": "stream",
     "text": [
      "The autoreload extension is already loaded. To reload it, use:\n",
      "  %reload_ext autoreload\n"
     ]
    }
   ],
   "source": [
    "%load_ext autoreload\n",
    "%autoreload 2\n",
    "%matplotlib inline\n",
    "\n",
    "import os\n",
    "import sys\n",
    "sys.path.append(os.environ['SNORKELHOME'] + '/tutorials/tables/')\n",
    "\n",
    "from snorkel import SnorkelSession\n",
    "session = SnorkelSession()\n",
    "\n",
    "from snorkel.models import candidate_subclass\n",
    "Part_Temp = candidate_subclass('Part_Temp', ['part','temp'])"
   ]
  },
  {
   "cell_type": "code",
   "execution_count": 3,
   "metadata": {
    "collapsed": true
   },
   "outputs": [],
   "source": [
    "from snorkel.matchers import RegexMatchSpan, Union\n",
    "\n",
    "eeca_matcher = RegexMatchSpan(rgx='([b]{1}[abcdefklnpqruyz]{1}[\\swxyz]?[0-9]{3,5}[\\s]?[A-Z\\/]{0,5}[0-9]?[A-Z]?([-][A-Z0-9]{1,7})?([-][A-Z0-9]{1,2})?)')\n",
    "jedec_matcher = RegexMatchSpan(rgx='([123]N\\d{3,4}[A-Z]{0,5}[0-9]?[A-Z]?)')\n",
    "jis_matcher = RegexMatchSpan(rgx='(2S[abcdefghjkmqrstvz]{1}[\\d]{2,4})')\n",
    "others_matcher = RegexMatchSpan(rgx='((NSVBC|SMBT|MJ|MJE|MPS|MRF|RCA|TIP|ZTX|ZT|TIS|TIPL|DTC|MMBT|PZT){1}[\\d]{2,4}[A-Z]{0,3}([-][A-Z0-9]{0,6})?([-][A-Z0-9]{0,1})?)')\n",
    "\n",
    "parts_matcher = Union(eeca_matcher, jedec_matcher, jis_matcher, others_matcher)\n",
    "temp_matcher = RegexMatchSpan(rgx=r'-[5-7][05]', longest_match_only=False)"
   ]
  },
  {
   "cell_type": "code",
   "execution_count": 4,
   "metadata": {
    "collapsed": true
   },
   "outputs": [],
   "source": [
    "from snorkel.candidates import OmniNgrams\n",
    "from hardware_utils import OmniNgramsPart, OmniNgramsTemp\n",
    "\n",
    "# part_ngrams = OmniNgramsPart(parts_by_doc=parts_by_doc, n_max=3)\n",
    "part_ngrams = OmniNgrams()\n",
    "temp_ngrams = OmniNgramsTemp(n_max=3)"
   ]
  },
  {
   "cell_type": "code",
   "execution_count": 5,
   "metadata": {
    "collapsed": true
   },
   "outputs": [],
   "source": [
    "from snorkel.candidates import CandidateExtractor\n",
    "\n",
    "ce = CandidateExtractor(Part_Temp, \n",
    "                        [part_ngrams, temp_ngrams], \n",
    "                        [parts_matcher, temp_matcher])"
   ]
  },
  {
   "cell_type": "code",
   "execution_count": 6,
   "metadata": {
    "collapsed": true
   },
   "outputs": [],
   "source": [
    "from snorkel.models import Corpus\n",
    "from snorkel.utils import get_ORM_instance\n",
    "\n",
    "corpus = get_ORM_instance(Corpus, session, 'Hardware')"
   ]
  },
  {
   "cell_type": "code",
   "execution_count": 7,
   "metadata": {
    "collapsed": false
   },
   "outputs": [
    {
     "name": "stdout",
     "output_type": "stream",
     "text": [
      "[========================================] 100%\n",
      "\n",
      "CPU times: user 50 s, sys: 746 ms, total: 50.8 s\n",
      "Wall time: 51.5 s\n",
      "Candidate Set (Hardware Candidates) contains 11914 Candidates\n"
     ]
    }
   ],
   "source": [
    "%time candidates = ce.extract(corpus.documents, 'Hardware Candidates', session)\n",
    "print \"%s contains %d Candidates\" % (candidates, len(candidates))"
   ]
  },
  {
   "cell_type": "code",
   "execution_count": 8,
   "metadata": {
    "collapsed": false
   },
   "outputs": [],
   "source": [
    "# from snorkel.models import CandidateSet\n",
    "# from snorkel.utils import get_ORM_instance\n",
    "# train = get_ORM_instance(CandidateSet, session, 'Hardware Training Candidates')\n",
    "# dev = get_ORM_instance(CandidateSet, session, 'Hardware Development Candidates')\n",
    "# candidates = set()\n",
    "# for c in train:\n",
    "#     candidates.add(c)\n",
    "# for c in dev:\n",
    "#     candidates.add(c)\n",
    "# print len(train)\n",
    "# print len(dev)\n",
    "# print len(candidates)"
   ]
  },
  {
   "cell_type": "code",
   "execution_count": 12,
   "metadata": {
    "collapsed": false
   },
   "outputs": [
    {
     "name": "stdout",
     "output_type": "stream",
     "text": [
      "========================================\n",
      "Scoring on Entity-Level Gold Data\n",
      "========================================\n",
      "Corpus Precision 0.483\n",
      "Corpus Recall    0.827\n",
      "Corpus F1        0.609\n",
      "----------------------------------------\n",
      "TP: 554 | FP: 594 | FN: 116\n",
      "========================================\n",
      "\n"
     ]
    }
   ],
   "source": [
    "from snorkel.models import Corpus, Candidate\n",
    "from snorkel.utils import get_ORM_instance\n",
    "from snorkel.lf_helpers import get_aligned_ngrams\n",
    "from hardware_utils import entity_level_f1\n",
    "\n",
    "def LF_aligned_temp_word(c):\n",
    "    ngrams = list(get_aligned_ngrams(c.temp))\n",
    "    return 1 if ('storage' in ngrams or\n",
    "                 'temperature' in ngrams or\n",
    "                 'tstg' in ngrams or\n",
    "                 'ts' in ngrams or\n",
    "                 'stg' in ngrams) else 0\n",
    "\n",
    "candidates = session.query(Candidate).all()\n",
    "(tp, fp, tn, fn) = baseline(candidates, LF_aligned_temp_word)\n",
    "\n",
    "corpus = get_ORM_instance(Corpus, session, 'Hardware Training')\n",
    "gold_file = os.environ['SNORKELHOME'] + '/tutorials/tables/data/hardware/hardware_gold.csv'\n",
    "(TP, FP, FN) = entity_level_f1(tp, fp, tn, fn, gold_file, corpus, 'stg_temp_min')"
   ]
  },
  {
   "cell_type": "code",
   "execution_count": 13,
   "metadata": {
    "collapsed": false
   },
   "outputs": [
    {
     "name": "stdout",
     "output_type": "stream",
     "text": [
      "set([('112823', 'BC547B', '-55'),\n",
      "     ('112823', 'BC547C', '-55'),\n",
      "     ('BC337', 'BC337-16', '-55'),\n",
      "     ('BC337', 'BC337-25', '-55'),\n",
      "     ('BC337', 'BC337-40', '-55'),\n",
      "     ('BC337', 'BC338-25', '-55'),\n",
      "     ('BC337-D', 'BC337-025G', '-55'),\n",
      "     ('BC337-D', 'BC337-040G', '-55'),\n",
      "     ('BC337-D', 'BC337-25RL1G', '-55'),\n",
      "     ('BC337-D', 'BC337-25RLRAG', '-55'),\n",
      "     ('BC337-D', 'BC337-25ZL1G', '-55'),\n",
      "     ('BC337-D', 'BC337-40RL1G', '-55'),\n",
      "     ('BC337-D', 'BC337-40ZL1G', '-55'),\n",
      "     ('BC546-BC548C(TO-92)', 'BC547A', '-55'),\n",
      "     ('BC546-BC548C(TO-92)', 'BC547B', '-55'),\n",
      "     ('BC546-BC548C(TO-92)', 'BC547C', '-55'),\n",
      "     ('BC546-BC548C(TO-92)', 'BC548A', '-55'),\n",
      "     ('BC546-BC548C(TO-92)', 'BC548B', '-55'),\n",
      "     ('BC546-D', 'BC547B', '-55'),\n",
      "     ('BC546-D', 'BC547C', '-55'),\n",
      "     ('BC546A_SERIES_B14-521026', 'BC546B', '-65'),\n",
      "     ('BC546A_SERIES_B14-521026', 'BC546C', '-65'),\n",
      "     ('BC546A_SERIES_B14-521026', 'BC547A', '-65'),\n",
      "     ('BC546A_SERIES_B14-521026', 'BC547C', '-65'),\n",
      "     ('BC546A_SERIES_B14-521026', 'BC548A', '-65'),\n",
      "     ('BC546A_SERIES_B14-521026', 'BC548B', '-65'),\n",
      "     ('BC546A_SERIES_B14-521026', 'BC548C', '-65'),\n",
      "     ('BC546A_SERIES_B14-521026', 'BC549A', '-65'),\n",
      "     ('BC546A_SERIES_B14-521026', 'BC549B', '-65'),\n",
      "     ('BC546A_SERIES_B14-521026', 'BC549C', '-65'),\n",
      "     ('BC546A_SERIES_B14-521026', 'BC550A', '-65'),\n",
      "     ('BC546A_SERIES_B14-521026', 'BC550C', '-65'),\n",
      "     ('BC547', 'BC546BCTA', '-65'),\n",
      "     ('BC547', 'BC548BBU', '-65'),\n",
      "     ('BC818-40LT1-D', 'BC818-40LT1G', '-55'),\n",
      "     ('BC818-40LT1-D', 'NSVBC818-40LT1G', '-55'),\n",
      "     ('FAIRS25065-1', 'BC237C', '-55'),\n",
      "     ('FAIRS25065-1', 'BC238', '-55'),\n",
      "     ('FAIRS25065-1', 'BC238A', '-55'),\n",
      "     ('FAIRS25065-1', 'BC238B', '-55'),\n",
      "     ('FAIRS25065-1', 'BC238C', '-55'),\n",
      "     ('FAIRS25065-1', 'BC239A', '-55'),\n",
      "     ('FAIRS25065-1', 'BC239B', '-55'),\n",
      "     ('FAIRS25065-1', 'BC239C', '-55'),\n",
      "     ('LITES00690-1', 'BC546A', '-65'),\n",
      "     ('LITES00690-1', 'BC546B', '-65'),\n",
      "     ('LITES00690-1', 'BC546C', '-65'),\n",
      "     ('LITES00690-1', 'BC547A', '-65'),\n",
      "     ('LITES00690-1', 'BC547B', '-65'),\n",
      "     ('LITES00690-1', 'BC547C', '-65'),\n",
      "     ('LITES00690-1', 'BC548A', '-65'),\n",
      "     ('LITES00690-1', 'BC548B', '-65'),\n",
      "     ('LITES00690-1', 'BC548C', '-65'),\n",
      "     ('MCCCS09741-1', 'BC337-25', '-55'),\n",
      "     ('MCCCS09741-1', 'BC337-40', '-55'),\n",
      "     ('MCCCS09741-1', 'BC338-25', '-55'),\n",
      "     ('MCCCS09741-1', 'BC338-40', '-55'),\n",
      "     ('ONSMS04099-1', 'BC237B', '-55'),\n",
      "     ('ONSMS04099-1', 'BC237C', '-55'),\n",
      "     ('ONSMS04099-1', 'BC238C', '-55'),\n",
      "     ('ONSMS04099-1', 'BC239C', '-55'),\n",
      "     ('PJECS00521-1', 'MMBT3904', '-55'),\n",
      "     ('RECTS00705-1', 'BC546A', '-55'),\n",
      "     ('RECTS00705-1', 'BC546B', '-55'),\n",
      "     ('RECTS00705-1', 'BC547A', '-55'),\n",
      "     ('RECTS00705-1', 'BC547B', '-55'),\n",
      "     ('RECTS00705-1', 'BC548A', '-55'),\n",
      "     ('RECTS00705-1', 'BC548B', '-55'),\n",
      "     ('RECTS01158-1', 'BC807-25', '-55'),\n",
      "     ('SAMSD00049-518', 'BC546A', '-65'),\n",
      "     ('SAMSD00049-518', 'BC546B', '-65'),\n",
      "     ('SAMSD00049-518', 'BC546C', '-65'),\n",
      "     ('SAMSD00049-518', 'BC547', '-65'),\n",
      "     ('SAMSD00049-518', 'BC547A', '-65'),\n",
      "     ('SAMSD00049-518', 'BC547B', '-65'),\n",
      "     ('SAMSD00049-518', 'BC547C', '-65'),\n",
      "     ('SAMSD00049-518', 'BC548', '-65'),\n",
      "     ('SAMSD00049-518', 'BC548A', '-65'),\n",
      "     ('SAMSD00049-518', 'BC548B', '-65'),\n",
      "     ('SAMSD00049-518', 'BC548C', '-65'),\n",
      "     ('SAMSD00049-518', 'BC549A', '-65'),\n",
      "     ('SAMSD00049-518', 'BC549B', '-65'),\n",
      "     ('SAMSD00049-518', 'BC549C', '-65'),\n",
      "     ('SAMSD00049-518', 'BC550A', '-65'),\n",
      "     ('SAMSD00049-518', 'BC550B', '-65'),\n",
      "     ('SAMSD00049-518', 'BC550C', '-65'),\n",
      "     ('SIEMS01215-1', 'BC856', '-65'),\n",
      "     ('SIEMS01215-1', 'BC856A', '-65'),\n",
      "     ('SIEMS01215-1', 'BC856B', '-65'),\n",
      "     ('SIEMS01215-1', 'BC857', '-65'),\n",
      "     ('SIEMS01215-1', 'BC857A', '-65'),\n",
      "     ('SIEMS01215-1', 'BC857B', '-65'),\n",
      "     ('SIEMS01215-1', 'BC857C', '-65'),\n",
      "     ('SIEMS01215-1', 'BC858', '-65'),\n",
      "     ('SIEMS01215-1', 'BC858A', '-65'),\n",
      "     ('SIEMS01215-1', 'BC858B', '-65'),\n",
      "     ('SIEMS01215-1', 'BC858C', '-65'),\n",
      "     ('SIEMS01215-1', 'BC859', '-65'),\n",
      "     ('SIEMS01215-1', 'BC859A', '-65'),\n",
      "     ('SIEMS01215-1', 'BC859B', '-65'),\n",
      "     ('SIEMS01215-1', 'BC859C', '-65'),\n",
      "     ('SIEMS01215-1', 'BC860', '-65'),\n",
      "     ('SIEMS01215-1', 'BC860B', '-65'),\n",
      "     ('SIEMS01215-1', 'BC860C', '-65'),\n",
      "     ('UTCLS02155-1', 'BC807-16', '-65'),\n",
      "     ('UTCLS02155-1', 'BC807-25', '-65'),\n",
      "     ('UTCLS02155-1', 'BC807-40', '-65'),\n",
      "     ('UTCLS02155-1', 'BC808-16', '-65'),\n",
      "     ('UTCLS02155-1', 'BC808-25', '-65'),\n",
      "     ('UTCLS02155-1', 'BC808-40', '-65'),\n",
      "     ('VSMIS00373-1', 'BC337-16', '-65'),\n",
      "     ('VSMIS00373-1', 'BC337-25', '-65'),\n",
      "     ('VSMIS00373-1', 'BC337-40', '-65'),\n",
      "     ('VSMIS00373-1', 'BC338-16', '-65'),\n",
      "     ('VSMIS00373-1', 'BC338-25', '-65'),\n",
      "     ('VSMIS00373-1', 'BC338-40', '-65')])\n"
     ]
    }
   ],
   "source": [
    "from pprint import pprint\n",
    "pprint(FN)"
   ]
  },
  {
   "cell_type": "code",
   "execution_count": null,
   "metadata": {
    "collapsed": true
   },
   "outputs": [],
   "source": []
  }
 ],
 "metadata": {
  "anaconda-cloud": {},
  "kernelspec": {
   "display_name": "Python [default]",
   "language": "python",
   "name": "python2"
  },
  "language_info": {
   "codemirror_mode": {
    "name": "ipython",
    "version": 2
   },
   "file_extension": ".py",
   "mimetype": "text/x-python",
   "name": "python",
   "nbconvert_exporter": "python",
   "pygments_lexer": "ipython2",
   "version": "2.7.10"
  }
 },
 "nbformat": 4,
 "nbformat_minor": 1
}
