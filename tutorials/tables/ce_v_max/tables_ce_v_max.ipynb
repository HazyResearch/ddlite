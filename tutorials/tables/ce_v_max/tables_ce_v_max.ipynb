{
 "cells": [
  {
   "cell_type": "markdown",
   "metadata": {},
   "source": [
    "# CE_V_MAX"
   ]
  },
  {
   "cell_type": "markdown",
   "metadata": {},
   "source": [
    "## Setup"
   ]
  },
  {
   "cell_type": "code",
   "execution_count": null,
   "metadata": {
    "collapsed": true
   },
   "outputs": [],
   "source": [
    "# If necessary:\n",
    "import os\n",
    "os.remove('snorkel.db')"
   ]
  },
  {
   "cell_type": "code",
   "execution_count": null,
   "metadata": {
    "collapsed": false
   },
   "outputs": [],
   "source": [
    "%load_ext autoreload\n",
    "%autoreload 2\n",
    "%matplotlib inline\n",
    "\n",
    "import sys\n",
    "sys.path.append(os.environ['SNORKELHOME'] + '/tutorials/tables/')"
   ]
  },
  {
   "cell_type": "markdown",
   "metadata": {},
   "source": [
    "## Parsing"
   ]
  },
  {
   "cell_type": "code",
   "execution_count": null,
   "metadata": {
    "collapsed": true
   },
   "outputs": [],
   "source": [
    "from snorkel import SnorkelSession\n",
    "session = SnorkelSession()"
   ]
  },
  {
   "cell_type": "markdown",
   "metadata": {},
   "source": [
    "### Define Parser"
   ]
  },
  {
   "cell_type": "code",
   "execution_count": null,
   "metadata": {
    "collapsed": true
   },
   "outputs": [],
   "source": [
    "import os\n",
    "from snorkel.parser import CorpusParser, HTMLParser, OmniParser\n",
    "from snorkel.utils import get_ORM_instance\n",
    "from snorkel.queries import split_corpus\n",
    "\n",
    "docs_path = os.environ['SNORKELHOME'] + '/tutorials/tables/data/hardware/hardware100_html/'\n",
    "doc_parser = HTMLParser(path=docs_path)\n",
    "context_parser = OmniParser()\n",
    "cp = CorpusParser(doc_parser, context_parser, max_docs=100) "
   ]
  },
  {
   "cell_type": "markdown",
   "metadata": {},
   "source": [
    "### Run Parser"
   ]
  },
  {
   "cell_type": "code",
   "execution_count": null,
   "metadata": {
    "collapsed": false,
    "scrolled": true
   },
   "outputs": [],
   "source": [
    "%time corpus = cp.parse_corpus(name='Hardware', session=session)\n",
    "\n",
    "session.add(corpus)\n",
    "session.commit()"
   ]
  },
  {
   "cell_type": "markdown",
   "metadata": {},
   "source": [
    "### Split Corpus"
   ]
  },
  {
   "cell_type": "code",
   "execution_count": null,
   "metadata": {
    "collapsed": false
   },
   "outputs": [],
   "source": [
    "from snorkel.models import Corpus\n",
    "\n",
    "corpus = get_ORM_instance(Corpus, session, 'Hardware')\n",
    "split_corpus(session, corpus, train=0.8, development=0.2, test=0, seed=6)"
   ]
  },
  {
   "cell_type": "code",
   "execution_count": null,
   "metadata": {
    "collapsed": true
   },
   "outputs": [],
   "source": [
    "# If necessary\n",
    "import os\n",
    "os.system('cp snorkel.db snorkel.db\\ corpus');"
   ]
  },
  {
   "cell_type": "markdown",
   "metadata": {},
   "source": [
    "## Extraction"
   ]
  },
  {
   "cell_type": "code",
   "execution_count": null,
   "metadata": {
    "collapsed": false
   },
   "outputs": [],
   "source": [
    "# If necessary:\n",
    "import os\n",
    "os.remove('snorkel.db');\n",
    "os.system('cp snorkel.db\\ corpus snorkel.db');\n",
    "\n",
    "%load_ext autoreload\n",
    "%autoreload 2\n",
    "%matplotlib inline\n",
    "\n",
    "import sys\n",
    "sys.path.append(os.environ['SNORKELHOME'] + '/tutorials/tables/')\n",
    "\n",
    "from snorkel import SnorkelSession\n",
    "session = SnorkelSession()"
   ]
  },
  {
   "cell_type": "code",
   "execution_count": null,
   "metadata": {
    "collapsed": true
   },
   "outputs": [],
   "source": [
    "from snorkel.models import candidate_subclass\n",
    "\n",
    "Part_Voltage = candidate_subclass('Part_Voltage', ['part','voltage'])"
   ]
  },
  {
   "cell_type": "markdown",
   "metadata": {},
   "source": [
    "### Define Matchers"
   ]
  },
  {
   "cell_type": "code",
   "execution_count": null,
   "metadata": {
    "collapsed": false
   },
   "outputs": [],
   "source": [
    "from snorkel.matchers import RegexMatchSpan, Union\n",
    "\n",
    "eeca_matcher = RegexMatchSpan(rgx='([b]{1}[abcdefklnpqruyz]{1}[\\swxyz]?[0-9]{3,5}[\\s]?[A-Z\\/]{0,5}[0-9]?[A-Z]?([-][A-Z0-9]{1,7})?([-][A-Z0-9]{1,2})?)')\n",
    "jedec_matcher = RegexMatchSpan(rgx='([123]N\\d{3,4}[A-Z]{0,5}[0-9]?[A-Z]?)')\n",
    "jis_matcher = RegexMatchSpan(rgx='(2S[abcdefghjkmqrstvz]{1}[\\d]{2,4})')\n",
    "others_matcher = RegexMatchSpan(rgx='((NSVBC|SMBT|MJ|MJE|MPS|MRF|RCA|TIP|ZTX|ZT|TIS|TIPL|DTC|MMBT|PZT){1}[\\d]{2,4}[A-Z]{0,3}([-][A-Z0-9]{0,6})?([-][A-Z0-9]{0,1})?)')\n",
    "parts_matcher = Union(eeca_matcher, jedec_matcher, jis_matcher, others_matcher)\n",
    "\n",
    "#TODO: This is missing values represented as AMPs rather than milliamps\n",
    "ce_v_matcher = RegexMatchSpan(rgx=r'\\-?[2-6][05]', longest_match_only=False)"
   ]
  },
  {
   "cell_type": "markdown",
   "metadata": {},
   "source": [
    "### Define ContextSpaces"
   ]
  },
  {
   "cell_type": "code",
   "execution_count": null,
   "metadata": {
    "collapsed": false
   },
   "outputs": [],
   "source": [
    "import os\n",
    "from collections import defaultdict\n",
    "from hardware_utils import OmniNgramsPart, OmniNgramsTemp, get_gold_dict\n",
    "\n",
    "# Make parts list\n",
    "gold_file = os.environ['SNORKELHOME'] + '/tutorials/tables/data/hardware/hardware_gold.csv'\n",
    "gold_parts = get_gold_dict(gold_file, doc_on=True, part_on=True, val_on=False)\n",
    "parts_by_doc = defaultdict(set)\n",
    "for part in gold_parts:\n",
    "    parts_by_doc[part[0]].add(part[1])\n",
    "    \n",
    "part_ngrams = OmniNgramsPart(parts_by_doc=parts_by_doc, n_max=3)\n",
    "\n",
    "# TODO: This is missing the current represented as an Amp rather than a milliamp\n",
    "ce_v_ngrams = OmniNgramsTemp(n_max=3)"
   ]
  },
  {
   "cell_type": "code",
   "execution_count": null,
   "metadata": {
    "collapsed": false
   },
   "outputs": [],
   "source": [
    "from snorkel.lf_helpers import *\n",
    "\n",
    "def CEVThrottler((part_span, attr_span)):\n",
    "    \"\"\"\n",
    "    Removes candidates unless the part is not in a table, or the part aligned\n",
    "    temperature are not aligned.\n",
    "    \"\"\"\n",
    "    def aligned(span1, span2):\n",
    "        return (span1.parent.table == span2.parent.table and\n",
    "            (span1.parent.row_num == span2.parent.row_num or\n",
    "             span1.parent.col_num == span2.parent.col_num))\n",
    "    \n",
    "    if (part_span.parent.table is None):\n",
    "        return True\n",
    "    \n",
    "    if (aligned(part_span, attr_span)):\n",
    "        ngrams = set(get_row_ngrams(attr_span))\n",
    "        if ('ceo' in ngrams or\n",
    "            'vceo' in ngrams or\n",
    "            'collector-emitter' in ngrams):\n",
    "            return True\n",
    "    \n",
    "    return False"
   ]
  },
  {
   "cell_type": "markdown",
   "metadata": {},
   "source": [
    "### Run CandidateExtractor"
   ]
  },
  {
   "cell_type": "code",
   "execution_count": null,
   "metadata": {
    "collapsed": false
   },
   "outputs": [],
   "source": [
    "from snorkel.models import Corpus\n",
    "from snorkel.candidates import CandidateExtractor\n",
    "from snorkel.utils import get_ORM_instance\n",
    "\n",
    "\n",
    "ce = CandidateExtractor(Part_Voltage, \n",
    "                        [part_ngrams, ce_v_ngrams], \n",
    "                        [parts_matcher, ce_v_matcher],\n",
    "                        throttler=CEVThrottler)\n",
    "\n",
    "for corpus_name in ['Hardware Training', 'Hardware Development']:\n",
    "    corpus = get_ORM_instance(Corpus, session, corpus_name)\n",
    "    print \"Extracting Candidates from %s\" % corpus\n",
    "    %time candidates = ce.extract(\\\n",
    "        corpus.documents, corpus_name + ' Candidates', session)\n",
    "    session.add(candidates)\n",
    "    print \"%s contains %d Candidates\" % (candidates, len(candidates))\n",
    "session.commit()"
   ]
  },
  {
   "cell_type": "markdown",
   "metadata": {},
   "source": [
    "### Assess Recall"
   ]
  },
  {
   "cell_type": "code",
   "execution_count": null,
   "metadata": {
    "collapsed": false
   },
   "outputs": [],
   "source": [
    "from snorkel.models import CandidateSet\n",
    "from hardware_utils import entity_level_total_recall, most_common_document, get_gold_dict\n",
    "from snorkel.models import Candidate\n",
    "\n",
    "all_candidates = session.query(Candidate).all()\n",
    "gold_file = os.environ['SNORKELHOME'] + '/tutorials/tables/data/hardware/hardware_gold.csv'\n",
    "\n",
    "# gold_dict = get_gold_dict(gold_file, attrib='c_current_max')\n",
    "\n",
    "(tp, fp, fn) = entity_level_total_recall(\n",
    "    all_candidates, gold_file, 'ce_v_max', relation=True)\n",
    "print len(tp)\n",
    "print len(fp)\n",
    "print len(fn)"
   ]
  },
  {
   "cell_type": "code",
   "execution_count": null,
   "metadata": {
    "collapsed": false
   },
   "outputs": [],
   "source": [
    "from pprint import pprint\n",
    "fns = list(fn)\n",
    "pprint(sorted(fns))"
   ]
  },
  {
   "cell_type": "code",
   "execution_count": null,
   "metadata": {
    "collapsed": true
   },
   "outputs": [],
   "source": []
  },
  {
   "cell_type": "code",
   "execution_count": null,
   "metadata": {
    "collapsed": true
   },
   "outputs": [],
   "source": [
    "# If necessary\n",
    "import os\n",
    "os.system('cp snorkel.db snorkel.db\\ candidates');"
   ]
  },
  {
   "cell_type": "markdown",
   "metadata": {},
   "source": [
    "## Gold Labels"
   ]
  },
  {
   "cell_type": "code",
   "execution_count": null,
   "metadata": {
    "collapsed": true
   },
   "outputs": [],
   "source": [
    "# If necessary\n",
    "import os\n",
    "os.remove('snorkel.db');\n",
    "os.system('cp snorkel.db\\ candidates snorkel.db');\n",
    "\n",
    "%load_ext autoreload\n",
    "%autoreload 2\n",
    "%matplotlib inline\n",
    "\n",
    "import sys\n",
    "sys.path.append(os.environ['SNORKELHOME'] + '/tutorials/tables/')\n",
    "\n",
    "from snorkel import SnorkelSession\n",
    "session = SnorkelSession()\n",
    "\n",
    "from snorkel.models import candidate_subclass\n",
    "Part_Voltage = candidate_subclass('Part_Voltage', ['part','voltage'])"
   ]
  },
  {
   "cell_type": "code",
   "execution_count": null,
   "metadata": {
    "collapsed": false
   },
   "outputs": [],
   "source": [
    "import os\n",
    "from snorkel.models import CandidateSet\n",
    "from hardware_utils import load_hardware_labels\n",
    "\n",
    "gold_file = os.environ['SNORKELHOME'] + '/tutorials/tables/data/hardware/hardware_gold.csv'\n",
    "for set_name in ['Training', 'Development']:\n",
    "    candidate_set_name = 'Hardware %s Candidates' % set_name\n",
    "    candidates = session.query(CandidateSet).filter(\n",
    "        CandidateSet.name == candidate_set_name).one()\n",
    "    label_set_name = 'Hardware %s Candidates -- Gold' % set_name\n",
    "    annotation_key_name = 'Hardware %s Labels -- Gold' % set_name\n",
    "    %time gold_candidates, annotation_key = load_hardware_labels(session,\\\n",
    "                           label_set_name, \\\n",
    "                           annotation_key_name, \\\n",
    "                           candidates, \\\n",
    "                           gold_file, \\\n",
    "                           attrib='ce_v_max')\n",
    "    candidates_gold = session.query(CandidateSet).filter(\n",
    "        CandidateSet.name == candidate_set_name + ' -- Gold').one()\n",
    "    print \"%d/%d Candidates in %s have positive Labels\" % (\n",
    "        len(candidates_gold), len(candidates), candidates)"
   ]
  },
  {
   "cell_type": "code",
   "execution_count": null,
   "metadata": {
    "collapsed": true
   },
   "outputs": [],
   "source": [
    "# If necessary\n",
    "import os\n",
    "os.system('cp snorkel.db snorkel.db\\ labels');"
   ]
  },
  {
   "cell_type": "markdown",
   "metadata": {},
   "source": [
    "## Features"
   ]
  },
  {
   "cell_type": "code",
   "execution_count": null,
   "metadata": {
    "collapsed": false
   },
   "outputs": [],
   "source": [
    "# If necessary:\n",
    "import os\n",
    "os.remove('snorkel.db');\n",
    "os.system('cp snorkel.db\\ labels snorkel.db');\n",
    "\n",
    "%load_ext autoreload\n",
    "%autoreload 2\n",
    "%matplotlib inline\n",
    "\n",
    "import sys\n",
    "sys.path.append(os.environ['SNORKELHOME'] + '/tutorials/tables/')\n",
    "\n",
    "from snorkel import SnorkelSession\n",
    "session = SnorkelSession()\n",
    "\n",
    "from snorkel.models import candidate_subclass\n",
    "Part_Voltage = candidate_subclass('Part_Voltage', ['part','voltage'])"
   ]
  },
  {
   "cell_type": "markdown",
   "metadata": {},
   "source": [
    "### Extract Features"
   ]
  },
  {
   "cell_type": "code",
   "execution_count": null,
   "metadata": {
    "collapsed": false
   },
   "outputs": [],
   "source": [
    "from snorkel.models import CandidateSet\n",
    "from snorkel.fast_annotations import FeatureManager\n",
    "from snorkel.utils import get_ORM_instance\n",
    "\n",
    "train = get_ORM_instance(CandidateSet, session, 'Hardware Training Candidates')\n",
    "dev   = get_ORM_instance(CandidateSet, session, 'Hardware Development Candidates')\n",
    "\n",
    "feature_manager = FeatureManager()\n",
    "%time F_train = feature_manager.create(session, train, 'Train Features')\n",
    "%time F_dev = feature_manager.update(session, dev, 'Train Features', expand_key_set=False)"
   ]
  },
  {
   "cell_type": "code",
   "execution_count": null,
   "metadata": {
    "collapsed": true
   },
   "outputs": [],
   "source": [
    "# If necessary:\n",
    "import os\n",
    "os.system('cp snorkel.db snorkel.db\\ featurized');"
   ]
  },
  {
   "cell_type": "markdown",
   "metadata": {},
   "source": [
    "## LFs"
   ]
  },
  {
   "cell_type": "code",
   "execution_count": null,
   "metadata": {
    "collapsed": true
   },
   "outputs": [],
   "source": [
    "# If necessary\n",
    "import os\n",
    "os.remove('snorkel.db');\n",
    "os.system('cp snorkel.db\\ featurized snorkel.db');\n",
    "\n",
    "%load_ext autoreload\n",
    "%autoreload 2\n",
    "%matplotlib inline\n",
    "\n",
    "import sys\n",
    "sys.path.append(os.environ['SNORKELHOME'] + '/tutorials/tables/')\n",
    "\n",
    "from snorkel import SnorkelSession\n",
    "session = SnorkelSession()\n",
    "\n",
    "from snorkel.models import candidate_subclass\n",
    "Part_Voltage = candidate_subclass('Part_Voltage', ['part','voltage'])\n",
    "from snorkel.models import CandidateSet\n",
    "train = session.query(CandidateSet).filter(\n",
    "    CandidateSet.name == 'Hardware Training Candidates').one()"
   ]
  },
  {
   "cell_type": "markdown",
   "metadata": {},
   "source": [
    "### Define LFs"
   ]
  },
  {
   "cell_type": "code",
   "execution_count": null,
   "metadata": {
    "collapsed": false
   },
   "outputs": [],
   "source": [
    "from snorkel.fast_annotations import LabelManager\n",
    "from snorkel.lf_helpers import *\n",
    "label_manager = LabelManager()\n",
    "\n",
    "# Helpers\n",
    "def set_all_in_set(a, b):\n",
    "    '''return true if all of a is in b'''\n",
    "    return b.issuperset(a)\n",
    "\n",
    "def set_none_in_set(a, b):\n",
    "    '''return true if none of a is in b'''\n",
    "    return (b.difference(a) == b)\n",
    "\n",
    "def set_any_in_set(a, b):\n",
    "    '''return true if any of a is in b'''\n",
    "    return len(b.intersection(a)) > 0\n",
    "\n",
    "LFs = []\n",
    "\n",
    "###################################################################\n",
    "# POSITIVE\n",
    "###################################################################\n",
    "\n",
    "def LF_voltage_inside_table(c):\n",
    "    return 1 if c.voltage.parent.row is not None else 0\n",
    "LFs.append(LF_voltage_inside_table)\n",
    "\n",
    "# def LF_part_is_aligned(c):\n",
    "#     return 1 if (c.part.parent.table == c.voltage.parent.table and\n",
    "#                 (c.part.parent.row_num == c.voltage.parent.row_num or\n",
    "#                  c.part.parent.col_num == c.voltage.parent.col_num)) else 0\n",
    "# LFs.append(LF_part_is_aligned)\n",
    "    \n",
    "def LF_ce_keywords(c):\n",
    "    individuals = set(['collector', 'emitter', 'voltage'])\n",
    "    together = set(['collector-emitter', 'voltage'])\n",
    "    row_ngrams = set(x.replace(' ', '') for x in get_row_ngrams(c.voltage, infer=True))\n",
    "    if set_all_in_set(individuals, row_ngrams):\n",
    "        return 1\n",
    "    if set_all_in_set(together, row_ngrams):\n",
    "        return 1\n",
    "    return 0\n",
    "LFs.append(LF_ce_keywords)\n",
    "\n",
    "def LF_pos_keywords_in_row(c):\n",
    "    pos_keys = set(['v ceo', 'ceo', 'vceo', 'value', 'rating'])\n",
    "    ngrams = set(get_row_ngrams(c.voltage, infer=True))\n",
    "    if set_any_in_set(pos_keys, ngrams):\n",
    "        return 1\n",
    "    else:\n",
    "        return 0\n",
    "LFs.append(LF_pos_keywords_in_row)\n",
    "\n",
    "def LF_low_table_num(c):\n",
    "    if c.voltage.parent.table <= 2:\n",
    "        return 1\n",
    "    else:\n",
    "        return -1\n",
    "LFs.append(LF_low_table_num)\n",
    "\n",
    "def LF_whole_phrase_in_row(c):\n",
    "    row_ngrams = set(get_row_ngrams(c.voltage))\n",
    "    if 'collector-emitter voltage' in row_ngrams:\n",
    "        return 1\n",
    "    else:\n",
    "        return 0\n",
    "LFs.append(LF_whole_phrase_in_row)\n",
    "\n",
    "\n",
    "###################################################################\n",
    "# NEGATIVE\n",
    "###################################################################\n",
    "\n",
    "def LF_specific_neg_row_keywords(c):\n",
    "    left_ngrams = set(get_row_ngrams(c.voltage, infer=True))\n",
    "    neg_keys = set(['continuous', 'dc', 'cut-off'])\n",
    "    if set_any_in_set(neg_keys, left_ngrams):\n",
    "        return -1\n",
    "    else:\n",
    "        return 0\n",
    "LFs.append(LF_specific_neg_row_keywords)\n",
    "\n",
    "def LF_equals_in_row(c):\n",
    "    row_ngrams = set(get_row_ngrams(c.voltage))\n",
    "    if '=' in row_ngrams:\n",
    "        return -1\n",
    "    else:\n",
    "        return 0\n",
    "LFs.append(LF_equals_in_row)\n",
    "\n",
    "def LF_i_in_row(c):\n",
    "    row_ngrams = set(get_row_ngrams(c.voltage))\n",
    "    if 'i' in row_ngrams:\n",
    "        return -1\n",
    "    else:\n",
    "        return 0\n",
    "LFs.append(LF_i_in_row)\n",
    "\n",
    "def LF_first_row(c):\n",
    "    if c.voltage.parent.row_num == 0:\n",
    "        return -1\n",
    "    else:\n",
    "        return 0\n",
    "LFs.append(LF_first_row)\n",
    "    \n",
    "def LF_not_ce_relevant(c):\n",
    "    ce_keywords = set(['collector', 'emitter', 'collector-emitter'])\n",
    "    ngrams = set(get_aligned_ngrams(c.voltage))\n",
    "    if not set_any_in_set(ce_keywords, ngrams):\n",
    "        return -1\n",
    "    else:\n",
    "        return 1\n",
    "LFs.append(LF_not_ce_relevant)\n",
    "\n",
    "def LF_too_many_numbers_row(c):\n",
    "    num_numbers = list(get_row_ngrams(c.voltage, attrib=\"ner_tags\")).count('number')\n",
    "    return -1 if num_numbers >= 4 else 0\n",
    "LFs.append(LF_too_many_numbers_row)\n",
    "\n",
    "def LF_negative_keywords(c):\n",
    "    row_neg_keys = set(['ambient',\n",
    "                    'small-signal',\n",
    "                    'cut-off',\n",
    "                    'na',\n",
    "                    'ma',\n",
    "                    'cex',\n",
    "                    'resistance',\n",
    "                    'power',\n",
    "                    'junction',\n",
    "                    'dissipation', \n",
    "                    'breakdown',\n",
    "                    'current',\n",
    "                    'cbo',\n",
    "                    'vcbo'\n",
    "                    'peak',\n",
    "                    '=',\n",
    "                    'f',\n",
    "                    'p',\n",
    "                    'base',\n",
    "                    'mw',\n",
    "                    'ebo',\n",
    "                    'vebo',\n",
    "                    'i c',\n",
    "                    'total',\n",
    "                    'device',\n",
    "                    'c',\n",
    "                    'mhz',\n",
    "                    'temperature',\n",
    "                    'saturation',\n",
    "                    'operating',\n",
    "                    'storage'\n",
    "                    'bandwidth',\n",
    "                    'derate',\n",
    "                    'above',\n",
    "                    'product',\n",
    "                    'figure',\n",
    "                    'conditions',\n",
    "                    'current gain',\n",
    "                    'saturation',\n",
    "                    'min',\n",
    "                    'min.',\n",
    "                    'typ',\n",
    "                    'typ.',\n",
    "                    'max',\n",
    "                    'max.',\n",
    "                    'gain',\n",
    "                    'p',\n",
    "                    'thermal',\n",
    "                    'test'])\n",
    "    row_ngrams = set(get_row_ngrams(c.voltage))\n",
    "    col_ngrams = set(get_col_ngrams(c.voltage))\n",
    "    col_neg_keys = set(['conditions', \n",
    "                        'condition', \n",
    "                        'parameter', \n",
    "                        'min',\n",
    "                        'min.',\n",
    "                        'typ',\n",
    "                        'typ.',\n",
    "                        'max',\n",
    "                        'max.',\n",
    "                        'test'])\n",
    "    if set_any_in_set(row_neg_keys, row_ngrams):\n",
    "        return -1\n",
    "    if set_any_in_set(col_neg_keys, col_ngrams):\n",
    "        return -1\n",
    "    \n",
    "    return 0\n",
    "\n",
    "LFs.append(LF_negative_keywords)\n",
    "    \n",
    "# def LF_negative_keywords_in_col(c):\n",
    "#     neg_keys = set(['conditions',\n",
    "#                     'condition',\n",
    "#                     'parameter',\n",
    "#                     'test'])\n",
    "#     ngrams = set(get_col_ngrams(c.voltage))\n",
    "#     if set_any_in_set(neg_keys, ngrams):\n",
    "#         return -1\n",
    "#     else:\n",
    "#         return 0\n",
    "\n",
    "# LFs.append(LF_negative_keywords_in_col)\n",
    "\n",
    "# def LF_negative_keywords_in_part_aligned(c):\n",
    "#     ngrams = set(get_aligned_ngrams(c.part))\n",
    "#     return -1 if (\n",
    "#         'gain'          in ngrams or\n",
    "#         'small-signal'  in ngrams or\n",
    "#         'small'         in ngrams or\n",
    "#         'cbo'         in ngrams or\n",
    "#         'collector-emitter' in ngrams or\n",
    "#         'value'         in ngrams or\n",
    "#         'thermal'       in ngrams) else 0\n",
    "# LFs.append(LF_negative_keywords_in_part_aligned)\n",
    "\n",
    "# def LF_negative_keywords(c):\n",
    "#     ngrams = set(get_aligned_ngrams(c.voltage))\n",
    "#     return -1 if (\n",
    "#         'collector-base'    in ngrams or\n",
    "#         'cut-off'           in ngrams or\n",
    "#         '='                 in ngrams or\n",
    "#         'gain'              in ngrams or\n",
    "#         'h fe'              in ngrams or\n",
    "#         'typ.'              in ngrams or\n",
    "#         'typ'               in ngrams or\n",
    "#         'min'               in ngrams or\n",
    "#         'min.'              in ngrams or\n",
    "#         'saturation'        in ngrams or\n",
    "#         'mhz'               in ngrams or\n",
    "#         'gain'              in ngrams or\n",
    "#         'obo'               in ngrams or\n",
    "#         'c obo'             in ngrams) else 0\n",
    "# LFs.append(LF_negative_keywords)\n"
   ]
  },
  {
   "cell_type": "markdown",
   "metadata": {},
   "source": [
    "### Apply LFs"
   ]
  },
  {
   "cell_type": "code",
   "execution_count": null,
   "metadata": {
    "collapsed": false
   },
   "outputs": [],
   "source": [
    "%time L_train = label_manager.create(session, train, 'LF Labels', f=LFs)\n",
    "L_train"
   ]
  },
  {
   "cell_type": "markdown",
   "metadata": {},
   "source": [
    "### Assess LF accuracy"
   ]
  },
  {
   "cell_type": "code",
   "execution_count": null,
   "metadata": {
    "collapsed": false
   },
   "outputs": [],
   "source": [
    "train_gold = session.query(CandidateSet).filter(\n",
    "    CandidateSet.name == 'Hardware Training Candidates -- Gold').one()\n",
    "%time L_train.lf_stats(train_gold)"
   ]
  },
  {
   "cell_type": "code",
   "execution_count": null,
   "metadata": {
    "collapsed": true
   },
   "outputs": [],
   "source": [
    "# If necessary\n",
    "import os\n",
    "os.system('cp snorkel.db snorkel.db\\ features');"
   ]
  },
  {
   "cell_type": "markdown",
   "metadata": {},
   "source": [
    "## Learn and Evaluate"
   ]
  },
  {
   "cell_type": "code",
   "execution_count": 1,
   "metadata": {
    "collapsed": false
   },
   "outputs": [],
   "source": [
    "# If necessary:\n",
    "import os\n",
    "os.remove('snorkel.db');\n",
    "os.system('cp snorkel.db\\ features snorkel.db');\n",
    "\n",
    "%load_ext autoreload\n",
    "%autoreload 2\n",
    "%matplotlib inline\n",
    "\n",
    "import sys\n",
    "sys.path.append(os.environ['SNORKELHOME'] + '/tutorials/tables/')\n",
    "\n",
    "from snorkel import SnorkelSession\n",
    "session = SnorkelSession()\n",
    "\n",
    "from snorkel.models import candidate_subclass\n",
    "Part_Voltage = candidate_subclass('Part_Voltage', ['part','voltage'])\n",
    "from snorkel.models import CandidateSet\n",
    "train = session.query(CandidateSet).filter(\n",
    "    CandidateSet.name == 'Hardware Training Candidates').one()\n",
    "dev = session.query(CandidateSet).filter(\n",
    "    CandidateSet.name == 'Hardware Development Candidates').one()"
   ]
  },
  {
   "cell_type": "code",
   "execution_count": 2,
   "metadata": {
    "collapsed": false
   },
   "outputs": [
    {
     "name": "stdout",
     "output_type": "stream",
     "text": [
      "CPU times: user 6min 24s, sys: 12.4 s, total: 6min 37s\n",
      "Wall time: 6min 35s\n",
      "CPU times: user 4min 16s, sys: 8.6 s, total: 4min 24s\n",
      "Wall time: 4min 23s\n",
      "CPU times: user 22.1 s, sys: 568 ms, total: 22.6 s\n",
      "Wall time: 22.5 s\n"
     ]
    }
   ],
   "source": [
    "from snorkel.fast_annotations import FeatureManager, LabelManager\n",
    "feature_manager = FeatureManager()\n",
    "%time F_train = feature_manager.load(session, train, 'Train Features')\n",
    "%time F_dev = feature_manager.load(session, dev, 'Train Features')\n",
    "\n",
    "label_manager = LabelManager()\n",
    "%time L_train = label_manager.load(session, train, 'LF Labels')"
   ]
  },
  {
   "cell_type": "code",
   "execution_count": 3,
   "metadata": {
    "collapsed": false
   },
   "outputs": [
    {
     "name": "stderr",
     "output_type": "stream",
     "text": [
      "/home/lwhsiao/repos/snorkel/.virtualenv/local/lib/python2.7/site-packages/matplotlib/__init__.py:1357: UserWarning:  This call to matplotlib.use() has no effect\n",
      "because the backend has already been chosen;\n",
      "matplotlib.use() must be called *before* pylab, matplotlib.pyplot,\n",
      "or matplotlib.backends is imported for the first time.\n",
      "\n",
      "  warnings.warn(_use_error_msg)\n"
     ]
    },
    {
     "name": "stdout",
     "output_type": "stream",
     "text": [
      "================================================================================\n",
      "Training marginals (!= 0.5):\t299827\n",
      "Features:\t\t\t10\n",
      "================================================================================\n",
      "Begin training for rate=0.01, mu=1e-06\n",
      "\tLearning epoch = 0\tGradient mag. = 0.225489\n",
      "\tLearning epoch = 250\tGradient mag. = 0.276617\n",
      "\tLearning epoch = 500\tGradient mag. = 0.354472\n",
      "\tLearning epoch = 750\tGradient mag. = 0.478081\n",
      "\tLearning epoch = 1000\tGradient mag. = 0.631336\n",
      "\tLearning epoch = 1250\tGradient mag. = 0.781048\n",
      "\tLearning epoch = 1500\tGradient mag. = 0.691724\n",
      "\tLearning epoch = 1750\tGradient mag. = 0.613290\n",
      "\tLearning epoch = 2000\tGradient mag. = 0.577689\n",
      "\tLearning epoch = 2250\tGradient mag. = 0.566642\n",
      "\tLearning epoch = 2500\tGradient mag. = 0.392611\n",
      "\tLearning epoch = 2750\tGradient mag. = 0.299027\n",
      "\tLearning epoch = 3000\tGradient mag. = 0.260019\n",
      "\tLearning epoch = 3250\tGradient mag. = 0.256259\n",
      "\tLearning epoch = 3500\tGradient mag. = 0.275768\n",
      "\tLearning epoch = 3750\tGradient mag. = 0.309399\n",
      "\tLearning epoch = 4000\tGradient mag. = 0.348174\n",
      "\tLearning epoch = 4250\tGradient mag. = 0.387286\n",
      "\tLearning epoch = 4500\tGradient mag. = 0.423138\n",
      "\tLearning epoch = 4750\tGradient mag. = 0.454195\n",
      "\tLearning epoch = 5000\tGradient mag. = 0.408366\n",
      "\tLearning epoch = 5250\tGradient mag. = 0.354793\n",
      "\tLearning epoch = 5500\tGradient mag. = 0.334384\n",
      "\tLearning epoch = 5750\tGradient mag. = 0.320706\n",
      "\tLearning epoch = 6000\tGradient mag. = 0.291014\n",
      "\tLearning epoch = 6250\tGradient mag. = 0.267021\n",
      "\tLearning epoch = 6500\tGradient mag. = 0.246792\n",
      "\tLearning epoch = 6750\tGradient mag. = 0.229208\n",
      "\tLearning epoch = 7000\tGradient mag. = 0.213618\n",
      "\tLearning epoch = 7250\tGradient mag. = 0.199627\n",
      "\tLearning epoch = 7500\tGradient mag. = 0.186986\n",
      "\tLearning epoch = 7750\tGradient mag. = 0.175523\n",
      "\tLearning epoch = 8000\tGradient mag. = 0.165113\n",
      "\tLearning epoch = 8250\tGradient mag. = 0.155658\n",
      "\tLearning epoch = 8500\tGradient mag. = 0.147073\n",
      "\tLearning epoch = 8750\tGradient mag. = 0.139286\n",
      "\tLearning epoch = 9000\tGradient mag. = 0.132232\n",
      "\tLearning epoch = 9250\tGradient mag. = 0.125851\n",
      "\tLearning epoch = 9500\tGradient mag. = 0.120087\n",
      "\tLearning epoch = 9750\tGradient mag. = 0.114887\n",
      "\tLearning epoch = 10000\tGradient mag. = 0.110205\n",
      "\tLearning epoch = 10250\tGradient mag. = 0.105993\n",
      "\tLearning epoch = 10500\tGradient mag. = 0.102211\n",
      "\tLearning epoch = 10750\tGradient mag. = 0.098816\n",
      "\tLearning epoch = 11000\tGradient mag. = 0.095774\n",
      "\tLearning epoch = 11250\tGradient mag. = 0.093048\n",
      "\tLearning epoch = 11500\tGradient mag. = 0.090608\n",
      "\tLearning epoch = 11750\tGradient mag. = 0.088014\n",
      "\tLearning epoch = 12000\tGradient mag. = 0.081865\n",
      "\tLearning epoch = 12250\tGradient mag. = 0.076317\n",
      "\tLearning epoch = 12500\tGradient mag. = 0.071312\n",
      "\tLearning epoch = 12750\tGradient mag. = 0.066799\n",
      "\tLearning epoch = 13000\tGradient mag. = 0.062732\n",
      "\tLearning epoch = 13250\tGradient mag. = 0.059065\n",
      "\tLearning epoch = 13500\tGradient mag. = 0.055760\n",
      "\tLearning epoch = 13750\tGradient mag. = 0.052780\n",
      "\tLearning epoch = 14000\tGradient mag. = 0.050091\n",
      "\tLearning epoch = 14250\tGradient mag. = 0.047664\n",
      "\tLearning epoch = 14500\tGradient mag. = 0.045470\n",
      "\tLearning epoch = 14750\tGradient mag. = 0.043483\n",
      "Final gradient magnitude for rate=0.01, mu=1e-06: 0.042\n",
      "CPU times: user 172 ms, sys: 4 ms, total: 176 ms\n",
      "Wall time: 192 ms\n"
     ]
    }
   ],
   "source": [
    "from snorkel.learning import NaiveBayes\n",
    "\n",
    "gen_model = NaiveBayes()\n",
    "gen_model.train(L_train, n_iter=15000, rate=1e-2)\n",
    "%time gen_model.save(session, 'Generative Params')\n",
    "train_marginals = gen_model.marginals(L_train)"
   ]
  },
  {
   "cell_type": "code",
   "execution_count": 4,
   "metadata": {
    "collapsed": false
   },
   "outputs": [
    {
     "name": "stdout",
     "output_type": "stream",
     "text": [
      "================================================================================\n",
      "Training marginals (!= 0.5):\t299827\n",
      "Features:\t\t\t31537\n",
      "================================================================================\n",
      "Using gradient descent...\n",
      "\tLearning epoch = 0\tStep size = 0.0001\n",
      "\tLoss = 207824.239706\tGradient magnitude = 511142.884199\n",
      "\tLearning epoch = 100\tStep size = 9.04792147114e-05\n",
      "\tLoss = 453246.485839\tGradient magnitude = 133535.933704\n",
      "\tLearning epoch = 200\tStep size = 8.18648829479e-05\n",
      "\tLoss = 238260.790074\tGradient magnitude = 76775.908310\n",
      "\tLearning epoch = 300\tStep size = 7.40707032156e-05\n",
      "\tLoss = 508387.270872\tGradient magnitude = 85677.833812\n",
      "\tLearning epoch = 400\tStep size = 6.70185906007e-05\n",
      "\tLoss = 383453.973987\tGradient magnitude = 85677.625292\n",
      "\tLearning epoch = 500\tStep size = 6.06378944861e-05\n",
      "\tLoss = 272859.295242\tGradient magnitude = 138418.161957\n",
      "\tLearning epoch = 600\tStep size = 5.48646907485e-05\n",
      "\tLoss = 366941.208475\tGradient magnitude = 85215.163735\n",
      "\tLearning epoch = 700\tStep size = 4.96411413431e-05\n",
      "\tLoss = 198746.559188\tGradient magnitude = 80562.053126\n",
      "\tLearning epoch = 800\tStep size = 4.4914914861e-05\n",
      "\tLoss = 438074.962402\tGradient magnitude = 85677.816981\n",
      "\tLearning epoch = 900\tStep size = 4.06386622545e-05\n",
      "\tLoss = 355449.537427\tGradient magnitude = 85677.251690\n",
      "\tLearning epoch = 1000\tStep size = 3.67695424771e-05\n",
      "\tLoss = 238162.597373\tGradient magnitude = 67765.986673\n",
      "\tLearning epoch = 1100\tStep size = 3.32687932862e-05\n",
      "\tLoss = 194834.001760\tGradient magnitude = 147878.140697\n",
      "\tLearning epoch = 1200\tStep size = 3.01013429093e-05\n",
      "\tLoss = 127376.766614\tGradient magnitude = 127316.640476\n",
      "\tLearning epoch = 1300\tStep size = 2.72354586819e-05\n",
      "\tLoss = 137540.407066\tGradient magnitude = 81540.192894\n",
      "\tLearning epoch = 1400\tStep size = 2.46424291385e-05\n",
      "\tLoss = 144715.303895\tGradient magnitude = 82142.974937\n",
      "\tLearning epoch = 1500\tStep size = 2.22962763703e-05\n",
      "\tLoss = 112436.626110\tGradient magnitude = 119550.233965\n",
      "\tLearning epoch = 1600\tStep size = 2.01734957697e-05\n",
      "\tLoss = 113810.575833\tGradient magnitude = 71296.290834\n",
      "\tLearning epoch = 1700\tStep size = 1.82528205523e-05\n",
      "\tLoss = 75631.441857\tGradient magnitude = 104373.506003\n",
      "\tLearning epoch = 1800\tStep size = 1.65150086984e-05\n",
      "\tLoss = 88941.007741\tGradient magnitude = 153920.637378\n",
      "\tLearning epoch = 1900\tStep size = 1.49426501798e-05\n",
      "\tLoss = 58580.609358\tGradient magnitude = 112109.403227\n",
      "\tLearning epoch = 2000\tStep size = 1.35199925397e-05\n",
      "\tLoss = 83016.439260\tGradient magnitude = 59000.018874\n",
      "\tLearning epoch = 2100\tStep size = 1.2232783079e-05\n",
      "\tLoss = 55297.746154\tGradient magnitude = 56108.298300\n",
      "\tLearning epoch = 2200\tStep size = 1.10681260672e-05\n",
      "\tLoss = 52766.098724\tGradient magnitude = 83421.991888\n",
      "\tLearning epoch = 2300\tStep size = 1.00143535489e-05\n",
      "\tLoss = 74404.963115\tGradient magnitude = 66163.486472\n",
      "\tLearning epoch = 2400\tStep size = 9.06090844946e-06\n",
      "\tLoss = 54918.079457\tGradient magnitude = 55558.939203\n",
      "\tLearning epoch = 2500\tStep size = 8.19823881078e-06\n",
      "\tLoss = 45234.570754\tGradient magnitude = 26009.039870\n",
      "\tLearning epoch = 2600\tStep size = 7.41770209616e-06\n",
      "\tLoss = 45717.246065\tGradient magnitude = 37668.473680\n",
      "\tLearning epoch = 2700\tStep size = 6.71147860624e-06\n",
      "\tLoss = 45956.917190\tGradient magnitude = 42366.353472\n",
      "\tLearning epoch = 2800\tStep size = 6.07249313844e-06\n",
      "\tLoss = 45435.271682\tGradient magnitude = 35877.997443\n",
      "\tLearning epoch = 2900\tStep size = 5.49434410507e-06\n",
      "\tLoss = 44630.299163\tGradient magnitude = 21821.427211\n",
      "\tLearning epoch = 3000\tStep size = 4.9712393998e-06\n",
      "\tLoss = 44125.391144\tGradient magnitude = 191.835395\n",
      "\tLearning epoch = 3100\tStep size = 4.49793837036e-06\n",
      "\tLoss = 44122.080100\tGradient magnitude = 81.819838\n",
      "\tLearning epoch = 3200\tStep size = 4.06969931571e-06\n",
      "\tLoss = 44119.234590\tGradient magnitude = 80.374258\n",
      "\tLearning epoch = 3300\tStep size = 3.68223198197e-06\n",
      "\tLoss = 44116.744739\tGradient magnitude = 79.195337\n",
      "\tLearning epoch = 3400\tStep size = 3.33165458113e-06\n",
      "\tLoss = 44114.556539\tGradient magnitude = 78.216955\n",
      "\tLearning epoch = 3500\tStep size = 3.01445490191e-06\n",
      "\tLoss = 44112.625754\tGradient magnitude = 77.411726\n",
      "\tLearning epoch = 3600\tStep size = 2.72745512307e-06\n",
      "\tLoss = 44110.917000\tGradient magnitude = 76.760581\n",
      "\tLearning epoch = 3700\tStep size = 2.46777997696e-06\n",
      "\tLoss = 44109.401167\tGradient magnitude = 76.256519\n",
      "\tLearning epoch = 3800\tStep size = 2.23282794396e-06\n",
      "\tLoss = 44108.052264\tGradient magnitude = 75.865068\n",
      "\tLearning epoch = 3900\tStep size = 2.02024518955e-06\n",
      "\tLoss = 44106.847149\tGradient magnitude = 75.576381\n",
      "CPU times: user 4.45 s, sys: 96 ms, total: 4.55 s\n",
      "Wall time: 4.51 s\n"
     ]
    }
   ],
   "source": [
    "from snorkel.learning import LogReg\n",
    "\n",
    "disc_model = LogReg()\n",
    "disc_model.train(F_train, train_marginals, n_iter=4000, rate=1e-4)\n",
    "%time disc_model.save(session, \"Discriminative Params\")"
   ]
  },
  {
   "cell_type": "code",
   "execution_count": 5,
   "metadata": {
    "collapsed": false
   },
   "outputs": [
    {
     "name": "stdout",
     "output_type": "stream",
     "text": [
      "Calibration plot:\n"
     ]
    },
    {
     "name": "stderr",
     "output_type": "stream",
     "text": [
      "/home/lwhsiao/repos/snorkel/.virtualenv/local/lib/python2.7/site-packages/numpy/core/_methods.py:59: RuntimeWarning: Mean of empty slice.\n",
      "  warnings.warn(\"Mean of empty slice.\", RuntimeWarning)\n"
     ]
    },
    {
     "data": {
      "image/png": "[encoded data removed]",
      "text/plain": [
       "<matplotlib.figure.Figure at 0x7f3c25571e90>"
      ]
     },
     "metadata": {},
     "output_type": "display_data"
    },
    {
     "name": "stdout",
     "output_type": "stream",
     "text": [
      "========================================\n",
      "Recall-corrected Noise-aware Model\n",
      "========================================\n",
      "Pos. class accuracy: 0.00129922046772\n",
      "Neg. class accuracy: 0.997987534913\n",
      "Corpus Precision 0.073\n",
      "Corpus Recall    0.0013\n",
      "Corpus F1        0.00255\n",
      "----------------------------------------\n",
      "TP: 13 | FP: 165 | TN: 81824 | FN: 9993\n",
      "========================================\n",
      "\n",
      "========================================\n",
      "Recall-corrected Noise-aware Model\n",
      "========================================\n",
      "Pos. class accuracy: 0.00129922046772\n",
      "Neg. class accuracy: 0.997987534913\n",
      "Corpus Precision 0.073\n",
      "Corpus Recall    0.0013\n",
      "Corpus F1        0.00255\n",
      "----------------------------------------\n",
      "TP: 13 | FP: 165 | TN: 81824 | FN: 9993\n",
      "========================================\n",
      "\n"
     ]
    }
   ],
   "source": [
    "train_gold = session.query(CandidateSet).filter(\n",
    "    CandidateSet.name == 'Hardware Training Candidates -- Gold').one()\n",
    "\n",
    "dev_gold = session.query(CandidateSet).filter(\n",
    "    CandidateSet.name == 'Hardware Development Candidates -- Gold').one()\n",
    "\n",
    "from snorkel.models import CandidateSet\n",
    "from snorkel.annotations import LabelManager\n",
    "label_manager = LabelManager()\n",
    "L_dev = label_manager.load(session, dev, 'Hardware Development Labels -- Gold')\n",
    "\n",
    "tp, fp, tn, fn = disc_model.score(F_dev, L_dev, dev_gold)"
   ]
  },
  {
   "cell_type": "code",
   "execution_count": 6,
   "metadata": {
    "collapsed": false,
    "scrolled": true
   },
   "outputs": [
    {
     "name": "stdout",
     "output_type": "stream",
     "text": [
      "========================================\n",
      "Scoring on Entity-Level Gold Data\n",
      "========================================\n",
      "Corpus Precision 0.116\n",
      "Corpus Recall    0.0442\n",
      "Corpus F1        0.064\n",
      "----------------------------------------\n",
      "TP: 8 | FP: 61 | FN: 173\n",
      "========================================\n",
      "\n"
     ]
    }
   ],
   "source": [
    "from snorkel.models import Corpus\n",
    "from hardware_utils import entity_level_f1\n",
    "import os\n",
    "\n",
    "gold_file = os.environ['SNORKELHOME'] + '/tutorials/tables/data/hardware/hardware_gold.csv'\n",
    "corpus = session.query(Corpus).filter(Corpus.name == 'Hardware Development').one()\n",
    "(TP, FP, FN) = entity_level_f1(tp, fp, tn, fn, gold_file, corpus, 'ce_v_max')\n"
   ]
  },
  {
   "cell_type": "code",
   "execution_count": 10,
   "metadata": {
    "collapsed": false
   },
   "outputs": [
    {
     "name": "stdout",
     "output_type": "stream",
     "text": [
      "[('2N3906', '2N3906', '-40'),\n",
      " ('2N3906', '2N3906BU', '-40'),\n",
      " ('2N3906', '2N3906TA', '-40'),\n",
      " ('2N3906', '2N3906TAR', '-40'),\n",
      " ('2N3906', '2N3906TF', '-40'),\n",
      " ('2N3906', '2N3906TFR', '-40'),\n",
      " ('2N3906', 'MMBT3906', '-40'),\n",
      " ('2N3906', 'PZT3906', '-40'),\n",
      " ('2N4124', '2N4124', '25'),\n",
      " ('2N4124', 'MMBT4124', '25'),\n",
      " ('BC182-D', 'BC182', '50'),\n",
      " ('BC182-D', 'BC182B', '50'),\n",
      " ('BC182-D', 'BC182BG', '50'),\n",
      " ('BC182-D', 'BC182BRL1G', '50'),\n",
      " ('BC182-D', 'BC182G', '50'),\n",
      " ('BC546-D', 'BC546', '65'),\n",
      " ('BC546-D', 'BC546B', '65'),\n",
      " ('BC546-D', 'BC546BG', '65'),\n",
      " ('BC546-D', 'BC546BRL1', '65'),\n",
      " ('BC546-D', 'BC546BRL1G', '65'),\n",
      " ('BC546-D', 'BC546BZL1G', '65'),\n",
      " ('BC546-D', 'BC547', '45'),\n",
      " ('BC546-D', 'BC547A', '45'),\n",
      " ('BC546-D', 'BC547ARL', '45'),\n",
      " ('BC546-D', 'BC547ARLG', '45'),\n",
      " ('BC546-D', 'BC547AZL1G', '45'),\n",
      " ('BC546-D', 'BC547B', '45'),\n",
      " ('BC546-D', 'BC547BG', '45'),\n",
      " ('BC546-D', 'BC547BRL1G', '45'),\n",
      " ('BC546-D', 'BC547BZL1G', '45'),\n",
      " ('BC546-D', 'BC547C', '45'),\n",
      " ('BC546-D', 'BC547CG', '45'),\n",
      " ('BC546-D', 'BC547CZL1G', '45'),\n",
      " ('BC546-D', 'BC548', '30'),\n",
      " ('BC546-D', 'BC548B', '30'),\n",
      " ('BC546-D', 'BC548BG', '30'),\n",
      " ('BC546-D', 'BC548BRL1G', '30'),\n",
      " ('BC546-D', 'BC548BZL1G', '30'),\n",
      " ('BC546-D', 'BC548C', '30'),\n",
      " ('BC546-D', 'BC548CG', '30'),\n",
      " ('BC546-D', 'BC548CZL1G', '30'),\n",
      " ('BC547', 'BC546', '65'),\n",
      " ('BC547', 'BC546A', '65'),\n",
      " ('BC547', 'BC546ABU', '65'),\n",
      " ('BC547', 'BC546ATA', '65'),\n",
      " ('BC547', 'BC546B', '65'),\n",
      " ('BC547', 'BC546BCTA', '65'),\n",
      " ('BC547', 'BC546BTA', '65'),\n",
      " ('BC547', 'BC546BTF', '65'),\n",
      " ('BC547', 'BC546C', '65'),\n",
      " ('BC547', 'BC546CTA', '65'),\n",
      " ('BC547', 'BC547', '45'),\n",
      " ('BC547', 'BC547A', '45'),\n",
      " ('BC547', 'BC547ATA', '45'),\n",
      " ('BC547', 'BC547B', '45'),\n",
      " ('BC547', 'BC547BBU', '45'),\n",
      " ('BC547', 'BC547BTA', '45'),\n",
      " ('BC547', 'BC547BTF', '45'),\n",
      " ('BC547', 'BC547C', '45'),\n",
      " ('BC547', 'BC547CBU', '45')]\n"
     ]
    }
   ],
   "source": [
    "from pprint import pprint\n",
    "FN_list = sorted(list(FN))\n",
    "FP_list = sorted(list(FP))\n",
    "TP_list = sorted(list(TP))\n",
    "pprint(FN_list[:60])"
   ]
  },
  {
   "cell_type": "code",
   "execution_count": 17,
   "metadata": {
    "collapsed": false
   },
   "outputs": [
    {
     "name": "stdout",
     "output_type": "stream",
     "text": [
      "('BC547', 'BC547CTFR', '45')\n",
      "\n",
      "# Matches: 20\n",
      "Part_Voltage(ImplicitSpan(\"BC547CTFR\", parent=3770, words=[1,3], position=[10]), ImplicitSpan(\"45\", parent=86564, words=[0,0], position=[0]))\n",
      "\n",
      "Phrase:\n",
      "Phrase(Doc: BC547, Table: 1, Row: 5, Col: 1, Position: 0, Text: 45)\n",
      "-46.3874929747\n",
      "\n",
      "[(AnnotationKey (TAB_e2_HTML_ANC_TAG_[table]), -5.926182626946603),\n",
      " (AnnotationKey (TAB_e2_HTML_ANC_TAG_[tr]), -5.926182626946603),\n",
      " (AnnotationKey (TAB_e2_HTML_ANC_TAG_[td]), -5.926182626946603),\n",
      " (AnnotationKey (TAB_e2_COL_WORDS_[30]), -1.9780498172698082),\n",
      " (AnnotationKey (TAB_e2_COL_WORDS_[50]), -1.8764822619656558),\n",
      " (AnnotationKey (TAB_e2_COL_WORDS_[)]), -1.4365031547663245),\n",
      " (AnnotationKey (TAB_e2_COL_WORDS_[current]), -1.4228573693017605),\n",
      " (AnnotationKey (TAB_e2_COL_WORDS_[voltage]), -1.4017220592396662),\n",
      " (AnnotationKey (TAB_e2_COL_WORDS_[5]), -1.348140821310086),\n",
      " (AnnotationKey (TAB_e2_COL_WORDS_[collector]), -1.3223436729884115),\n",
      " (AnnotationKey (TAB_e2_COL_WORDS_[(]), -1.2312706025450515),\n",
      " (AnnotationKey (TAB_e2_COL_NUM_[1]), -1.114443258803928),\n",
      " (AnnotationKey (TAB_e2_COL_WORDS_[collector current]), -0.7856856089232386),\n",
      " (AnnotationKey (TAB_e2_ROW_WORDS_[/]), -0.7424991143281512),\n",
      " (AnnotationKey (TAB_e2_COL_WORDS_[storage]), -0.6740771104443748),\n",
      " (AnnotationKey (TAB_e2_COL_WORDS_[junction]), -0.6540590011746645),\n",
      " (AnnotationKey (TAB_e2_COL_WORDS_[temperature]), -0.653988536667253),\n",
      " (AnnotationKey (TAB_e2_COL_WORDS_[dissipation]), -0.6223854074818201),\n",
      " (AnnotationKey (TAB_e2_COL_WORDS_[junction temperature]), -0.618148131771449),\n",
      " (AnnotationKey (TAB_e2_COL_WORDS_[collector-emitter]), -0.5891578886800372),\n",
      " (AnnotationKey (TAB_e2_COL_WORDS_[dc]), -0.5833756554881501),\n",
      " (AnnotationKey (TAB_e2_COL_WORDS_[range]), -0.5561883087999678),\n",
      " (AnnotationKey (TAB_e2_COL_WORDS_[temperature range]), -0.5561883087999678),\n",
      " (AnnotationKey (TAB_e2_COL_WORDS_[emitter-base]), -0.4631931458689926),\n",
      " (AnnotationKey (TAB_e2_CONTAINS_WORDS_[45]), 0.42988341933059887),\n",
      " (AnnotationKey (TAB_e2_COL_WORDS_[collector-base]), -0.4087100835028622),\n",
      " (AnnotationKey (TAB_e2_ROW_NUM_[5]), -0.39607568718716024),\n",
      " (AnnotationKey (TAB_e1_HTML_ANC_TAG_[html]), -0.38651475835308896),\n",
      " (AnnotationKey (TAB_e2_HTML_ANC_TAG_[html]), -0.38651475835308896),\n",
      " (AnnotationKey (TAB_e2_SPAN_TYPE_[IMPLICIT]), -0.38651475835308896),\n",
      " (AnnotationKey (TAB_e2_COL_HEAD_WORDS_[parameter]), -0.3685119790564694),\n",
      " (AnnotationKey (TAB_e2_COL_WORDS_[parameter]), -0.3685119790564694),\n",
      " (AnnotationKey (TAB_e2_ROW_WORDS_[bc547]), -0.3680896558794949),\n",
      " (AnnotationKey (TAB_e2_HTML_ANC_TAG_[body]), -0.3521810586836916),\n",
      " (AnnotationKey (TAB_e2_COL_WORDS_[current (]), -0.3463304005913705),\n",
      " (AnnotationKey (TAB_e2_ROW_HEAD_WORDS_[bc547]), -0.30907015022365314),\n",
      " (AnnotationKey (TAB_e2_COL_WORDS_[power]), -0.27135987888465324),\n",
      " (AnnotationKey (TAB_e2_COL_WORDS_[power dissipation]), -0.25989493603419034),\n",
      " (AnnotationKey (TAB_e2_COL_WORDS_[collector-emitter voltage]),\n",
      "  -0.25770140759955606),\n",
      " (AnnotationKey (TAB_e2_COL_WORDS_[emitter-base voltage]),\n",
      "  -0.2510716797773334),\n",
      " (AnnotationKey (TAB_e2_COL_WORDS_[storage temperature]), -0.2510218287934519),\n",
      " (AnnotationKey (TAB_e2_COL_WORDS_[collector-base voltage]),\n",
      "  -0.241501049814588),\n",
      " (AnnotationKey (TAB_e2_COL_WORDS_[dc )]), -0.2251010918420391),\n",
      " (AnnotationKey (TAB_e2_COL_WORDS_[( dc]), -0.2251010918420391),\n",
      " (AnnotationKey (TAB_e1_NEIGHBOR_PHRASE_WORDS_[*]), -0.22166176848840946),\n",
      " (AnnotationKey (TAB_e1_SPAN_TYPE_[IMPLICIT]), -0.2145020316929614),\n",
      " (AnnotationKey (TAB_e1_NEIGHBOR_PHRASE_WORDS_[bold]), -0.2043206080772108),\n",
      " (AnnotationKey (TAB_e1_NEIGHBOR_PHRASE_WORDS_[: bold]), -0.2043206080772108),\n",
      " (AnnotationKey (TAB_e2_COL_WORDS_[collector power]), -0.19100558377606333),\n",
      " (AnnotationKey (TAB_e2_ROW_HEAD_WORDS_[/]), -0.18444638452519058),\n",
      " (AnnotationKey (TAB_e1_NEIGHBOR_PHRASE_WORDS_[h2 {]), 0.1580202280405729),\n",
      " (AnnotationKey (TAB_e1_NEIGHBOR_PHRASE_WORDS_[h2]), 0.1580202280405729),\n",
      " (AnnotationKey (TAB_e1_NEIGHBOR_PHRASE_WORDS_[} h2]), 0.1580202280405729),\n",
      " (AnnotationKey (TAB_e1_NEIGHBOR_PHRASE_WORDS_[bold ;]), -0.1443430585942895),\n",
      " (AnnotationKey (TAB_e1_NEIGHBOR_PHRASE_WORDS_[black]), 0.13887282217265207),\n",
      " (AnnotationKey (TAB_e1_NEIGHBOR_PHRASE_WORDS_[: black]), 0.13887282217265207),\n",
      " (AnnotationKey (TAB_e1_NEIGHBOR_PHRASE_WORDS_[black ;]), 0.13887282217265207),\n",
      " (AnnotationKey (TAB_e1_RIGHT_WORDS_[npn]), -0.1256498708431177),\n",
      " (AnnotationKey (TAB_e1_RIGHT_WORDS_[bc548]), -0.12225914132537252),\n",
      " (AnnotationKey (TAB_e2_ROW_WORDS_[bc550]), -0.11987950666123924),\n",
      " (AnnotationKey (TAB_e1_NEIGHBOR_PHRASE_WORDS_[pt ;]), 0.11965133333114908),\n",
      " (AnnotationKey (TAB_e1_NEIGHBOR_PHRASE_WORDS_[pt]), 0.11965133333114908),\n",
      " (AnnotationKey (TAB_e2_ROW_HEAD_WORDS_[bc550]), -0.10931182020777061),\n",
      " (AnnotationKey (TAB_e2_HTML_ANC_TAG_[p]), -0.10350609530226143),\n",
      " (AnnotationKey (TAB_e2_HTML_TAG_p), -0.10313411499302763),\n",
      " (AnnotationKey (TAB_e1_RIGHT_WORDS_[,]), -0.09314889495766462),\n",
      " (AnnotationKey (TDL_INV_DEP_LABEL|LEMMA:BETWEEN-MENTION-and-MENTION[ROOT|bc546]),\n",
      "  0.08035860838055152),\n",
      " (AnnotationKey (TAB_e1_NEIGHBOR_PHRASE_WORDS_[:]), 0.07742875204839772),\n",
      " (AnnotationKey (TAB_e2_ROW_HEAD_WORDS_[/ bc550]), -0.0715720973950831),\n",
      " (AnnotationKey (TAB_e2_ROW_HEAD_WORDS_[bc547 /]), -0.0715720973950831),\n",
      " (AnnotationKey (TAB_e2_ROW_WORDS_[bc547 /]), -0.0715720973950831),\n",
      " (AnnotationKey (TAB_e2_ROW_WORDS_[/ bc550]), -0.0715720973950831),\n",
      " (AnnotationKey (TAB_e1_LEFT_WORDS_[bc546]), -0.06723657735227676),\n",
      " (AnnotationKey (TAB_e1_NEIGHBOR_PHRASE_WORDS_[;]), -0.06607183665398723),\n",
      " (AnnotationKey (TAB_e1_RIGHT_WORDS_[bc549]), -0.06339680454054428),\n",
      " (AnnotationKey (TAB_e1_NEIGHBOR_PHRASE_WORDS_[{]), -0.060980815634348165),\n",
      " (AnnotationKey (TAB_e1_NEIGHBOR_PHRASE_WORDS_[}]), -0.060980815634348165),\n",
      " (AnnotationKey (TAB_e1_NEIGHBOR_PHRASE_WORDS_[; }]), -0.060980815634348165),\n",
      " (AnnotationKey (TAB_e1_HTML_ANC_TAG_[head]), -0.05379470104666709),\n",
      " (AnnotationKey (TAB_e1_NEIGHBOR_PHRASE_WORDS_[.]), 0.04652562127183513),\n",
      " (AnnotationKey (TAB_e1_RIGHT_WORDS_[bc550]), 0.04596692190674561),\n",
      " (AnnotationKey (TAB_e1_RIGHT_WORDS_[-]), -0.042732723329098714),\n",
      " (AnnotationKey (TAB_e1_NEIGHBOR_PHRASE_WORDS_[text-decoration]),\n",
      "  -0.0386302516536909),\n",
      " (AnnotationKey (TAB_e1_NEIGHBOR_PHRASE_WORDS_[; font-size]),\n",
      "  -0.0386302516536909),\n",
      " (AnnotationKey (TAB_e1_NEIGHBOR_PHRASE_WORDS_[font-size :]),\n",
      "  -0.0386302516536909),\n",
      " (AnnotationKey (TAB_e1_NEIGHBOR_PHRASE_WORDS_[color :]), -0.0386302516536909),\n",
      " (AnnotationKey (TAB_e1_NEIGHBOR_PHRASE_WORDS_[; font-weight]),\n",
      "  -0.0386302516536909),\n",
      " (AnnotationKey (TAB_e1_NEIGHBOR_PHRASE_WORDS_[normal ;]),\n",
      "  -0.0386302516536909),\n",
      " (AnnotationKey (TAB_e1_NEIGHBOR_PHRASE_WORDS_[color]), -0.0386302516536909),\n",
      " (AnnotationKey (TAB_e1_NEIGHBOR_PHRASE_WORDS_[font-weight :]),\n",
      "  -0.0386302516536909),\n",
      " (AnnotationKey (TAB_e1_NEIGHBOR_PHRASE_WORDS_[; text-decoration]),\n",
      "  -0.0386302516536909),\n",
      " (AnnotationKey (TAB_e1_NEIGHBOR_PHRASE_WORDS_[normal]), -0.0386302516536909),\n",
      " (AnnotationKey (TAB_e1_NEIGHBOR_PHRASE_WORDS_[: normal]),\n",
      "  -0.0386302516536909),\n",
      " (AnnotationKey (TAB_e1_NEIGHBOR_PHRASE_WORDS_[font-style :]),\n",
      "  -0.0386302516536909),\n",
      " (AnnotationKey (TAB_e1_NEIGHBOR_PHRASE_WORDS_[: none]), -0.0386302516536909),\n",
      " (AnnotationKey (TAB_e1_NEIGHBOR_PHRASE_WORDS_[text-decoration :]),\n",
      "  -0.0386302516536909),\n",
      " (AnnotationKey (TAB_e1_NEIGHBOR_PHRASE_WORDS_[; font-style]),\n",
      "  -0.0386302516536909),\n",
      " (AnnotationKey (TAB_e1_NEIGHBOR_PHRASE_WORDS_[font-style]),\n",
      "  -0.0386302516536909),\n",
      " (AnnotationKey (TAB_e1_NEIGHBOR_PHRASE_WORDS_[none]), -0.0386302516536909),\n",
      " (AnnotationKey (TAB_e1_NEIGHBOR_PHRASE_WORDS_[none ;]), -0.0386302516536909),\n",
      " (AnnotationKey (TAB_e1_NEIGHBOR_PHRASE_WORDS_[font-size]),\n",
      "  -0.0386302516536909),\n",
      " (AnnotationKey (TAB_e1_NEIGHBOR_PHRASE_WORDS_[font-weight]),\n",
      "  -0.0386302516536909),\n",
      " (AnnotationKey (TAB_e1_NEIGHBOR_PHRASE_WORDS_[font-family]),\n",
      "  -0.0386302516536909),\n",
      " (AnnotationKey (TAB_e1_NEIGHBOR_PHRASE_WORDS_[font-family :]),\n",
      "  -0.0386302516536909),\n",
      " (AnnotationKey (TAB_e1_NEIGHBOR_PHRASE_WORDS_[; font-family]),\n",
      "  -0.0386302516536909),\n",
      " (AnnotationKey (TDL_INV_BETWEEN-MENTION-and-MENTION[LEN:0-2]),\n",
      "  0.03373628614074518),\n",
      " (AnnotationKey (TAB_e1_HTML_TAG_title), -0.03323083635230489),\n",
      " (AnnotationKey (TAB_e1_HTML_ANC_TAG_[title]), -0.03323083635230489),\n",
      " (AnnotationKey (TAB_e1_NEIGHBOR_PHRASE_WORDS_[,]), -0.029203827267378378),\n",
      " (AnnotationKey (TAB_e1_RIGHT_WORDS_[bc548 ,]), -0.027606056709561542),\n",
      " (AnnotationKey (TAB_e1_NEIGHBOR_PHRASE_WORDS_[margin :0]),\n",
      "  0.0268360713899599),\n",
      " (AnnotationKey (TAB_e1_NEIGHBOR_PHRASE_WORDS_[:0]), 0.0268360713899599),\n",
      " (AnnotationKey (TAB_e1_NEIGHBOR_PHRASE_WORDS_[margin]), 0.0268360713899599),\n",
      " (AnnotationKey (TAB_e1_RIGHT_WORDS_[, bc550]), 0.02497714771878065),\n",
      " (AnnotationKey (TAB_e1_NEIGHBOR_PHRASE_WORDS_[{ color]),\n",
      "  -0.022230771225666638),\n",
      " (AnnotationKey (TAB_e1_RIGHT_WORDS_[- npn]), 0.019607101907873417),\n",
      " (AnnotationKey (TAB_e1_NEIGHBOR_PHRASE_WORDS_[arial]), 0.01672488021531036),\n",
      " (AnnotationKey (TAB_e1_NEIGHBOR_PHRASE_WORDS_[: arial]), 0.01672488021531036),\n",
      " (AnnotationKey (TAB_e1_NEIGHBOR_PHRASE_WORDS_[arial ,]), 0.01672488021531036),\n",
      " (AnnotationKey (TAB_e1_NEIGHBOR_PHRASE_WORDS_[: 11.5]), 0.014273911155849594),\n",
      " (AnnotationKey (TAB_e1_NEIGHBOR_PHRASE_WORDS_[11.5]), 0.014273911155849594),\n",
      " (AnnotationKey (TAB_e1_NEIGHBOR_PHRASE_WORDS_[11.5 pt]),\n",
      "  0.014273911155849594),\n",
      " (AnnotationKey (TDL_INV_LEMMA:PARENTS-OF-BETWEEN-MENTION-and-MENTION[None]),\n",
      "  -0.013899833490417051),\n",
      " (AnnotationKey (TAB_e1_NEIGHBOR_PHRASE_WORDS_[} .]), -0.012855479799118039),\n",
      " (AnnotationKey (TAB_e1_RIGHT_WORDS_[, bc549]), -0.011976333633212311),\n",
      " (AnnotationKey (TAB_e1_NEIGHBOR_PHRASE_WORDS_[, sans-serif]),\n",
      "  0.007572957308747417),\n",
      " (AnnotationKey (TAB_e1_NEIGHBOR_PHRASE_WORDS_[sans-serif]),\n",
      "  0.007572957308747417),\n",
      " (AnnotationKey (TAB_e1_NEIGHBOR_PHRASE_WORDS_[sans-serif ;]),\n",
      "  0.007572957308747417),\n",
      " (AnnotationKey (TDL_INV_LEMMA:BETWEEN-MENTION-and-MENTION[bc546]),\n",
      "  0.004699422627251939),\n",
      " (AnnotationKey (TDL_INV_LEMMA:RIGHT-OF-MENTION[bc547]),\n",
      "  -0.0031834226842101378),\n",
      " (AnnotationKey (TAB_e1_NEIGHBOR_PHRASE_WORDS_[text-indent :0]),\n",
      "  -0.002954038996790862),\n",
      " (AnnotationKey (TAB_e1_NEIGHBOR_PHRASE_WORDS_[* {]), -0.002954038996790862),\n",
      " (AnnotationKey (TAB_e1_NEIGHBOR_PHRASE_WORDS_[{ margin]),\n",
      "  -0.002954038996790862),\n",
      " (AnnotationKey (TAB_e1_NEIGHBOR_PHRASE_WORDS_[text-indent]),\n",
      "  -0.002954038996790862),\n",
      " (AnnotationKey (TAB_e1_NEIGHBOR_PHRASE_WORDS_[; text-indent]),\n",
      "  -0.002954038996790862),\n",
      " (AnnotationKey (TAB_e1_NEIGHBOR_PHRASE_WORDS_[padding :0]),\n",
      "  -0.002954038996790862),\n",
      " (AnnotationKey (TAB_e1_NEIGHBOR_PHRASE_WORDS_[:0 ;]), -0.002954038996790862),\n",
      " (AnnotationKey (TAB_e1_NEIGHBOR_PHRASE_WORDS_[; padding]),\n",
      "  -0.002954038996790862),\n",
      " (AnnotationKey (TAB_e1_NEIGHBOR_PHRASE_WORDS_[padding]),\n",
      "  -0.002954038996790862),\n",
      " (AnnotationKey (TAB_e1_RIGHT_WORDS_[bc550 -]), -0.0013172259005417965),\n",
      " (AnnotationKey (TDL_INV_DEP_LABEL:BETWEEN-MENTION-and-MENTION[ROOT]),\n",
      "  -2.645291544783775e-05)]\n"
     ]
    }
   ],
   "source": [
    "from hardware_utils import entity_to_candidates\n",
    "\n",
    "entity = FN_list[61]\n",
    "print entity\n",
    "print\n",
    "\n",
    "matches = entity_to_candidates(entity, fn)\n",
    "print \"# Matches: %d\" % len(matches)\n",
    "candidate = matches[0]\n",
    "print candidate\n",
    "\n",
    "print \"\\nPhrase:\"\n",
    "print candidate.voltage.parent\n",
    "\n",
    "print disc_model.get_candidate_score(candidate, F_dev)\n",
    "print\n",
    "pprint(disc_model.get_candidate_feature_weights(candidate, F_dev))"
   ]
  },
  {
   "cell_type": "code",
   "execution_count": null,
   "metadata": {
    "collapsed": true
   },
   "outputs": [],
   "source": [
    "\n",
    "import os\n",
    "os.system('cp snorkel.db snorkel.db\\ final');"
   ]
  },
  {
   "cell_type": "code",
   "execution_count": null,
   "metadata": {
    "collapsed": true
   },
   "outputs": [],
   "source": []
  },
  {
   "cell_type": "code",
   "execution_count": null,
   "metadata": {
    "collapsed": true
   },
   "outputs": [],
   "source": []
  },
  {
   "cell_type": "code",
   "execution_count": null,
   "metadata": {
    "collapsed": true
   },
   "outputs": [],
   "source": []
  }
 ],
 "metadata": {
  "anaconda-cloud": {},
  "kernelspec": {
   "display_name": "Python 2",
   "language": "python",
   "name": "python2"
  },
  "language_info": {
   "codemirror_mode": {
    "name": "ipython",
    "version": 2
   },
   "file_extension": ".py",
   "mimetype": "text/x-python",
   "name": "python",
   "nbconvert_exporter": "python",
   "pygments_lexer": "ipython2",
   "version": "2.7.12"
  }
 },
 "nbformat": 4,
 "nbformat_minor": 1
}
