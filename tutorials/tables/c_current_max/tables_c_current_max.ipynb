{
 "cells": [
  {
   "cell_type": "markdown",
   "metadata": {},
   "source": [
    "# C_CURRENT_MAX"
   ]
  },
  {
   "cell_type": "markdown",
   "metadata": {},
   "source": [
    "## Setup"
   ]
  },
  {
   "cell_type": "code",
   "execution_count": null,
   "metadata": {
    "collapsed": true
   },
   "outputs": [],
   "source": [
    "# If necessary:\n",
    "import os\n",
    "os.remove('snorkel.db')"
   ]
  },
  {
   "cell_type": "code",
   "execution_count": null,
   "metadata": {
    "collapsed": false
   },
   "outputs": [],
   "source": [
    "%load_ext autoreload\n",
    "%autoreload 2\n",
    "%matplotlib inline\n",
    "\n",
    "import sys\n",
    "sys.path.append(os.environ['SNORKELHOME'] + '/tutorials/tables/')"
   ]
  },
  {
   "cell_type": "markdown",
   "metadata": {},
   "source": [
    "## Parsing"
   ]
  },
  {
   "cell_type": "code",
   "execution_count": null,
   "metadata": {
    "collapsed": true
   },
   "outputs": [],
   "source": [
    "from snorkel import SnorkelSession\n",
    "session = SnorkelSession()"
   ]
  },
  {
   "cell_type": "markdown",
   "metadata": {},
   "source": [
    "### Define Parser"
   ]
  },
  {
   "cell_type": "code",
   "execution_count": null,
   "metadata": {
    "collapsed": true
   },
   "outputs": [],
   "source": [
    "import os\n",
    "from snorkel.parser import CorpusParser, HTMLParser, OmniParser\n",
    "from snorkel.utils import get_ORM_instance\n",
    "from snorkel.queries import split_corpus\n",
    "\n",
    "docs_path = os.environ['SNORKELHOME'] + '/tutorials/tables/data/hardware/hardware100_html/'\n",
    "doc_parser = HTMLParser(path=docs_path)\n",
    "context_parser = OmniParser()\n",
    "cp = CorpusParser(doc_parser, context_parser, max_docs=100) "
   ]
  },
  {
   "cell_type": "markdown",
   "metadata": {},
   "source": [
    "### Run Parser"
   ]
  },
  {
   "cell_type": "code",
   "execution_count": null,
   "metadata": {
    "collapsed": false,
    "scrolled": true
   },
   "outputs": [],
   "source": [
    "%time corpus = cp.parse_corpus(name='Hardware', session=session)\n",
    "\n",
    "session.add(corpus)\n",
    "session.commit()"
   ]
  },
  {
   "cell_type": "markdown",
   "metadata": {},
   "source": [
    "### Split Corpus"
   ]
  },
  {
   "cell_type": "code",
   "execution_count": null,
   "metadata": {
    "collapsed": false
   },
   "outputs": [],
   "source": [
    "from snorkel.models import Corpus\n",
    "\n",
    "corpus = get_ORM_instance(Corpus, session, 'Hardware')\n",
    "split_corpus(session, corpus, train=0.8, development=0.2, test=0, seed=4)"
   ]
  },
  {
   "cell_type": "code",
   "execution_count": null,
   "metadata": {
    "collapsed": true
   },
   "outputs": [],
   "source": [
    "# If necessary\n",
    "import os\n",
    "os.system('cp snorkel.db snorkel.db\\ corpus');"
   ]
  },
  {
   "cell_type": "markdown",
   "metadata": {},
   "source": [
    "## Extraction"
   ]
  },
  {
   "cell_type": "code",
   "execution_count": null,
   "metadata": {
    "collapsed": false
   },
   "outputs": [],
   "source": [
    "# If necessary:\n",
    "import os\n",
    "os.remove('snorkel.db');\n",
    "os.system('cp snorkel.db\\ corpus snorkel.db');\n",
    "\n",
    "%load_ext autoreload\n",
    "%autoreload 2\n",
    "%matplotlib inline\n",
    "\n",
    "import sys\n",
    "sys.path.append(os.environ['SNORKELHOME'] + '/tutorials/tables/')\n",
    "\n",
    "from snorkel import SnorkelSession\n",
    "session = SnorkelSession()"
   ]
  },
  {
   "cell_type": "code",
   "execution_count": null,
   "metadata": {
    "collapsed": true
   },
   "outputs": [],
   "source": [
    "from snorkel.models import candidate_subclass\n",
    "\n",
    "Part_Current = candidate_subclass('Part_Current', ['part','current'])"
   ]
  },
  {
   "cell_type": "markdown",
   "metadata": {},
   "source": [
    "### Define Matchers"
   ]
  },
  {
   "cell_type": "code",
   "execution_count": null,
   "metadata": {
    "collapsed": true
   },
   "outputs": [],
   "source": [
    "from snorkel.matchers import RegexMatchSpan, Union\n",
    "\n",
    "eeca_matcher = RegexMatchSpan(rgx='([b]{1}[abcdefklnpqruyz]{1}[\\swxyz]?[0-9]{3,5}[\\s]?[A-Z\\/]{0,5}[0-9]?[A-Z]?([-][A-Z0-9]{1,7})?([-][A-Z0-9]{1,2})?)')\n",
    "jedec_matcher = RegexMatchSpan(rgx='([123]N\\d{3,4}[A-Z]{0,5}[0-9]?[A-Z]?)')\n",
    "jis_matcher = RegexMatchSpan(rgx='(2S[abcdefghjkmqrstvz]{1}[\\d]{2,4})')\n",
    "others_matcher = RegexMatchSpan(rgx='((NSVBC|SMBT|MJ|MJE|MPS|MRF|RCA|TIP|ZTX|ZT|TIS|TIPL|DTC|MMBT|PZT){1}[\\d]{2,4}[A-Z]{0,3}([-][A-Z0-9]{0,6})?([-][A-Z0-9]{0,1})?)')\n",
    "parts_matcher = Union(eeca_matcher, jedec_matcher, jis_matcher, others_matcher)\n",
    "\n",
    "#TODO: This is missing values represented as AMPs rather than milliamps\n",
    "current_matcher = RegexMatchSpan(rgx=r'\\-?([2-9]|1[0-2]?)00', longest_match_only=False)"
   ]
  },
  {
   "cell_type": "markdown",
   "metadata": {},
   "source": [
    "### Define ContextSpaces"
   ]
  },
  {
   "cell_type": "code",
   "execution_count": null,
   "metadata": {
    "collapsed": false
   },
   "outputs": [],
   "source": [
    "import os\n",
    "from collections import defaultdict\n",
    "from hardware_utils import OmniNgramsPart, OmniNgramsTemp, get_gold_dict\n",
    "\n",
    "# Make parts list\n",
    "gold_file = os.environ['SNORKELHOME'] + '/tutorials/tables/data/hardware/hardware_gold.csv'\n",
    "gold_parts = get_gold_dict(gold_file, doc_on=True, part_on=True, val_on=False)\n",
    "parts_by_doc = defaultdict(set)\n",
    "for part in gold_parts:\n",
    "    parts_by_doc[part[0]].add(part[1])\n",
    "    \n",
    "part_ngrams = OmniNgramsPart(parts_by_doc=parts_by_doc, n_max=3)\n",
    "\n",
    "# TODO: This is missing the current represented as an Amp rather than a milliamp\n",
    "current_ngrams = OmniNgramsTemp(n_max=3)"
   ]
  },
  {
   "cell_type": "markdown",
   "metadata": {},
   "source": [
    "### Run CandidateExtractor"
   ]
  },
  {
   "cell_type": "code",
   "execution_count": null,
   "metadata": {
    "collapsed": false
   },
   "outputs": [],
   "source": [
    "from snorkel.models import Corpus\n",
    "from snorkel.candidates import CandidateExtractor\n",
    "from snorkel.utils import get_ORM_instance\n",
    "from hardware_utils import PartCurrentThrottler\n",
    "\n",
    "part_throttler = PartCurrentThrottler()\n",
    "\n",
    "ce = CandidateExtractor(Part_Current, \n",
    "                        [part_ngrams, current_ngrams], \n",
    "                        [parts_matcher, current_matcher],\n",
    "                        part_throttler)\n",
    "\n",
    "for corpus_name in ['Hardware Training', 'Hardware Development']:\n",
    "    corpus = get_ORM_instance(Corpus, session, corpus_name)\n",
    "    print \"Extracting Candidates from %s\" % corpus\n",
    "    %time candidates = ce.extract(\\\n",
    "        corpus.documents, corpus_name + ' Candidates', session)\n",
    "    session.add(candidates)\n",
    "    print \"%s contains %d Candidates\" % (candidates, len(candidates))\n",
    "session.commit()"
   ]
  },
  {
   "cell_type": "markdown",
   "metadata": {},
   "source": [
    "### Assess Recall"
   ]
  },
  {
   "cell_type": "code",
   "execution_count": null,
   "metadata": {
    "collapsed": false
   },
   "outputs": [],
   "source": [
    "from snorkel.models import CandidateSet\n",
    "from hardware_utils import entity_level_total_recall, most_common_document, get_gold_dict\n",
    "from snorkel.models import Candidate\n",
    "\n",
    "all_candidates = session.query(Candidate).all()\n",
    "gold_file = os.environ['SNORKELHOME'] + '/tutorials/tables/data/hardware/hardware_gold.csv'\n",
    "\n",
    "# gold_dict = get_gold_dict(gold_file, attrib='c_current_max')\n",
    "\n",
    "(tp, fp, fn) = entity_level_total_recall(\n",
    "    all_candidates, gold_file, 'c_current_max', relation=True)\n",
    "print len(tp)\n",
    "print len(fp)\n",
    "print len(fn)"
   ]
  },
  {
   "cell_type": "code",
   "execution_count": null,
   "metadata": {
    "collapsed": false
   },
   "outputs": [],
   "source": [
    "from pprint import pprint\n",
    "fns = list(fn)\n",
    "pprint(sorted(fns))"
   ]
  },
  {
   "cell_type": "code",
   "execution_count": null,
   "metadata": {
    "collapsed": true
   },
   "outputs": [],
   "source": []
  },
  {
   "cell_type": "code",
   "execution_count": null,
   "metadata": {
    "collapsed": true
   },
   "outputs": [],
   "source": [
    "# If necessary\n",
    "import os\n",
    "os.system('cp snorkel.db snorkel.db\\ candidates');"
   ]
  },
  {
   "cell_type": "markdown",
   "metadata": {},
   "source": [
    "## Gold Labels"
   ]
  },
  {
   "cell_type": "code",
   "execution_count": null,
   "metadata": {
    "collapsed": true
   },
   "outputs": [],
   "source": [
    "# If necessary\n",
    "import os\n",
    "os.remove('snorkel.db');\n",
    "os.system('cp snorkel.db\\ candidates snorkel.db');\n",
    "\n",
    "%load_ext autoreload\n",
    "%autoreload 2\n",
    "%matplotlib inline\n",
    "\n",
    "import sys\n",
    "sys.path.append(os.environ['SNORKELHOME'] + '/tutorials/tables/')\n",
    "\n",
    "from snorkel import SnorkelSession\n",
    "session = SnorkelSession()\n",
    "\n",
    "from snorkel.models import candidate_subclass\n",
    "Part_Current = candidate_subclass('Part_Current', ['part','current'])"
   ]
  },
  {
   "cell_type": "code",
   "execution_count": null,
   "metadata": {
    "collapsed": false
   },
   "outputs": [],
   "source": [
    "import os\n",
    "from snorkel.models import CandidateSet\n",
    "from hardware_utils import load_hardware_labels\n",
    "\n",
    "gold_file = os.environ['SNORKELHOME'] + '/tutorials/tables/data/hardware/hardware_gold.csv'\n",
    "for set_name in ['Training', 'Development']:\n",
    "    candidate_set_name = 'Hardware %s Candidates' % set_name\n",
    "    candidates = session.query(CandidateSet).filter(\n",
    "        CandidateSet.name == candidate_set_name).one()\n",
    "    label_set_name = 'Hardware %s Candidates -- Gold' % set_name\n",
    "    annotation_key_name = 'Hardware %s Labels -- Gold' % set_name\n",
    "    %time gold_candidates, annotation_key = load_hardware_labels(session,\\\n",
    "                           label_set_name, \\\n",
    "                           annotation_key_name, \\\n",
    "                           candidates, \\\n",
    "                           gold_file, \\\n",
    "                           attrib='c_current_max')\n",
    "    candidates_gold = session.query(CandidateSet).filter(\n",
    "        CandidateSet.name == candidate_set_name + ' -- Gold').one()\n",
    "    print \"%d/%d Candidates in %s have positive Labels\" % (\n",
    "        len(candidates_gold), len(candidates), candidates)"
   ]
  },
  {
   "cell_type": "code",
   "execution_count": null,
   "metadata": {
    "collapsed": true
   },
   "outputs": [],
   "source": [
    "# If necessary\n",
    "import os\n",
    "os.system('cp snorkel.db snorkel.db\\ labels');"
   ]
  },
  {
   "cell_type": "markdown",
   "metadata": {},
   "source": [
    "## Features"
   ]
  },
  {
   "cell_type": "code",
   "execution_count": null,
   "metadata": {
    "collapsed": true
   },
   "outputs": [],
   "source": [
    "# If necessary:\n",
    "import os\n",
    "os.remove('snorkel.db');\n",
    "os.system('cp snorkel.db\\ labels snorkel.db');\n",
    "\n",
    "%load_ext autoreload\n",
    "%autoreload 2\n",
    "%matplotlib inline\n",
    "\n",
    "import sys\n",
    "sys.path.append(os.environ['SNORKELHOME'] + '/tutorials/tables/')\n",
    "\n",
    "from snorkel import SnorkelSession\n",
    "session = SnorkelSession()\n",
    "\n",
    "from snorkel.models import candidate_subclass\n",
    "Part_Current = candidate_subclass('Part_Current', ['part','current'])"
   ]
  },
  {
   "cell_type": "markdown",
   "metadata": {},
   "source": [
    "### Extract Features"
   ]
  },
  {
   "cell_type": "code",
   "execution_count": null,
   "metadata": {
    "collapsed": false
   },
   "outputs": [],
   "source": [
    "from snorkel.models import CandidateSet\n",
    "from snorkel.annotations import FeatureManager\n",
    "from snorkel.utils import get_ORM_instance\n",
    "\n",
    "train = get_ORM_instance(CandidateSet, session, 'Hardware Training Candidates')\n",
    "dev   = get_ORM_instance(CandidateSet, session, 'Hardware Development Candidates')\n",
    "\n",
    "feature_manager = FeatureManager()\n",
    "%time F_train = feature_manager.create(session, train, 'Train Features')\n",
    "%time F_dev = feature_manager.update(session, dev, 'Train Features', expand_key_set=False)"
   ]
  },
  {
   "cell_type": "code",
   "execution_count": null,
   "metadata": {
    "collapsed": true
   },
   "outputs": [],
   "source": [
    "# If necessary:\n",
    "import os\n",
    "os.system('cp snorkel.db snorkel.db\\ featurized');"
   ]
  },
  {
   "cell_type": "markdown",
   "metadata": {},
   "source": [
    "## LFs"
   ]
  },
  {
   "cell_type": "code",
   "execution_count": null,
   "metadata": {
    "collapsed": true
   },
   "outputs": [],
   "source": [
    "# If necessary\n",
    "import os\n",
    "os.remove('snorkel.db');\n",
    "os.system('cp snorkel.db\\ featurized snorkel.db');\n",
    "\n",
    "%load_ext autoreload\n",
    "%autoreload 2\n",
    "%matplotlib inline\n",
    "\n",
    "import sys\n",
    "sys.path.append(os.environ['SNORKELHOME'] + '/tutorials/tables/')\n",
    "\n",
    "from snorkel import SnorkelSession\n",
    "session = SnorkelSession()\n",
    "\n",
    "from snorkel.models import candidate_subclass\n",
    "Part_Current = candidate_subclass('Part_Current', ['part','current'])\n",
    "\n",
    "from snorkel.models import CandidateSet\n",
    "train = session.query(CandidateSet).filter(\n",
    "    CandidateSet.name == 'Hardware Training Candidates').one()"
   ]
  },
  {
   "cell_type": "markdown",
   "metadata": {},
   "source": [
    "### Define LFs"
   ]
  },
  {
   "cell_type": "code",
   "execution_count": null,
   "metadata": {
    "collapsed": false
   },
   "outputs": [],
   "source": [
    "from snorkel.annotations import LabelManager\n",
    "from snorkel.lf_helpers import *\n",
    "label_manager = LabelManager()\n",
    "\n",
    "LFs = []\n",
    "\n",
    "# POSITIVE\n",
    "\n",
    "# def LF_head_is_IC(c):\n",
    "#     head_ngrams = set(get_head_ngrams(c.current, axis='row'))\n",
    "#     return 1 if ('ic' in head_ngrams) else 0\n",
    "# LFs.append(LF_head_is_IC)\n",
    "\n",
    "# def LF_current_inside_table(c):\n",
    "#     return 1 if c.current.parent.row is not None else 0\n",
    "# LFs.append(LF_current_inside_table)\n",
    "\n",
    "def LF_continuous_left(c):\n",
    "    left_ngrams = set(get_left_ngrams(c.current, window=7))\n",
    "    return 1 if ('continuous' in left_ngrams or\n",
    "                 'dc' in left_ngrams) else 0\n",
    "LFs.append(LF_continuous_left)\n",
    "\n",
    "# def LF_current_row(c):\n",
    "#     return 1 if 'current' in get_row_ngrams(c.current) else 0\n",
    "# LFs.append(LF_current_row)\n",
    "\n",
    "# def LF_collector_row(c):\n",
    "#     return 1 if 'collector' in get_row_ngrams(c.current) else 0\n",
    "# LFs.append(LF_collector_row)\n",
    "\n",
    "# def LF_all_one(c):\n",
    "#     return 1\n",
    "# LFs.append(LF_all_one)\n",
    "    \n",
    "# def LF_current_unit_row(c):\n",
    "#     row_ngrams = set(get_row_ngrams(c.current))\n",
    "#     return 1 if (\n",
    "#         'ma'                in row_ngrams and\n",
    "#         'collector'         in row_ngrams) else 0\n",
    "# LFs.append(LF_current_unit_row)\n",
    "\n",
    "\n",
    "# NEGATIVE\n",
    "\n",
    "def LF_not_cc_relevant(c):\n",
    "    ngrams = get_aligned_ngrams(c.current)\n",
    "    return -1 if not ('collector' in ngrams or\n",
    "                      'current' in ngrams) else 0\n",
    "LFs.append(LF_not_cc_relevant)\n",
    "\n",
    "def LF_too_many_numbers_row(c):\n",
    "    num_numbers = list(get_row_ngrams(c.current, attrib=\"ner_tags\")).count('number')\n",
    "    return -1 if num_numbers >= 2 else 0\n",
    "LFs.append(LF_too_many_numbers_row)\n",
    "\n",
    "# def LF_thermal_row(c):\n",
    "#     return -1 if 'thermal' in get_row_ngrams(c.current) else 0\n",
    "# LFs.append(LF_collector_row)\n",
    "\n",
    "# def LF_junction_row(c):\n",
    "#     return -1 if 'junction' in get_row_ngrams(c.current) else 0\n",
    "# LFs.append(LF_junction_row)\n",
    "\n",
    "# def LF_resistance_row(c):\n",
    "#     return -1 if 'resistance' in get_row_ngrams(c.current) else 0\n",
    "# LFs.append(LF_resistance_row)\n",
    "\n",
    "# def LF_small_signal_row(c):\n",
    "#     return -1 if 'small-signal' in get_row_ngrams(c.current) else 0\n",
    "# LFs.append(LF_small_signal_row)\n",
    "\n",
    "# def LF_ambient_row(c):\n",
    "#     return -1 if 'ambient' in get_row_ngrams(c.current) else 0\n",
    "# LFs.append(LF_ambient_row)\n",
    "\n",
    "def LF_part_is_aligned(c):\n",
    "    return -1 if (c.part.parent.row == c.current.parent.row or\n",
    "                  c.part.parent.col == c.current.parent.col) else 0\n",
    "LFs.append(LF_part_is_aligned)\n",
    "\n",
    "def LF_negative_keywords_in_row(c):\n",
    "    ngrams = set(get_row_ngrams(c.current))\n",
    "    return -1 if (\n",
    "        'ambient'       in ngrams or\n",
    "        'small-signal'  in ngrams or\n",
    "        'resistance'    in ngrams or\n",
    "        'power'         in ngrams or\n",
    "        'junction'      in ngrams or\n",
    "        'dissipation'   in ngrams or\n",
    "        'voltage'       in ngrams or\n",
    "        'cbo'           in ngrams or\n",
    "        'ceo'           in ngrams or\n",
    "        'ce'            in ngrams or\n",
    "        'peak'          in ngrams or\n",
    "        'base'          in ngrams or\n",
    "        'mw'            in ngrams or\n",
    "        'kollektor-spitzenstrom' in ngrams or\n",
    "        'ebo'           in ngrams or\n",
    "        'v'             in ngrams or\n",
    "        'cm'            in ngrams or\n",
    "        'bm'            in ngrams or\n",
    "        'p'             in ngrams or\n",
    "        'thermal'       in ngrams) else 1\n",
    "LFs.append(LF_negative_keywords_in_row)\n",
    "\n",
    "def LF_peak_extra(c):\n",
    "    ngrams = set(get_row_ngrams(c.current))\n",
    "    return -1 if 'peak' in ngrams else 0\n",
    "LFs.append(LF_peak_extra)\n",
    "    \n",
    "\n",
    "def LF_negative_keywords_in_part_aligned(c):\n",
    "    ngrams = set(get_aligned_ngrams(c.part))\n",
    "    return -1 if (\n",
    "        'gain'          in ngrams or\n",
    "        'small-signal'  in ngrams or\n",
    "        'small'         in ngrams or\n",
    "        'cbo'         in ngrams or\n",
    "        'collector-emitter' in ngrams or\n",
    "        'value'         in ngrams or\n",
    "        'thermal'       in ngrams) else 0\n",
    "LFs.append(LF_negative_keywords_in_part_aligned)\n",
    "\n",
    "def LF_negative_keywords(c):\n",
    "    ngrams = set(get_aligned_ngrams(c.current))\n",
    "    return -1 if (\n",
    "        'collector-base'    in ngrams or\n",
    "        'cut-off'           in ngrams or\n",
    "        '='                 in ngrams or\n",
    "        'gain'              in ngrams or\n",
    "        'h fe'              in ngrams or\n",
    "        'typ.'              in ngrams or\n",
    "        'typ'               in ngrams or\n",
    "        'min'               in ngrams or\n",
    "        'min.'              in ngrams or\n",
    "        'mv'                in ngrams or\n",
    "        'saturation'        in ngrams or\n",
    "        'mhz'               in ngrams or\n",
    "        'gain'              in ngrams or\n",
    "        'obo'              in ngrams or\n",
    "        'c obo'              in ngrams or\n",
    "        'collector-emitter' in ngrams) else 1\n",
    "LFs.append(LF_negative_keywords)\n",
    "\n",
    "# def LF_voltage_row_current(c):\n",
    "#     ngrams = set(get_row_ngrams(c.current))\n",
    "#     return -1 if (\n",
    "#         'voltage' in ngrams or\n",
    "#         'cbo'     in ngrams or\n",
    "#         'ceo'     in ngrams or\n",
    "#         'ce'      in ngrams or\n",
    "#         'ebo'     in ngrams or\n",
    "#         'v'       in ngrams) else 0\n",
    "# LFs.append(LF_voltage_row_current)\n",
    "\n",
    "# def LF_voltage_row_part(c):\n",
    "#     ngrams = set(get_row_ngrams(c.part))\n",
    "#     return -1 if (\n",
    "#         'voltage' in ngrams or\n",
    "#         'cbo'     in ngrams or\n",
    "#         'ceo'     in ngrams or\n",
    "#         'ebo'     in ngrams or\n",
    "#         'v'       in ngrams) else 0\n",
    "# LFs.append(LF_voltage_row_part)\n",
    "\n",
    "# def LF_test_condition_row(c):\n",
    "#     ngrams = set(get_row_ngrams(c.current))\n",
    "#     return -1 if ('test'      in ngrams and\n",
    "#                   'condition' in ngrams) else 0\n",
    "# LFs.append(LF_test_condition_row)\n"
   ]
  },
  {
   "cell_type": "markdown",
   "metadata": {},
   "source": [
    "### Apply LFs"
   ]
  },
  {
   "cell_type": "code",
   "execution_count": null,
   "metadata": {
    "collapsed": false
   },
   "outputs": [],
   "source": [
    "%time L_train = label_manager.create(session, train, 'LF Labels', f=LFs)\n",
    "L_train"
   ]
  },
  {
   "cell_type": "markdown",
   "metadata": {},
   "source": [
    "### Assess LF accuracy"
   ]
  },
  {
   "cell_type": "code",
   "execution_count": null,
   "metadata": {
    "collapsed": false
   },
   "outputs": [],
   "source": [
    "train_gold = session.query(CandidateSet).filter(\n",
    "    CandidateSet.name == 'Hardware Training Candidates -- Gold').one()\n",
    "%time L_train.lf_stats(train_gold)"
   ]
  },
  {
   "cell_type": "code",
   "execution_count": null,
   "metadata": {
    "collapsed": true
   },
   "outputs": [],
   "source": [
    "# If necessary\n",
    "import os\n",
    "os.system('cp snorkel.db snorkel.db\\ features');"
   ]
  },
  {
   "cell_type": "markdown",
   "metadata": {},
   "source": [
    "## Learn and Evaluate"
   ]
  },
  {
   "cell_type": "code",
   "execution_count": 1,
   "metadata": {
    "collapsed": false
   },
   "outputs": [],
   "source": [
    "# If necessary:\n",
    "import os\n",
    "os.remove('snorkel.db');\n",
    "os.system('cp snorkel.db\\ features snorkel.db');\n",
    "\n",
    "%load_ext autoreload\n",
    "%autoreload 2\n",
    "%matplotlib inline\n",
    "\n",
    "import sys\n",
    "sys.path.append(os.environ['SNORKELHOME'] + '/tutorials/tables/')\n",
    "\n",
    "from snorkel import SnorkelSession\n",
    "session = SnorkelSession()\n",
    "\n",
    "from snorkel.models import candidate_subclass\n",
    "Part_Current = candidate_subclass('Part_Current', ['part','current'])\n",
    "\n",
    "from snorkel.models import CandidateSet\n",
    "train = session.query(CandidateSet).filter(\n",
    "    CandidateSet.name == 'Hardware Training Candidates').one()\n",
    "dev = session.query(CandidateSet).filter(\n",
    "    CandidateSet.name == 'Hardware Development Candidates').one()"
   ]
  },
  {
   "cell_type": "code",
   "execution_count": 2,
   "metadata": {
    "collapsed": false
   },
   "outputs": [
    {
     "name": "stdout",
     "output_type": "stream",
     "text": [
      "CPU times: user 3min 44s, sys: 6.05 s, total: 3min 50s\n",
      "Wall time: 3min 49s\n",
      "CPU times: user 2min 33s, sys: 4.04 s, total: 2min 37s\n",
      "Wall time: 2min 36s\n",
      "CPU times: user 2.22 s, sys: 60 ms, total: 2.28 s\n",
      "Wall time: 2.26 s\n"
     ]
    }
   ],
   "source": [
    "from snorkel.annotations import FeatureManager, LabelManager\n",
    "feature_manager = FeatureManager()\n",
    "%time F_train = feature_manager.load(session, train, 'Train Features')\n",
    "%time F_dev = feature_manager.load(session, dev, 'Train Features')\n",
    "\n",
    "label_manager = LabelManager()\n",
    "%time L_train = label_manager.load(session, train, 'LF Labels')"
   ]
  },
  {
   "cell_type": "code",
   "execution_count": 3,
   "metadata": {
    "collapsed": false
   },
   "outputs": [
    {
     "name": "stderr",
     "output_type": "stream",
     "text": [
      "/home/lwhsiao/repos/snorkel/.virtualenv/local/lib/python2.7/site-packages/matplotlib/__init__.py:1357: UserWarning:  This call to matplotlib.use() has no effect\n",
      "because the backend has already been chosen;\n",
      "matplotlib.use() must be called *before* pylab, matplotlib.pyplot,\n",
      "or matplotlib.backends is imported for the first time.\n",
      "\n",
      "  warnings.warn(_use_error_msg)\n"
     ]
    },
    {
     "name": "stdout",
     "output_type": "stream",
     "text": [
      "================================================================================\n",
      "Training marginals (!= 0.5):\t68987\n",
      "Features:\t\t\t8\n",
      "================================================================================\n",
      "Begin training for rate=0.01, mu=1e-06\n",
      "\tLearning epoch = 0\tGradient mag. = 0.566340\n",
      "\tLearning epoch = 250\tGradient mag. = 0.590654\n",
      "\tLearning epoch = 500\tGradient mag. = 0.562532\n",
      "\tLearning epoch = 750\tGradient mag. = 0.554799\n",
      "\tLearning epoch = 1000\tGradient mag. = 0.556275\n",
      "\tLearning epoch = 1250\tGradient mag. = 0.553892\n",
      "\tLearning epoch = 1500\tGradient mag. = 0.388712\n",
      "\tLearning epoch = 1750\tGradient mag. = 0.284750\n",
      "\tLearning epoch = 2000\tGradient mag. = 0.221543\n",
      "\tLearning epoch = 2250\tGradient mag. = 0.184681\n",
      "\tLearning epoch = 2500\tGradient mag. = 0.163926\n",
      "\tLearning epoch = 2750\tGradient mag. = 0.152422\n",
      "\tLearning epoch = 3000\tGradient mag. = 0.146007\n",
      "\tLearning epoch = 3250\tGradient mag. = 0.142368\n",
      "\tLearning epoch = 3500\tGradient mag. = 0.140274\n",
      "\tLearning epoch = 3750\tGradient mag. = 0.139077\n",
      "\tLearning epoch = 4000\tGradient mag. = 0.138425\n",
      "\tLearning epoch = 4250\tGradient mag. = 0.138120\n",
      "\tLearning epoch = 4500\tGradient mag. = 0.138043\n",
      "\tLearning epoch = 4750\tGradient mag. = 0.138119\n",
      "\tLearning epoch = 5000\tGradient mag. = 0.138296\n",
      "\tLearning epoch = 5250\tGradient mag. = 0.138542\n",
      "\tLearning epoch = 5500\tGradient mag. = 0.112576\n",
      "\tLearning epoch = 5750\tGradient mag. = 0.083755\n",
      "\tLearning epoch = 6000\tGradient mag. = 0.063985\n",
      "\tLearning epoch = 6250\tGradient mag. = 0.050696\n",
      "\tLearning epoch = 6500\tGradient mag. = 0.041963\n",
      "\tLearning epoch = 6750\tGradient mag. = 0.036322\n",
      "\tLearning epoch = 7000\tGradient mag. = 0.032683\n",
      "\tLearning epoch = 7250\tGradient mag. = 0.030283\n",
      "\tLearning epoch = 7500\tGradient mag. = 0.028626\n",
      "\tLearning epoch = 7750\tGradient mag. = 0.027410\n",
      "\tLearning epoch = 8000\tGradient mag. = 0.026460\n",
      "\tLearning epoch = 8250\tGradient mag. = 0.025677\n",
      "\tLearning epoch = 8500\tGradient mag. = 0.025005\n",
      "\tLearning epoch = 8750\tGradient mag. = 0.024412\n",
      "\tLearning epoch = 9000\tGradient mag. = 0.023878\n",
      "\tLearning epoch = 9250\tGradient mag. = 0.023392\n",
      "\tLearning epoch = 9500\tGradient mag. = 0.022947\n",
      "\tLearning epoch = 9750\tGradient mag. = 0.022538\n",
      "\tLearning epoch = 10000\tGradient mag. = 0.022160\n",
      "\tLearning epoch = 10250\tGradient mag. = 0.021811\n",
      "\tLearning epoch = 10500\tGradient mag. = 0.021488\n",
      "\tLearning epoch = 10750\tGradient mag. = 0.021190\n",
      "\tLearning epoch = 11000\tGradient mag. = 0.020913\n",
      "\tLearning epoch = 11250\tGradient mag. = 0.020658\n",
      "\tLearning epoch = 11500\tGradient mag. = 0.020421\n",
      "\tLearning epoch = 11750\tGradient mag. = 0.020203\n",
      "\tLearning epoch = 12000\tGradient mag. = 0.020002\n",
      "\tLearning epoch = 12250\tGradient mag. = 0.019816\n",
      "\tLearning epoch = 12500\tGradient mag. = 0.019646\n",
      "\tLearning epoch = 12750\tGradient mag. = 0.019490\n",
      "\tLearning epoch = 13000\tGradient mag. = 0.019347\n",
      "\tLearning epoch = 13250\tGradient mag. = 0.019217\n",
      "\tLearning epoch = 13500\tGradient mag. = 0.019099\n",
      "\tLearning epoch = 13750\tGradient mag. = 0.018992\n",
      "\tLearning epoch = 14000\tGradient mag. = 0.018897\n",
      "\tLearning epoch = 14250\tGradient mag. = 0.018812\n",
      "\tLearning epoch = 14500\tGradient mag. = 0.018737\n",
      "\tLearning epoch = 14750\tGradient mag. = 0.018672\n",
      "Final gradient magnitude for rate=0.01, mu=1e-06: 0.019\n",
      "CPU times: user 136 ms, sys: 0 ns, total: 136 ms\n",
      "Wall time: 144 ms\n"
     ]
    }
   ],
   "source": [
    "from snorkel.learning import NaiveBayes\n",
    "\n",
    "gen_model = NaiveBayes()\n",
    "gen_model.train(L_train, n_iter=15000, rate=1e-2)\n",
    "%time gen_model.save(session, 'Generative Params')\n",
    "train_marginals = gen_model.marginals(L_train)"
   ]
  },
  {
   "cell_type": "code",
   "execution_count": 4,
   "metadata": {
    "collapsed": false
   },
   "outputs": [
    {
     "name": "stdout",
     "output_type": "stream",
     "text": [
      "================================================================================\n",
      "Training marginals (!= 0.5):\t68987\n",
      "Features:\t\t\t22013\n",
      "================================================================================\n",
      "Using gradient descent...\n",
      "\tLearning epoch = 0\tStep size = 0.0001\n",
      "\tLoss = 47818.144545\tGradient magnitude = 251158.122544\n",
      "\tLearning epoch = 100\tStep size = 9.04792147114e-05\n",
      "\tLoss = 3879.352062\tGradient magnitude = 590.989437\n",
      "\tLearning epoch = 200\tStep size = 8.18648829479e-05\n",
      "\tLoss = 3144.723953\tGradient magnitude = 424.297876\n",
      "\tLearning epoch = 300\tStep size = 7.40707032156e-05\n",
      "\tLoss = 2616.190281\tGradient magnitude = 177.035907\n",
      "\tLearning epoch = 400\tStep size = 6.70185906007e-05\n",
      "\tLoss = 2449.703715\tGradient magnitude = 110.388704\n",
      "\tLearning epoch = 500\tStep size = 6.06378944861e-05\n",
      "\tLoss = 2419.506851\tGradient magnitude = 62.875864\n",
      "\tLearning epoch = 600\tStep size = 5.48646907485e-05\n",
      "\tLoss = 2405.536083\tGradient magnitude = 52.551371\n",
      "\tLearning epoch = 700\tStep size = 4.96411413431e-05\n",
      "\tLoss = 2397.084622\tGradient magnitude = 46.922090\n",
      "\tLearning epoch = 800\tStep size = 4.4914914861e-05\n",
      "\tLoss = 2391.341179\tGradient magnitude = 43.564720\n",
      "\tLearning epoch = 900\tStep size = 4.06386622545e-05\n",
      "\tLoss = 2387.113561\tGradient magnitude = 41.449697\n",
      "\tLearning epoch = 1000\tStep size = 3.67695424771e-05\n",
      "\tLoss = 2383.827120\tGradient magnitude = 40.025594\n",
      "\tLearning epoch = 1100\tStep size = 3.32687932862e-05\n",
      "\tLoss = 2381.179063\tGradient magnitude = 39.001861\n",
      "\tLearning epoch = 1200\tStep size = 3.01013429093e-05\n",
      "\tLoss = 2378.993950\tGradient magnitude = 38.227922\n",
      "\tLearning epoch = 1300\tStep size = 2.72354586819e-05\n",
      "\tLoss = 2377.160667\tGradient magnitude = 37.621179\n",
      "\tLearning epoch = 1400\tStep size = 2.46424291385e-05\n",
      "\tLoss = 2375.604642\tGradient magnitude = 37.133519\n",
      "\tLearning epoch = 1500\tStep size = 2.22962763703e-05\n",
      "\tLoss = 2374.272573\tGradient magnitude = 36.734627\n",
      "\tLearning epoch = 1600\tStep size = 2.01734957697e-05\n",
      "\tLoss = 2373.123768\tGradient magnitude = 36.404047\n",
      "\tLearning epoch = 1700\tStep size = 1.82528205523e-05\n",
      "\tLoss = 2372.126256\tGradient magnitude = 36.127349\n",
      "\tLearning epoch = 1800\tStep size = 1.65150086984e-05\n",
      "\tLoss = 2371.256697\tGradient magnitude = 35.894214\n",
      "\tLearning epoch = 1900\tStep size = 1.49426501798e-05\n",
      "\tLoss = 2370.470388\tGradient magnitude = 35.697001\n",
      "CPU times: user 3.65 s, sys: 84 ms, total: 3.74 s\n",
      "Wall time: 3.74 s\n"
     ]
    }
   ],
   "source": [
    "from snorkel.learning import LogReg\n",
    "\n",
    "disc_model = LogReg()\n",
    "disc_model.train(F_train, train_marginals, n_iter=2000, rate=1e-4)\n",
    "%time disc_model.save(session, \"Discriminative Params\")"
   ]
  },
  {
   "cell_type": "code",
   "execution_count": 5,
   "metadata": {
    "collapsed": false
   },
   "outputs": [
    {
     "name": "stdout",
     "output_type": "stream",
     "text": [
      "Calibration plot:\n"
     ]
    },
    {
     "name": "stderr",
     "output_type": "stream",
     "text": [
      "/home/lwhsiao/repos/snorkel/.virtualenv/local/lib/python2.7/site-packages/numpy/core/_methods.py:59: RuntimeWarning: Mean of empty slice.\n",
      "  warnings.warn(\"Mean of empty slice.\", RuntimeWarning)\n"
     ]
    },
    {
     "data": {
      "image/png": "[encoded data removed]",
      "text/plain": [
       "<matplotlib.figure.Figure at 0x7faec3c6cb10>"
      ]
     },
     "metadata": {},
     "output_type": "display_data"
    },
    {
     "name": "stdout",
     "output_type": "stream",
     "text": [
      "========================================\n",
      "Recall-corrected Noise-aware Model\n",
      "========================================\n",
      "Pos. class accuracy: 0.347121432027\n",
      "Neg. class accuracy: 1.0\n",
      "Corpus Precision 1.0\n",
      "Corpus Recall    0.347\n",
      "Corpus F1        0.515\n",
      "----------------------------------------\n",
      "TP: 2870 | FP: 0 | TN: 13034 | FN: 5398\n",
      "========================================\n",
      "\n",
      "========================================\n",
      "Recall-corrected Noise-aware Model\n",
      "========================================\n",
      "Pos. class accuracy: 0.347121432027\n",
      "Neg. class accuracy: 1.0\n",
      "Corpus Precision 1.0\n",
      "Corpus Recall    0.347\n",
      "Corpus F1        0.515\n",
      "----------------------------------------\n",
      "TP: 2870 | FP: 0 | TN: 13034 | FN: 5398\n",
      "========================================\n",
      "\n"
     ]
    }
   ],
   "source": [
    "train_gold = session.query(CandidateSet).filter(\n",
    "    CandidateSet.name == 'Hardware Training Candidates -- Gold').one()\n",
    "\n",
    "dev_gold = session.query(CandidateSet).filter(\n",
    "    CandidateSet.name == 'Hardware Development Candidates -- Gold').one()\n",
    "\n",
    "from snorkel.models import CandidateSet\n",
    "from snorkel.annotations import LabelManager\n",
    "label_manager = LabelManager()\n",
    "L_dev = label_manager.load(session, dev, 'Hardware Development Labels -- Gold')\n",
    "\n",
    "tp, fp, tn, fn = disc_model.score(F_dev, L_dev, dev_gold)"
   ]
  },
  {
   "cell_type": "code",
   "execution_count": 6,
   "metadata": {
    "collapsed": false,
    "scrolled": true
   },
   "outputs": [
    {
     "name": "stdout",
     "output_type": "stream",
     "text": [
      "========================================\n",
      "Scoring on Entity-Level Gold Data\n",
      "========================================\n",
      "Corpus Precision 1.0\n",
      "Corpus Recall    0.85\n",
      "Corpus F1        0.919\n",
      "----------------------------------------\n",
      "TP: 170 | FP: 0 | FN: 30\n",
      "========================================\n",
      "\n"
     ]
    }
   ],
   "source": [
    "from snorkel.models import Corpus\n",
    "from hardware_utils import entity_level_f1\n",
    "import os\n",
    "\n",
    "gold_file = os.environ['SNORKELHOME'] + '/tutorials/tables/data/hardware/hardware_gold.csv'\n",
    "corpus = session.query(Corpus).filter(Corpus.name == 'Hardware Development').one()\n",
    "(TP, FP, FN) = entity_level_f1(tp, fp, tn, fn, gold_file, corpus, 'c_current_max')\n"
   ]
  },
  {
   "cell_type": "code",
   "execution_count": 7,
   "metadata": {
    "collapsed": false
   },
   "outputs": [
    {
     "name": "stdout",
     "output_type": "stream",
     "text": [
      "[]\n"
     ]
    }
   ],
   "source": [
    "from pprint import pprint\n",
    "FN_list = sorted(list(FN))\n",
    "FP_list = sorted(list(FP))\n",
    "TP_list = sorted(list(TP))\n",
    "pprint(FP_list[:60])"
   ]
  },
  {
   "cell_type": "code",
   "execution_count": null,
   "metadata": {
    "collapsed": false
   },
   "outputs": [],
   "source": [
    "from hardware_utils import entity_to_candidates\n",
    "\n",
    "entity = FP_list[18]\n",
    "print entity\n",
    "print\n",
    "\n",
    "matches = entity_to_candidates(entity, fp)\n",
    "print \"# Matches: %d\" % len(matches)\n",
    "candidate = matches[0]\n",
    "print candidate\n",
    "print\n",
    "\n",
    "print disc_model.get_candidate_score(candidate, F_dev)\n",
    "print\n",
    "pprint(disc_model.get_candidate_feature_weights(candidate, F_dev))"
   ]
  },
  {
   "cell_type": "code",
   "execution_count": 8,
   "metadata": {
    "collapsed": true
   },
   "outputs": [],
   "source": [
    "\n",
    "import os\n",
    "os.system('cp snorkel.db snorkel.db\\ final');"
   ]
  },
  {
   "cell_type": "code",
   "execution_count": null,
   "metadata": {
    "collapsed": true
   },
   "outputs": [],
   "source": []
  },
  {
   "cell_type": "code",
   "execution_count": null,
   "metadata": {
    "collapsed": true
   },
   "outputs": [],
   "source": []
  },
  {
   "cell_type": "code",
   "execution_count": null,
   "metadata": {
    "collapsed": true
   },
   "outputs": [],
   "source": []
  }
 ],
 "metadata": {
  "anaconda-cloud": {},
  "kernelspec": {
   "display_name": "Python 2",
   "language": "python",
   "name": "python2"
  },
  "language_info": {
   "codemirror_mode": {
    "name": "ipython",
    "version": 2
   },
   "file_extension": ".py",
   "mimetype": "text/x-python",
   "name": "python",
   "nbconvert_exporter": "python",
   "pygments_lexer": "ipython2",
   "version": "2.7.12"
  }
 },
 "nbformat": 4,
 "nbformat_minor": 1
}
