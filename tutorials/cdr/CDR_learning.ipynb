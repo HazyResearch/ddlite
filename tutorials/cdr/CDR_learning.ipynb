{
 "cells": [
  {
   "cell_type": "code",
   "execution_count": null,
   "metadata": {
    "collapsed": false
   },
   "outputs": [],
   "source": [
    "%load_ext autoreload\n",
    "%autoreload 2\n",
    "%matplotlib inline\n",
    "\n",
    "from snorkel import SnorkelSession\n",
    "\n",
    "session = SnorkelSession()"
   ]
  },
  {
   "cell_type": "code",
   "execution_count": null,
   "metadata": {
    "collapsed": false
   },
   "outputs": [],
   "source": [
    "from snorkel.models import candidate_subclass\n",
    "\n",
    "ChemicalDisease = candidate_subclass('ChemicalDisease', ['chemical', 'disease'])"
   ]
  },
  {
   "cell_type": "code",
   "execution_count": null,
   "metadata": {
    "collapsed": false
   },
   "outputs": [],
   "source": [
    "from snorkel.models import CandidateSet\n",
    "\n",
    "train = session.query(CandidateSet).filter(CandidateSet.name == 'CDR Train Candidates').one()\n",
    "dev = session.query(CandidateSet).filter(CandidateSet.name == 'CDR Development Candidates').one()\n",
    "test = session.query(CandidateSet).filter(CandidateSet.name == 'CDR Test Candidates').one()\n",
    "\n",
    "for c in [train, dev, test]:\n",
    "    print '{0} has {1} candidates'.format(c.name, len(c))"
   ]
  },
  {
   "cell_type": "markdown",
   "metadata": {},
   "source": [
    "# GET FEATS"
   ]
  },
  {
   "cell_type": "code",
   "execution_count": null,
   "metadata": {
    "collapsed": false
   },
   "outputs": [],
   "source": [
    "from snorkel.annotations import FeatureManager\n",
    "\n",
    "feature_manager = FeatureManager()"
   ]
  },
  {
   "cell_type": "markdown",
   "metadata": {},
   "source": [
    "### Get span features"
   ]
  },
  {
   "cell_type": "code",
   "execution_count": null,
   "metadata": {
    "collapsed": false
   },
   "outputs": [],
   "source": [
    "from snorkel.features import get_span_feats\n",
    "\n",
    "%time F_train_span = feature_manager.create(session, train, 'training span feats', get_span_feats)"
   ]
  },
  {
   "cell_type": "code",
   "execution_count": null,
   "metadata": {
    "collapsed": false
   },
   "outputs": [],
   "source": [
    "%time F_dev_span = feature_manager.update(session, dev, 'training span feats', False, get_span_feats)\n",
    "%time F_test_span = feature_manager.update(session, test, 'training span feats', False, get_span_feats)"
   ]
  },
  {
   "cell_type": "code",
   "execution_count": null,
   "metadata": {
    "collapsed": false
   },
   "outputs": [],
   "source": [
    "%time F_train_span = feature_manager.load(session, train, 'training span feats')\n",
    "%time F_dev_span = feature_manager.load(session, dev, 'training span feats')\n",
    "%time F_test_span = feature_manager.load(session, test, 'training span feats')"
   ]
  },
  {
   "cell_type": "markdown",
   "metadata": {
    "collapsed": true
   },
   "source": [
    "### Get mention split feats"
   ]
  },
  {
   "cell_type": "code",
   "execution_count": null,
   "metadata": {
    "collapsed": false
   },
   "outputs": [],
   "source": [
    "from snorkel.features import get_span_splits\n",
    "\n",
    "%time F_train_splits = feature_manager.create(session, train, 'training span splits', get_span_splits)"
   ]
  },
  {
   "cell_type": "code",
   "execution_count": null,
   "metadata": {
    "collapsed": false
   },
   "outputs": [],
   "source": [
    "%time F_dev_splits = feature_manager.update(session, dev, 'training span splits', False, get_span_splits)\n",
    "%time F_test_splits = feature_manager.update(session, test, 'training span splits', False, get_span_splits)"
   ]
  },
  {
   "cell_type": "code",
   "execution_count": null,
   "metadata": {
    "collapsed": false
   },
   "outputs": [],
   "source": [
    "%time F_train_splits = feature_manager.load(session, train, 'training span splits')\n",
    "%time F_dev_splits = feature_manager.load(session, dev, 'training span splits')\n",
    "%time F_test_splits = feature_manager.load(session, test, 'training span splits')"
   ]
  },
  {
   "cell_type": "markdown",
   "metadata": {},
   "source": [
    "### Get key mention"
   ]
  },
  {
   "cell_type": "code",
   "execution_count": null,
   "metadata": {
    "collapsed": false
   },
   "outputs": [],
   "source": [
    "from snorkel.features import get_document_relative_frequency_feats\n",
    "\n",
    "F_train_keys = feature_manager.create(session, train, 'training key ents', get_document_relative_frequency_feats)"
   ]
  },
  {
   "cell_type": "code",
   "execution_count": null,
   "metadata": {
    "collapsed": false
   },
   "outputs": [],
   "source": [
    "%time F_dev_keys = feature_manager.update(session, dev, 'training key ents', False, get_document_relative_frequency_feats)\n",
    "%time F_test_keys = feature_manager.update(session, test, 'training key ents', False, get_document_relative_frequency_feats)"
   ]
  },
  {
   "cell_type": "code",
   "execution_count": null,
   "metadata": {
    "collapsed": false
   },
   "outputs": [],
   "source": [
    "%time F_train_keys = feature_manager.load(session, train, 'training key ents')\n",
    "%time F_dev_keys = feature_manager.load(session, dev, 'training key ents')\n",
    "%time F_test_keys = feature_manager.load(session, test, 'training key ents')"
   ]
  },
  {
   "cell_type": "markdown",
   "metadata": {},
   "source": [
    "### Get title span feats"
   ]
  },
  {
   "cell_type": "code",
   "execution_count": null,
   "metadata": {
    "collapsed": false
   },
   "outputs": [],
   "source": [
    "from snorkel.features import get_first_document_span_feats\n",
    "\n",
    "%time F_train_title_span = feature_manager.create(session, train, 'training title span', get_first_document_span_feats)"
   ]
  },
  {
   "cell_type": "code",
   "execution_count": null,
   "metadata": {
    "collapsed": false
   },
   "outputs": [],
   "source": [
    "%time F_dev_title_span = feature_manager.update(session, dev, 'training title span', False, get_first_document_span_feats)\n",
    "%time F_test_title_span = feature_manager.update(session, test, 'training title span', False, get_first_document_span_feats)"
   ]
  },
  {
   "cell_type": "code",
   "execution_count": null,
   "metadata": {
    "collapsed": false
   },
   "outputs": [],
   "source": [
    "%time F_train_title_span = feature_manager.load(session, train, 'training title span')\n",
    "%time F_dev_title_span = feature_manager.load(session, dev, 'training title span')\n",
    "%time F_test_title_span = feature_manager.load(session, test, 'training title span')"
   ]
  },
  {
   "cell_type": "code",
   "execution_count": null,
   "metadata": {
    "collapsed": false
   },
   "outputs": [],
   "source": [
    "print repr(F_train_span)\n",
    "print repr(F_train_splits)\n",
    "print repr(F_train_keys)\n",
    "print repr(F_train_title_span)\n",
    "\n",
    "print repr(F_dev_span)\n",
    "print repr(F_dev_splits)\n",
    "print repr(F_dev_keys)\n",
    "print repr(F_dev_title_span)\n",
    "\n",
    "print repr(F_test_span)\n",
    "print repr(F_test_splits)\n",
    "print repr(F_test_keys)\n",
    "print repr(F_test_title_span)"
   ]
  },
  {
   "cell_type": "markdown",
   "metadata": {},
   "source": [
    "# Learn gen model"
   ]
  },
  {
   "cell_type": "code",
   "execution_count": null,
   "metadata": {
    "collapsed": false
   },
   "outputs": [],
   "source": [
    "%time L_train = label_manager.load(session, train, 'LF Labels')\n",
    "L_train"
   ]
  },
  {
   "cell_type": "code",
   "execution_count": null,
   "metadata": {
    "collapsed": false
   },
   "outputs": [],
   "source": [
    "from snorkel.learning.structure import DependencySelector\n",
    "ds = DependencySelector()\n",
    "deps = ds.select(L_train, threshold=0.3)"
   ]
  },
  {
   "cell_type": "code",
   "execution_count": null,
   "metadata": {
    "collapsed": false
   },
   "outputs": [],
   "source": [
    "deps"
   ]
  },
  {
   "cell_type": "code",
   "execution_count": null,
   "metadata": {
    "collapsed": false
   },
   "outputs": [],
   "source": [
    "from snorkel.learning import GenerativeModel\n",
    "from snorkel.learning.constants import *\n",
    "\n",
    "gen_model = GenerativeModel(lf_prior=True, lf_propensity=True)\n",
    "gen_model.train(L_train, step_size=0.1/L_train.shape[0], reg_type=2, epochs=15, decay=1.0, reg_param=0.00001)"
   ]
  },
  {
   "cell_type": "code",
   "execution_count": null,
   "metadata": {
    "collapsed": false
   },
   "outputs": [],
   "source": [
    "train_marginals = gen_model.marginals(L_train)"
   ]
  },
  {
   "cell_type": "code",
   "execution_count": null,
   "metadata": {
    "collapsed": false
   },
   "outputs": [],
   "source": [
    "%matplotlib inline\n",
    "import matplotlib.pyplot as plt\n",
    "\n",
    "plt.hist(train_marginals, bins=30)\n",
    "plt.show()"
   ]
  },
  {
   "cell_type": "markdown",
   "metadata": {},
   "source": [
    "# TRAINING TRICKS ON TRICKS ON TRICKS"
   ]
  },
  {
   "cell_type": "code",
   "execution_count": null,
   "metadata": {
    "collapsed": false
   },
   "outputs": [],
   "source": [
    "from snorkel.learning.utils import ListParameter, RangeParameter"
   ]
  },
  {
   "cell_type": "code",
   "execution_count": null,
   "metadata": {
    "collapsed": false
   },
   "outputs": [],
   "source": [
    "from snorkel.learning.fastmulticontext import get_matrix_keys\n",
    "train_embed_xs = get_matrix_keys([F_train_span, F_train_title_span])"
   ]
  },
  {
   "cell_type": "code",
   "execution_count": null,
   "metadata": {
    "collapsed": false
   },
   "outputs": [],
   "source": [
    "from itertools import product\n",
    "from utils import CDRFMCT, CDRRandomSearch\n",
    "\n",
    "epoch_param = RangeParameter('epoch', 20, 200, step=20)\n",
    "lr_param = RangeParameter('lr', 1e-5, 0.1, step=0.5, log_base=10)\n",
    "lambda_param = RangeParameter('lr', 1e-5, 10, step=1, log_base=10)\n",
    "dim_param = RangeParameter('dim', 25, 150, step=25)\n",
    "minct_opts = [1, 2, 3, 5, 7, 10, 12, 15]\n",
    "minct_param = ListParameter('min_ct', minct_opts)\n",
    "\n",
    "disc_model = CDRFMCT()\n",
    "\n",
    "searcher = CDRRandomSearch(disc_model, train_marginals, train_embed_xs, 20,\n",
    "                           epoch_param, lr_param, dim_param, lambda_param, minct_param)"
   ]
  },
  {
   "cell_type": "code",
   "execution_count": null,
   "metadata": {
    "collapsed": false,
    "scrolled": true
   },
   "outputs": [],
   "source": [
    "from snorkel.learning.fastmulticontext import get_matrix_keys\n",
    "dev_embed_xs = get_matrix_keys([F_dev_span, F_dev_title_span])"
   ]
  },
  {
   "cell_type": "code",
   "execution_count": null,
   "metadata": {
    "collapsed": false,
    "scrolled": true
   },
   "outputs": [],
   "source": [
    "from snorkel.models import Corpus\n",
    "dev_corpus = session.query(Corpus).filter(Corpus.name == 'CDR Development').one()\n",
    "\n",
    "D = searcher.fit(dev_embed_xs, F_dev_keys.toarray(), dev_doc_dict, dev, dev_corpus, b=0.5,\n",
    "                 raw_xs=F_train_keys.toarray(), n_threads=4, n_print=10000)"
   ]
  },
  {
   "cell_type": "code",
   "execution_count": null,
   "metadata": {
    "collapsed": false
   },
   "outputs": [],
   "source": [
    "D"
   ]
  },
  {
   "cell_type": "code",
   "execution_count": null,
   "metadata": {
    "collapsed": false
   },
   "outputs": [],
   "source": [
    "disc_model.train(train_marginals, train_embed_xs, raw_xs=F_train_keys.toarray(),\n",
    "                 epoch=160, dim=100, lr = 0.001, min_ct = [10,5], lambda_l2 = 0.01,\n",
    "                 seed=1701, n_threads=4)"
   ]
  },
  {
   "cell_type": "code",
   "execution_count": null,
   "metadata": {
    "collapsed": false
   },
   "outputs": [],
   "source": [
    "test_embed_xs = get_matrix_keys([F_test_span, F_test_title_span])"
   ]
  },
  {
   "cell_type": "code",
   "execution_count": null,
   "metadata": {
    "collapsed": false
   },
   "outputs": [],
   "source": [
    "test_corpus = session.query(Corpus).filter(Corpus.name == 'CDR Test').one()\n",
    "buckets = disc_model.score(test_embed_xs, F_test_keys.toarray(), test_doc_dict, test, test_corpus, b=0.5)"
   ]
  }
 ],
 "metadata": {
  "kernelspec": {
   "display_name": "Python 2",
   "language": "python",
   "name": "python2"
  },
  "language_info": {
   "codemirror_mode": {
    "name": "ipython",
    "version": 2
   },
   "file_extension": ".py",
   "mimetype": "text/x-python",
   "name": "python",
   "nbconvert_exporter": "python",
   "pygments_lexer": "ipython2",
   "version": "2.7.12"
  }
 },
 "nbformat": 4,
 "nbformat_minor": 0
}
